{
 "cells": [
  {
   "cell_type": "code",
   "execution_count": 1,
   "metadata": {},
   "outputs": [],
   "source": [
    "#reading/ writing files"
   ]
  },
  {
   "cell_type": "code",
   "execution_count": 2,
   "metadata": {},
   "outputs": [],
   "source": [
    "f = open('sample.txt', 'w')"
   ]
  },
  {
   "cell_type": "code",
   "execution_count": 3,
   "metadata": {},
   "outputs": [],
   "source": [
    "f.write(\"This is a python class\\n\")\n",
    "f.write(\"This class starts at 09:00 AM\")"
   ]
  },
  {
   "cell_type": "code",
   "execution_count": 4,
   "metadata": {},
   "outputs": [],
   "source": [
    "f.close()"
   ]
  },
  {
   "cell_type": "code",
   "execution_count": 6,
   "metadata": {},
   "outputs": [],
   "source": [
    "f = open('sample.txt', 'w')\n",
    "f.write(\"Python classes will be taught by Nag\")"
   ]
  },
  {
   "cell_type": "code",
   "execution_count": 7,
   "metadata": {},
   "outputs": [],
   "source": [
    "f.close()"
   ]
  },
  {
   "cell_type": "code",
   "execution_count": 8,
   "metadata": {},
   "outputs": [],
   "source": [
    "f = open('sample.txt', 'w')"
   ]
  },
  {
   "cell_type": "code",
   "execution_count": 9,
   "metadata": {},
   "outputs": [],
   "source": [
    "f.write(\"This is a python class\\n\")\n",
    "f.write(\"This class starts at 09:00 AM\")"
   ]
  },
  {
   "cell_type": "code",
   "execution_count": 10,
   "metadata": {},
   "outputs": [],
   "source": [
    "f.close()"
   ]
  },
  {
   "cell_type": "code",
   "execution_count": 11,
   "metadata": {},
   "outputs": [
    {
     "name": "stdout",
     "output_type": "stream",
     "text": [
      "True\n"
     ]
    }
   ],
   "source": [
    "print f.closed"
   ]
  },
  {
   "cell_type": "code",
   "execution_count": 12,
   "metadata": {},
   "outputs": [],
   "source": [
    "f = open('sample.txt', 'w')\n",
    "f.write(\"Python classes will be taught by Nag\\n\")"
   ]
  },
  {
   "cell_type": "code",
   "execution_count": 13,
   "metadata": {},
   "outputs": [],
   "source": [
    "f.flush()"
   ]
  },
  {
   "cell_type": "code",
   "execution_count": 14,
   "metadata": {},
   "outputs": [
    {
     "name": "stdout",
     "output_type": "stream",
     "text": [
      "False\n"
     ]
    }
   ],
   "source": [
    "print f.closed"
   ]
  },
  {
   "cell_type": "code",
   "execution_count": 15,
   "metadata": {},
   "outputs": [],
   "source": [
    "f.write(\"This class starts at 09:00 AM\\n\")\n",
    "f.write(\"It will take around 45+ hours to complete the syllabus\")\n",
    "f.close()"
   ]
  },
  {
   "cell_type": "code",
   "execution_count": 22,
   "metadata": {},
   "outputs": [],
   "source": [
    "f = open('sample.txt', 'r')"
   ]
  },
  {
   "cell_type": "code",
   "execution_count": 23,
   "metadata": {},
   "outputs": [
    {
     "name": "stdout",
     "output_type": "stream",
     "text": [
      "<open file 'sample.txt', mode 'r' at 0x0000000005364780>\n"
     ]
    }
   ],
   "source": [
    "print f"
   ]
  },
  {
   "cell_type": "code",
   "execution_count": 24,
   "metadata": {},
   "outputs": [],
   "source": [
    "data1 = f.read()\n",
    "f.close()"
   ]
  },
  {
   "cell_type": "code",
   "execution_count": 25,
   "metadata": {},
   "outputs": [
    {
     "name": "stdout",
     "output_type": "stream",
     "text": [
      "Python classes will be taught by Nag\n",
      "This class starts at 09:00 AM\n",
      "It will take around 45+ hours to complete the syllabus\n"
     ]
    }
   ],
   "source": [
    "print data1"
   ]
  },
  {
   "cell_type": "code",
   "execution_count": 43,
   "metadata": {},
   "outputs": [
    {
     "name": "stdout",
     "output_type": "stream",
     "text": [
      "Python classes will be taught by Nag\n",
      "This class starts at 09:00 AM\n",
      "It will take around 45+ hours to complete the syllabus\n",
      "\n",
      "\n",
      "\n",
      "\n",
      "08:00 AM \n"
     ]
    }
   ],
   "source": [
    "f = open('abc.txt', 'r')\n",
    "a = f.read()\n",
    "f.close()\n",
    "print a"
   ]
  },
  {
   "cell_type": "code",
   "execution_count": 27,
   "metadata": {},
   "outputs": [
    {
     "ename": "IOError",
     "evalue": "[Errno 2] No such file or directory: 'xyz.txt'",
     "output_type": "error",
     "traceback": [
      "\u001b[1;31m---------------------------------------------------------------------------\u001b[0m",
      "\u001b[1;31mIOError\u001b[0m                                   Traceback (most recent call last)",
      "\u001b[1;32m<ipython-input-27-fe5ebcdc25b1>\u001b[0m in \u001b[0;36m<module>\u001b[1;34m()\u001b[0m\n\u001b[1;32m----> 1\u001b[1;33m \u001b[0mf\u001b[0m \u001b[1;33m=\u001b[0m \u001b[0mopen\u001b[0m\u001b[1;33m(\u001b[0m\u001b[1;34m'xyz.txt'\u001b[0m\u001b[1;33m,\u001b[0m \u001b[1;34m'r'\u001b[0m\u001b[1;33m)\u001b[0m\u001b[1;33m\u001b[0m\u001b[0m\n\u001b[0m",
      "\u001b[1;31mIOError\u001b[0m: [Errno 2] No such file or directory: 'xyz.txt'"
     ]
    }
   ],
   "source": [
    "f = open('xyz.txt', 'r')"
   ]
  },
  {
   "cell_type": "code",
   "execution_count": 28,
   "metadata": {},
   "outputs": [],
   "source": [
    "f = open('sample.txt', 'r')\n",
    "data = f.read()\n",
    "data1 = f.read()\n",
    "f.close()\n"
   ]
  },
  {
   "cell_type": "code",
   "execution_count": 29,
   "metadata": {},
   "outputs": [
    {
     "name": "stdout",
     "output_type": "stream",
     "text": [
      "Python classes will be taught by Nag\n",
      "This class starts at 09:00 AM\n",
      "It will take around 45+ hours to complete the syllabus\n"
     ]
    }
   ],
   "source": [
    "print data"
   ]
  },
  {
   "cell_type": "code",
   "execution_count": 30,
   "metadata": {},
   "outputs": [
    {
     "name": "stdout",
     "output_type": "stream",
     "text": [
      "\n"
     ]
    }
   ],
   "source": [
    "print data1"
   ]
  },
  {
   "cell_type": "code",
   "execution_count": 31,
   "metadata": {},
   "outputs": [
    {
     "name": "stdout",
     "output_type": "stream",
     "text": [
      "0\n"
     ]
    }
   ],
   "source": [
    "f = open('sample.txt', 'r')\n",
    "print f.tell()"
   ]
  },
  {
   "cell_type": "code",
   "execution_count": 32,
   "metadata": {},
   "outputs": [
    {
     "name": "stdout",
     "output_type": "stream",
     "text": [
      "123\n"
     ]
    }
   ],
   "source": [
    "data = f.read()\n",
    "print f.tell()"
   ]
  },
  {
   "cell_type": "code",
   "execution_count": 33,
   "metadata": {},
   "outputs": [],
   "source": [
    "f.close()"
   ]
  },
  {
   "cell_type": "code",
   "execution_count": 34,
   "metadata": {},
   "outputs": [
    {
     "name": "stdout",
     "output_type": "stream",
     "text": [
      "0\n"
     ]
    }
   ],
   "source": [
    "f = open('sample.txt', 'r')\n",
    "print f.tell()"
   ]
  },
  {
   "cell_type": "code",
   "execution_count": 35,
   "metadata": {},
   "outputs": [
    {
     "name": "stdout",
     "output_type": "stream",
     "text": [
      "123\n"
     ]
    }
   ],
   "source": [
    "data = f.read()\n",
    "print f.tell()"
   ]
  },
  {
   "cell_type": "code",
   "execution_count": 37,
   "metadata": {},
   "outputs": [
    {
     "name": "stdout",
     "output_type": "stream",
     "text": [
      "10\n"
     ]
    }
   ],
   "source": [
    "f.seek(10)\n",
    "print f.tell()"
   ]
  },
  {
   "cell_type": "code",
   "execution_count": 38,
   "metadata": {},
   "outputs": [],
   "source": [
    "data1 = f.read()\n",
    "f.close()"
   ]
  },
  {
   "cell_type": "code",
   "execution_count": 39,
   "metadata": {},
   "outputs": [
    {
     "name": "stdout",
     "output_type": "stream",
     "text": [
      "Python classes will be taught by Nag\n",
      "This class starts at 09:00 AM\n",
      "It will take around 45+ hours to complete the syllabus\n"
     ]
    }
   ],
   "source": [
    "print data"
   ]
  },
  {
   "cell_type": "code",
   "execution_count": 40,
   "metadata": {},
   "outputs": [
    {
     "name": "stdout",
     "output_type": "stream",
     "text": [
      "sses will be taught by Nag\n",
      "This class starts at 09:00 AM\n",
      "It will take around 45+ hours to complete the syllabus\n"
     ]
    }
   ],
   "source": [
    "print data1"
   ]
  },
  {
   "cell_type": "code",
   "execution_count": 41,
   "metadata": {},
   "outputs": [
    {
     "name": "stdout",
     "output_type": "stream",
     "text": [
      "100\n",
      "100\n",
      "102\n"
     ]
    }
   ],
   "source": [
    "def myfun():\n",
    "    return 100\n",
    "a = myfun()\n",
    "print a\n",
    "print a\n",
    "print a+2"
   ]
  },
  {
   "cell_type": "code",
   "execution_count": 42,
   "metadata": {},
   "outputs": [
    {
     "name": "stdout",
     "output_type": "stream",
     "text": [
      "\n"
     ]
    }
   ],
   "source": [
    "def myfun():\n",
    "    return 200\n",
    "myfun()\n",
    "print \"\""
   ]
  },
  {
   "cell_type": "code",
   "execution_count": 44,
   "metadata": {},
   "outputs": [],
   "source": [
    "f = open('sample.txt', 'r')"
   ]
  },
  {
   "cell_type": "code",
   "execution_count": 45,
   "metadata": {},
   "outputs": [
    {
     "name": "stdout",
     "output_type": "stream",
     "text": [
      "['Python classes will be taught by Nag\\n', 'This class starts at 09:00 AM\\n', 'It will take around 45+ hours to complete the syllabus']\n"
     ]
    }
   ],
   "source": [
    "da = f.readlines()\n",
    "f.close()\n",
    "print da"
   ]
  },
  {
   "cell_type": "code",
   "execution_count": 46,
   "metadata": {},
   "outputs": [
    {
     "name": "stdout",
     "output_type": "stream",
     "text": [
      "It will take around 45+ hours to complete the syllabus\n"
     ]
    }
   ],
   "source": [
    "print da[2]"
   ]
  },
  {
   "cell_type": "code",
   "execution_count": 52,
   "metadata": {},
   "outputs": [
    {
     "name": "stdout",
     "output_type": "stream",
     "text": [
      "Python classes will be taught by Nag\n",
      "\n",
      "<type 'str'>\n",
      "This class starts at 09:00 AM\n",
      "\n",
      "<type 'str'>\n",
      "It will take around 45+ hours to complete the syllabus\n",
      "<type 'str'>\n",
      "\n",
      "<type 'str'>\n"
     ]
    }
   ],
   "source": [
    "f = open('sample.txt', 'r')\n",
    "while True:\n",
    "    line = f.readline()\n",
    "    print line\n",
    "    print type(line)\n",
    "    if not line:\n",
    "        break\n",
    "f.close()"
   ]
  },
  {
   "cell_type": "code",
   "execution_count": 50,
   "metadata": {},
   "outputs": [
    {
     "name": "stdout",
     "output_type": "stream",
     "text": [
      "None\n"
     ]
    }
   ],
   "source": [
    "print None"
   ]
  },
  {
   "cell_type": "code",
   "execution_count": 51,
   "metadata": {},
   "outputs": [
    {
     "name": "stdout",
     "output_type": "stream",
     "text": [
      "None\n"
     ]
    }
   ],
   "source": [
    "a = None\n",
    "print a"
   ]
  },
  {
   "cell_type": "code",
   "execution_count": 53,
   "metadata": {},
   "outputs": [],
   "source": [
    "f = open('add.txt', 'r')\n",
    "data = f.readlines()\n",
    "f.close()"
   ]
  },
  {
   "cell_type": "code",
   "execution_count": 54,
   "metadata": {},
   "outputs": [
    {
     "name": "stdout",
     "output_type": "stream",
     "text": [
      "['10 11 13 14\\n', '10 10 20 20']\n"
     ]
    }
   ],
   "source": [
    "print data"
   ]
  },
  {
   "cell_type": "code",
   "execution_count": 55,
   "metadata": {},
   "outputs": [
    {
     "data": {
      "text/plain": [
       "['10', '11', '13', '14\\n']"
      ]
     },
     "execution_count": 55,
     "metadata": {},
     "output_type": "execute_result"
    }
   ],
   "source": [
    "data[0].split(' ')"
   ]
  },
  {
   "cell_type": "code",
   "execution_count": 56,
   "metadata": {},
   "outputs": [
    {
     "name": "stdout",
     "output_type": "stream",
     "text": [
      "[['10', '11', '13', '14'], ['10', '10', '20', '20']]\n"
     ]
    }
   ],
   "source": [
    "data = [x.split() for x in data]\n",
    "print data"
   ]
  },
  {
   "cell_type": "code",
   "execution_count": 57,
   "metadata": {},
   "outputs": [
    {
     "name": "stdout",
     "output_type": "stream",
     "text": [
      "['1010', '1110', '1320', '1420']\n"
     ]
    }
   ],
   "source": [
    "print [x+y for x,y in zip(data[0], data[1])]"
   ]
  },
  {
   "cell_type": "code",
   "execution_count": 58,
   "metadata": {},
   "outputs": [
    {
     "name": "stdout",
     "output_type": "stream",
     "text": [
      "[[10, 11, 13, 14], [10, 10, 20, 20]]\n"
     ]
    }
   ],
   "source": [
    "da = [[int(x) for x in y] for y in data]\n",
    "print da"
   ]
  },
  {
   "cell_type": "code",
   "execution_count": 61,
   "metadata": {},
   "outputs": [],
   "source": [
    "res =  [x+y for x,y in zip(da[0], da[1])]"
   ]
  },
  {
   "cell_type": "code",
   "execution_count": 62,
   "metadata": {},
   "outputs": [
    {
     "ename": "TypeError",
     "evalue": "writelines() argument must be a sequence of strings",
     "output_type": "error",
     "traceback": [
      "\u001b[1;31m---------------------------------------------------------------------------\u001b[0m",
      "\u001b[1;31mTypeError\u001b[0m                                 Traceback (most recent call last)",
      "\u001b[1;32m<ipython-input-62-98d34ec5de88>\u001b[0m in \u001b[0;36m<module>\u001b[1;34m()\u001b[0m\n\u001b[0;32m      1\u001b[0m \u001b[0mf\u001b[0m \u001b[1;33m=\u001b[0m \u001b[0mopen\u001b[0m\u001b[1;33m(\u001b[0m\u001b[1;34m'res.txt'\u001b[0m\u001b[1;33m,\u001b[0m \u001b[1;34m'w'\u001b[0m\u001b[1;33m)\u001b[0m\u001b[1;33m\u001b[0m\u001b[0m\n\u001b[1;32m----> 2\u001b[1;33m \u001b[0mf\u001b[0m\u001b[1;33m.\u001b[0m\u001b[0mwritelines\u001b[0m\u001b[1;33m(\u001b[0m\u001b[0mres\u001b[0m\u001b[1;33m)\u001b[0m\u001b[1;33m\u001b[0m\u001b[0m\n\u001b[0m\u001b[0;32m      3\u001b[0m \u001b[0mf\u001b[0m\u001b[1;33m.\u001b[0m\u001b[0mclose\u001b[0m\u001b[1;33m(\u001b[0m\u001b[1;33m)\u001b[0m\u001b[1;33m\u001b[0m\u001b[0m\n",
      "\u001b[1;31mTypeError\u001b[0m: writelines() argument must be a sequence of strings"
     ]
    }
   ],
   "source": [
    "f = open('res.txt', 'w')\n",
    "f.writelines(res)\n",
    "f.close()"
   ]
  },
  {
   "cell_type": "code",
   "execution_count": 63,
   "metadata": {},
   "outputs": [
    {
     "name": "stdout",
     "output_type": "stream",
     "text": [
      "[20, 21, 33, 34]\n"
     ]
    }
   ],
   "source": [
    "print res"
   ]
  },
  {
   "cell_type": "code",
   "execution_count": 64,
   "metadata": {},
   "outputs": [],
   "source": [
    "res = [str(x) for x in res]"
   ]
  },
  {
   "cell_type": "code",
   "execution_count": 65,
   "metadata": {},
   "outputs": [
    {
     "name": "stdout",
     "output_type": "stream",
     "text": [
      "['20', '21', '33', '34']\n"
     ]
    }
   ],
   "source": [
    "print res"
   ]
  },
  {
   "cell_type": "code",
   "execution_count": 66,
   "metadata": {},
   "outputs": [],
   "source": [
    "f = open('res.txt', 'w')\n",
    "f.writelines(res)\n",
    "f.close()"
   ]
  },
  {
   "cell_type": "code",
   "execution_count": 67,
   "metadata": {},
   "outputs": [
    {
     "name": "stdout",
     "output_type": "stream",
     "text": [
      "20 21 33 34\n"
     ]
    }
   ],
   "source": [
    "res = ' '.join(res)\n",
    "print res"
   ]
  },
  {
   "cell_type": "code",
   "execution_count": 68,
   "metadata": {},
   "outputs": [],
   "source": [
    "f = open('res.txt', 'w')\n",
    "f.write(res)\n",
    "f.close()"
   ]
  },
  {
   "cell_type": "code",
   "execution_count": 69,
   "metadata": {},
   "outputs": [],
   "source": [
    "f = open('1.png', 'r')"
   ]
  },
  {
   "cell_type": "code",
   "execution_count": 70,
   "metadata": {},
   "outputs": [
    {
     "data": {
      "text/plain": [
       "'\\x89PNG\\n'"
      ]
     },
     "execution_count": 70,
     "metadata": {},
     "output_type": "execute_result"
    }
   ],
   "source": [
    "f.read()"
   ]
  },
  {
   "cell_type": "code",
   "execution_count": 71,
   "metadata": {},
   "outputs": [],
   "source": [
    "f.close()"
   ]
  },
  {
   "cell_type": "code",
   "execution_count": 72,
   "metadata": {},
   "outputs": [],
   "source": [
    "f = open('1.png', 'rb')\n",
    "image_data = f.read()\n",
    "f.close()"
   ]
  },
  {
   "cell_type": "code",
   "execution_count": 73,
   "metadata": {},
   "outputs": [
    {
     "name": "stdout",
     "output_type": "stream",
     "text": [
      "�PNG\r\n",
      "\u001a\n",
      "\u0000\u0000\u0000\r",
      "IHDR\u0000\u0000\u0000�\u0000\u0000\u0000�\b\u0006\u0000\u0000\u0000�X��\u0000\u0000\u0000\u0001sRGB\u0000��\u001c",
      "�\u0000\u0000\u0000\u0006bKGD\u0000�\u0000�\u0000�����\u0000\u0000\u0000\tpHYs\u0000\u0000\u000b",
      "\u0013\u0000\u0000\u000b",
      "\u0013\u0001\u0000��\u0018\u0000\u0000\u0000\u0007tIME\u0007�\t\u0012\u0001\u0013\u0005��&\u0015\u0000\u0000\u001e",
      "\r",
      "IDATx��yx\u001b���Y�ڲ�,��CℸiC�@\u0002�$���@X۲�\u0017([�[��]�mK�R�\u0000-e�Kٷ\u0000�!��)[v\u0002\tq�\r",
      "\u0012;�c;�lk���\u001f\u001aE#i$�H#i���<~�H\u001a[��7��;�}\u0000�D\"�H$\u0012�D\"�H$\u0012�D\"�H$\u0012�D\"�H$\u0012�D\"�H$\u0012�D\"�H$\u0012�D\"�H$\u0012�D\"�H$\u0012�D\"�H$\u0012�D\"�H$\u0012�D\"�H�%�NA��o>�1S>H\u0004H��@\u0000 *��<�2\u0000\t@X��\u0000\"@,y�8\u0000�\u0002A\"(\u001c",
      "\u0000\u001b\u0000\u0007\u0000�\u0002�Y\n",
      "\u0001\b\u0002\b(��\u0014`D\u0001b\t��tJ�S`8R��\u0001�|�R��\u0003����[C8�kwT\f",
      "8Z�¢`w\u000e\u0015l�\u001a0��At�\u001b\u0000�1�xeL\u0019�\f",
      "��\u0001R��(K�\u0017``��\r",
      "��7�\u0018\u000e�{�2&�ywmm����-\tpH\u0000|�gY�A�P\u0004�\u000b",
      "\u0018Q8\u001c",
      "�g\u001e",
      "\u0000_?��ѕC�f��+'���q��Y��'2�U\u0003]\r",
      "\u0000c�Q�XZ8\u0000�\u0018Cѯ�g&�V\n",
      "�\u001b�p�%����ۺ����޷X�6a�s�kF�\u0010 fF�h��\u001c",
      "<a�Ѓg�d��j�T{y��\u001c",
      "�{�#�j\u0010���0�M�C�L�����%m��?����X\u0007�G�\b*�H\u0004\t\u0001�-\u0018\"\u0000���|��G�\u001b~���\u0001sc�7a�&\r",
      "�\u0014�>-\u001c",
      "�\b�\b�~8��b\f",
      "!������mZ�ȿ\u0001x\u0001t\u0003�+Q� !@t+\u001a1\\\u0000�M<�Ɖ5���E�;\u000f�\u001b�)��\u0006��\u001c",
      "���HL�X\n",
      "8��\t���4���M�W�(��\b\u0012\u0002D�x%�r\u0001��y�\u000b",
      "7�\r",
      "���e(�3¡9��Ñ\u000e6=pD_˘��6o���/ܹ\u0010@\u0017�^J�R_-I18D\u0000e\u0000<��z�!Wՠ\u000b",
      "��\u0001��Y��\n",
      "Q��\u0016\u000e$C\u0007�s8<\u0003N���={���QU�\u0013 \u0004H�H*FӪco�\u001e",
      "g�A簌Et�A�u�ւ\u0003ɟ5��tp�=�\u0001�\n",
      "b{Y�ٕ�&���r�:�l`��\u0000I�ZU\u001c",
      "v�\u001d",
      "�����=\u0019\u000e��ұJ\r",
      "Gb���X��\u001b7�S�\u001fi��p�c\u000eO�Y\u0015�u;Z7�g+b�'\u0004�j`�Tv�C��\f",
      "Lc� �c�\tG�\u0011��s���M\u0007sR�I�{+��������\"6�I\"@���\u0001��~z�\u0004��vU>�� �w6a��\u0015'��q�h\u0019?\u001c",
      "�\u000b",
      "�s;|�v�s\u001d",
      "걜����\u0004�:I\u000b",
      "f��TO>�>\u0005\u0010�r>��\u0001���SM����O�\u0004G��\u0013\u0015�\u001d",
      "x�7�vP��\u0003=��_�˻k��8\r",
      "8T58CZ�*\u0015\u001c",
      "�iZ&�*�DЊ0�A�;�ԝv���o>�>\"\u0013�2\r",
      "\u000b",
      "� �IA;�2��<*i�C���R\b\u0015�\u001d",
      "x�K5�\u0000�\u000b",
      "O9\u0006��=\u001d",
      "]{�'�E�s\u001d",
      "�#�\u0019�À\u0013�\u0019:�j\u0000n%�P\u0004!@�\"�M�9ƥ�\bl�f=��p>*�\\i\u000f6o�T�\u001a7\u0000�\u0014�5סye7��e\u001aE��q��`wN\u001d",
      "~��a~{>\u0001��u�q��f*�����#Q�8\u001d",
      "�m-�p$�u�s�lb\u001d",
      "E�!8b��r��i���s\u0004\b\t\u0000�oظ\u001a�8xU�8�ۅ�q#t\u001fo��Z88��Y#s\u001d",
      "Z�\u0002�\u000e\u000ed�\u0003\u0000l�i�b�\u0000!4���$�3�\u0014�P��#�15�s��`��:��C��\u0019�����\t��:�\u0000!!�\\�hw��m͆\u000e�f랼�uh;Qi�c�M�Z�\u0018\u0018�\tB-b��P\r",
      "B� }�> �]X��E�ᖯ�\f",
      "��</s\u001d",
      "\u0019����P��\u0003�#\u0011ǋ5�Z\u0011 �|0�����-�X�~���=�ƿPVU�z\u0010��\n",
      "9�u@3��*M#\u0011 I�)C�z��Cp�\u0013\u000b",
      "Ѽ�=�n��\"�t����6Ńι\u000e�N���偯\t\u0014\u0002\u0004i��Zp�F�\\u\bι�I��dy�!������Ųm~8ʫ2w�\u0016a�#.��ۥ\\¢V\u0013͊\u0017I�\u001d",
      "���\u000b",
      "\"�5\u0013�Т�x���8�6�ly{|��\u001e",
      "DY�j�*ŤKs�[׍ڹ\u0004\u0007\u0001b�\u00061к�,�\u0002��ᛀ�\u001a�\u0012��:��Ts\u001d",
      "9��k���j\u001e",
      "���O�\u0014+m\u001d",
      "����,�:��(cp$:bq��Zi\u001d",
      "�\u0000I�h�]�\r",
      ",Ӄ\u0014p0\u0003s\u001d",
      "\u001a���u�\u0017�i�Oak�\b���ah�\u001e",
      " UƓm�zRt�0סY>1��F*[�D�h���k�\u001e",
      "#�\u0018yl]�\u0011;�i0���&\u0011 \t�\u0012�f$O����u�:]Ի\\\u0011�\u0000I&�K?�t.�S��u�vF/\u0017�\u0000�RXp�\u0003�]�G�\\�o뺦\u0013�2;w��̂�\u0001\"7\b9Q�\u001b�8\u0000�q�_􀺩OC��Ϣu]�c�q�5\u000b",
      ".\u001d",
      "\u000f`\u000f�N���r\"\u0001\u000e\u000e����\u000b",
      "9\u0017��\u0003\b\u000b",
      "6G�(\u001c",
      "��R6phfY��\u0013��\t#@�\u000f\u0004��\u00066����mԘغ�i�#�I1�\u0010��Yf,\u0003���\u0015#@̅C��St�����o\u001c",
      "\u0000�\u001c",
      "���n]��z����p r�m.�g�W!$�zE��\b�z�'\u0011�m�\u0013\u000e\u001a�0g��3��������\u001a^��\u0018ݒ@�c��U��Һ�w���\"�\u0003`_��9���6��l�q�ļݽ�Ǝ���w\u0016my���>�\n",
      "������\u0018�z$\u0011�\u0000\u001c",
      "\"T;<!�~���\u0013OsV\f",
      "���-\t4�(cph�@Vn]�n�����v\u0007����\u0004��Tz\u001c",
      "\r",
      "�\u001e",
      "G�/�k�O/9�~��v�uƼW^Ado�n�v�b\u0004�q8l\n",
      "\u0014e\u0000�&_x��\u0003�6\\)8�S2\r",
      "�\u0014ɽ�U׵l]���f�u \u0015\u001c",
      "Y���]`[%Yf&��\f",
      "N�P}̴ڻ:��8��?}~�\u001f\u001fYդ:љ��&@\u0012�\u0010\u00148<�'\u001c",
      "Y]?]�\u0006�����i�u\u0018X�$�s\u001d",
      ",׹�,V�χ�\u0010wn\u0019*�mS~w���F\f",
      "�\\tխKW+p��\b�hQ8DD�$<\u0013Ϻ�a�\u0013\u0016�X�4\u001b��ژ�m]G����b�#�1�W8��\u000b",
      "<<��?�iI�~~���>Ip�,�n�\u0016�CP�pן~�\u0011æ��\u001c",
      "/���\u001e",
      "?tlI�0~�Z�z�����\\�l�4װ���bc?\u0001\u0016���\u000b",
      "럚;gd��-Xn�\u0005ނp�\u0001T�ϻ��#���i��=iw�M;(��a6�l)b��4-ǝv�\u00115�*\u0018\u001c",
      "�]S�E��(p��>t�J��Ŗ<�Z\u0004\u0011\u0000�\u0006�\u001fU3bڏ��x�\\�e�e���v�˭�E�#1j��\u001e",
      "I����M^��̳�\u0018Ex�E\u000f\u0007��I?��\u0011��=��8�\u001d",
      "f�l]��p�\\�z�\u0016��E�T�Ț���U�~�)��(c�2Q�J��\u0000\u001c",
      "3o~�\"�\u0019�q��l�s�Y��\\G�[���X�\u001a�A�q�����\u000f�\b��`\u0002$q�cؔ\u0013\u0007�\u000f��&�\u001e",
      "�Uv�-T�z��`\u0000���\u0011�}B\u001b�\n",
      "�ꁮ3�4�F�h�Wu']|1��\u000b",
      "5\u001b��\u0001���0����L�sY\u001e",
      "��\u0014�m�\u0014�%�&�q\u00196���쭹'Z)��-\u0000\u0007\u0007�Y3iV��Suq�\u001e",
      ";W�e[����\u001d",
      "fYn���غn^Q�Ͼ5\u001e",
      "Ub�\u001f;��l\u0000\u001e",
      "\u0005\u0012�ؐ�\u0016�\u001e",
      "΃g��D\u000e�';;\u0017\u0006�\\k�0�z�ļ�uS�0`�\u001a+�c�UU؎=���UVq��\"��+���ݿ�ؔp�bc���,����0k4M+����}��p����K\u000e�\n",
      "�lEm�\b\"\u000e\u001a?m��,��r��`�z.��h\u0016�̄��\\Z�M8\u000f�q��-I\u00111\u0007�6�k������fY\u0005\u0010�\u0002�\b#�<mZV\u001e",
      "�ƈ.��u����d)Ԣ:\u0018ׯ��Ѫ\u0015��F�#\u0015?����s�˄#�̂G�y��b\u0004\u0001\u0000�\u000f\u001a>%+��\u0019X��Ϸ�g��o<��ND�j\u0001�>���P��-K\u0003K�K\u0014�a�]U?^�f���es�י��G�r�:\n",
      "Һ.���\u0010i=\u0007��~\u0015��ڷ�̕�<�f�\u0015�^��`D\u0017\\��β��\u000b",
      "b\u000e\u001e",
      "?����]M\u001f r�\u001f\u0007�Y�\u0016��b\u0001ټ�z�s�\u0015�b� \u0002\u0000��K}�\ts\u001d",
      "Ժ\u001e",
      "��d���\u000f�ؠ\u001c",
      "U����\u000e�۸��Ew\n",
      "\u0010�\n",
      "s\u0018�e`{\u0003b+��,�Pr\u0011��\u00180� ��f�u�l]��2=y��\r",
      "uw��\f",
      "D\u001e",
      "��\u0013F���*�7j �\u001d",
      "���e.�N�A|�_*�dj\u0010\u001e",
      "� �]�����o]7a�Y�N��J�:c����W�Ad�\u0011\u0001��vHٌx�V�ɾM\u000f[���x��\u0019(r�I�m�H�^��u\u0013v��\u000e��\u0007:v��ܶ�U�ֱ���q:�j3�۔Q#Ed\u001a��>B�f��<\b\u0004���ϴ��1בc\u000b",
      ">�s���Ɨ��oJqn;�\u0011���4�\u0017Ƀ�\u0004X\f",
      "�~@����㳨���~��Z��]��xa\u001e",
      "n���\u0017.\u0006Ы���\u0007�<�B���N�o�\u0015ن]�̰T\u001f�h(i�w蔓�\u001b�sS�u���\f",
      ";�\u0016�u��ΎM�/�hZѢ\u0014����:qژQ�W�˾�\u0005��3���)v\u0004�\u0005\u0007\u0000Q\n",
      "�ł/�S��uX�u]\u000e\u00077�7~z��K��\f",
      "�e@�sO=d�I��?j����V�ĉE��t\u0001�\u0001p;<U3\f",
      "{�Ժ��? �m~�����vɳ�(6���G\r",
      "��\u0019/\t\u0002<F�osoug)a���ўR\u0003\u0004�mg��a���,\u0007;����KAߪέk.����7w4�ة�/�O�9l���g��v\t�\n",
      "aߦ�'\u001e",
      "��2��d��|���m��>Һ\u000eD��C>��\u001d",
      "\u001b^ݱ�uJ:\u0015V.R�'�1��S\u000f���%�\u0015ʾ5�z�( �h��׺^�\u001d",
      "f�`�p��5��L���;�l�z.�Ey�Bt�Ei�\u000b",
      "��ҜE�X����\u001a;6��*\u0005���$ \u0010�|��]t�\u0019�u�o\u0017\u0004�SH�V?l�WQ\u0001\u0011��u浮��Y&�ް�gQ�\u001d",
      "\u001f��ǽ\u001f)\u0003/��2��Ma�-Ne�p\tƈ\u0000�q�Շ���\u001f��Sn����\u0018�oM�E��A\u0003l�\u0000>,�\u0014���L����=/l_�\u001d",
      "[V7�`��\u0014�5�\u0015��Fl})\u0001��Ǐ�q��Ag�\u000eq�-�}k\u0004\u0016Q@e�F\u0010)\u0018h\u0011\u001d",
      "n˴�3�4-���ֶ�������nĖ�\u0017\u0010�\u000f\u0012����\u0013\u001c",
      "X�\u000f�{���\u000e���q�&\u000f�U3�=�a\u0017���\u0005�i:�\u0019�R�A���\u0016���2���bA�eo׷\u001bn]��o\u0017\"2�\u001c",
      "T��\u0006�w�\u0001�^:���C+�\u0006\u000fr7��g~#m|q�<И,s��8���\u0017xum����g\u0001��,��(�\u001aD�\\\u0007\n",
      "ں.�C\u001b�?{��\u001d",
      "\u001f��U�>�\u0001���\u001fNo��Y��>��g�Ewc�\u000e*��џ3\u0016\u000b",
      "f\u0007�o�v��\u0006\u0001��\u001f�n\u0004�9ubc��u)\u001c",
      "�дp�ym��G�/\u0004\u0000�ů�u��IC���ۧ\u0016�2R4G)��\u000b",
      "\b[�\u001e",
      "�ǥ\b�\u0004 ,������,v�E�Y����P˦�\u001f���ie\u000b",
      "�\u0019f\u0000�M����1���(\u000e\u0018�q�̵o\r",
      "�R̩�\"eV!\u0000�a�*�,�#�r��5\u001f\\�޴�UI�\\'�\u001a5j���\u001f�\u0004\u001c",
      "F[9LY<AO��۪�q7a�]\u0010�t\"H�\u001a\r",
      "I�`�\u0016\u001c",
      "H9ב��u߾�\u000b",
      "���*ťr\u0001���)�z��c�a{[�Q2Ѿ�\u001b�&��te�E�\u0003�aՓ�4jA��\u000e��{�����Z��MWl\\\u0001@�ε��]����\u0010(�xC����ξ�6�Ȧ\u0015����/\u001c",
      "'�C-�\\��1�u���)n�\u0004����g̩\u001d",
      "R>�pQ�\u0010\r",
      "�f��\n",
      "\u0002[�7���\u0001aR(�bv뺑ez\u0002]��ݶ��uJ]�͝s��G���xQ#��*��\t��oհ!g�z}�b���G�`w�J�[���uD���톷\u0000�D�ǃwϸH\u00108O��0:0\u0013S\u0011]En1`�s�mO[pc)G\u0010\u0019@8���U�Zי\u0014nnz��e�̔��6�ߨ���\u001f\f",
      "Y��B�s��\u0005\u001b3\u0015���>ElM��\u0002�@��w϶U�j]\u000f�v-V�\u0000\bw�0��F�L��l�}[\f",
      "ؘi�Ia����6�RՆ��\u0000�\u0001�7����L���n]\u0007\u0003|�V(�\u0000\u000e�}hu��)���(�\t\u001b�\n",
      "[GWh%b7wɥ\u0006H4Œ\u0001�C~��b��޲�刵�8<��9��oY\u001f�o\u000b",
      "\u000f[ӷ�\u001f*ƉT�)Vܥ�߹oeJ8��sY��4T�ulY�U\u001e",
      "�\u001f`N}q��,�����,\u0003�\u0003O5��H\u0007uQoB��\u0006:���\"�ez��\u0015�k4���F��0� �'�Q�\u0010�R��1\u001d",
      "�!�y{^�`�nX�.M+D�p�?���@\u001d",
      "�s�#1%5��,K^�o��M�;l[w�\u0017'\u0014�T\u0001����\u001b�u��2i�u�_�\u0007ک����[s`\u0003��񝋔��&|���\u0001��g�7\u001f�g����>ٷ��oӷ�\u0003\u001d",
      "]�W_��V��I,���e$���| K��B��N��U`�i�Wݯ)�U��#H\\\u001d",
      "\u0002 ��l}�`���|�ɾ5\u0007���!�2����!~�\u0018�z\u0004a�\u0015ûe�3Oʲ�ͥu]���̬�A�mv�%k���\u000b",
      "\u0014k�\u0012���\"�\u0004 �o����=��Һnh�u�o\u000b",
      "jߦ3G$�y��d��-�D�$@\u0012\u0002�۲�駘,{M�aV�ņ�?ٷ�ÖZ+����\u0002G\u0010E���ꀄ\u0001��6�ؽ��\r",
      "7'\r",
      "b�;�jO\u0018jD\"f\u0004��f��m*����i?]�*\"\u000b",
      "eX���\u001a �r\u0005�Z�����;�>��\u000e��W]g\u0006�\u0006`ھ\u0018\u0005�M6Ѿ�)�m:����_\u0003؏�\u001a�aXH�����'\b��|�\u0015�\u0006:��g�&�L3�dg�2\u0013�\\�\u0001�6\u0017�2k���\u0007.�c�\n",
      "DnZ\u000b",
      "X)zX\r",
      "��ܣѾ|��\n",
      "x���m�\u001a�a������1�ڷ�Բ7�v�9_<��C�\u0012\u001c",
      "V\u0004$�j\u0005\u0015H�/�ٯ|�\u001f1}�Yƾc��U`ӧ�m�7kg��5\u0000/,еۗ\"�zK�n\u0000�W���?vl^}�\u0014�-74סqKnB�\u0015�\u0015ٷ9Y�̼���^6����%�\u001d",
      "�բ\u0007P��A2B\u0012u5\u0002\u001b^�o1�O�N����\u0011��\u000e�q�w��K�8�\n",
      "�\\r\u0014I���;����ק:G:��0۹�\u001b߳�<����o�r\u0001��1(Y\u0011\u000e+\u0003��~�[��\u0001�\u001a�zh\u0011��\u00018Ɯr��e�FN\u0001\u0018x��F\u0010\u001d",
      "5�\u0011#�\u001e",
      "\u0013�!)�ߠ�{��R\u001e",
      "aIx~���j�\u0003�\u0003�X�}�F���\t���\f",
      "���Z�Z�+\u0001�m���%���d�6���Al��\n",
      "�\u000e�Y@\u0012b����\u000f�\u000b",
      "�شpA\u000b",
      "�7�<�z߾���f��yf��j����^?Oy~���Y��r�ð����\u0001@��ٰ�\u000e�L8&\u0003���y�QXry��h�k\u0001@Ln{�~�諀$���lE��\u0000t��+W7\bKlOA�H�D������\u0001��\u00001�\u0004s���w��\u0019��KN���\u0012\u0002\u000e\u001b\u001f��u��12�f8E�9���?~\u0000��\t�\u0012�\b��@)��t��+ss�LI\u0003\u001fSR�@�E�\u0000)Q>\u0018ٷ��;�4��E�h֒Y�V9ٿ\u001a\u0003W\u0013����<�\u0005\u0002$M��'}�\u0015\u0016��F\"@R\u0001��=�Sn]f\u0015�H\u0004HZo�Ps\u001d",
      "V��D�d�b�*ĳ�+�\"l$\u0002$/)�\tEr�=ĳ�-\u0018���q\u001c",
      "`\u00139�\u001a\u0004��)VN�mq`��2�}\u000e��x8j\u000e\u0003/�#�߅��e\u0010z�\u0003O\u0019GQ�\u0000)@�eA�6\u0014���\u001f��I�\u0001/�\u001fxGv\u0000��\u0011�6���+QU�\u000b",
      "����\u0011�ߝ�b%�b�~n���x�,1x�Cѯ��qp�e�A��\u0016���M�f\u0002$�(b��J2���\u0013B���d|g6�\u0018؇_�`�R,\u0002$�\u0014\u000b",
      "�e\u0016O�\f",
      "�\\v$\u0004g��w�>\u0019�>\u0002�\u0000Ɋ���x\u0002�\u001e",
      "c�m\n",
      "\u0015��}��[ZI�<\u0001��\u0015�ښM[<\u0001�\\<�\\q܁M�$\u001a\u0015\u0004HT�=\u000f��!I�7�J%�\u001f\u0005��k�f�M\u000e\u0019�IN\u000e�J��/ ��\u0002�(�hR�D��a\u0000����gq �9J�1X��;\u0014s�ͻL��\r",
      "v����N��oZ\u0002��B\u001b�\u0010 ր$\u0004�����Wu;J,\u0017��<�\\�n��xI�\u001b���\u0004���\u0013!�ļS���\u0003Xl\u0001i\u0002����\u0001��8}ѻ���l���վ�\u001a6�n�\u0010n�3zw���M��p/ʱ6�D������\u00066�\u0016�5�p�8�\u0007���\u001d",
      "U>��B=�ɲ�����o]\u0006_�.�<c�����ʻ�^����ݖ��@Pn���ͷl��kUj\u0010*ґ۲9��h�\u00040`�ǧ�;t���\u00039GX��}+I�?�\u0010懀wTC�m���ە���ʢ}?;���\u000f\u0001�ỵ&\u0017\u0001b⹰\u0001�\u0000Pٻ���.�0�P�m���\u0007,���m����]}?�ND\u0016��\u0002�R��\u0017\u000b",
      "�as�⹳�̰ٸ����^ 8��\u0006�9��Uw+`�\u0012\u001c",
      "\u0004H&�\u0000�[��5\u001b��k�\u0011\u0007\r",
      "�(\u0013��\u0016f���OKWt���yk�\f",
      "�]��r\u001b�P�e�s�#r+@\u0005��u\u000b",
      "g^r�!�W\b<<�Z�3=�HQ#\u0010�[�����snl\\�D�.Xx\u000b",
      "\u0002� �TtF.���n_�r\b�M\u001c",
      "�����՚�H\u0015n�;���ۭ7��Ȏ/\u0011ٛ�r\u001bgR\u0004�;�FP>l��U�⃓f�<c�e�2aJ��[3ն?�ڂ\u0017w���\u0005�nV�\b\"�s%\u0011\u001c",
      "\u0004H.�'���\u000b",
      "@?\u0000�cwO�pƜ��WU��\u000f�^\u0016[<!\u0014b�;�\u0004޸�mO��Q{�Rg�T`�y�\u0003\b��:O�\u0002�C�l\u0003�;k��.\u001e",
      "y|�H��U\u0015�dA�\u0006\u0016S�]-{�K�Z���uضN\u0005�\u001fɳ�\u0004\u0006\u0001�\u0017P��|4��~�^�S���c�\u000e\u001f2��PY.4�\u0010\u000f\u0004�]�^i�����/����}O67��D�O��D�|7ϝ\u001a�((��3��G�g\u000e�q|���\u001f��#֕���H�1�^���\u001b�Z�:;v\u00076|��w�\u001d",
      "�݄�6\u0005�\n",
      "�D \b\f",
      "\u0002���\tQFDdq\u001154\u0000��O��\r",
      "��\u001d",
      "\u0000��B\u001c",
      "�r��\u0001�eo�c�/�pꚕ\t�S\r",
      "�:mJ�ɉ� @,{>�i\u0018��s\u001d",
      "\u0005Ak'(��\u0000�s�%\u001f�(A\"�H$\u0012�D\"�H$\u0012�D\"�H$\u0012�D\"�H$\u0012�D\"�H$\u0012�D\"�H$\u0012�D\"�H$\u0012�D\"�H$\u0012�D\"�H$\u0012�D\"�H$\u0012�D\"�H$\u0012�D\"\u0015J�\u000f�l�IP�\u000e�\u0000\u0000\u0000\u0000IEND�B`�\n"
     ]
    }
   ],
   "source": [
    "print image_data"
   ]
  },
  {
   "cell_type": "code",
   "execution_count": 74,
   "metadata": {},
   "outputs": [],
   "source": [
    "f1 = open('2.png', 'wb')\n",
    "f1.write(image_data)\n",
    "f1.close()"
   ]
  },
  {
   "cell_type": "code",
   "execution_count": 76,
   "metadata": {},
   "outputs": [],
   "source": [
    "f = open('sam/samp.txt', 'r')"
   ]
  },
  {
   "cell_type": "code",
   "execution_count": 77,
   "metadata": {},
   "outputs": [
    {
     "name": "stdout",
     "output_type": "stream",
     "text": [
      "dsnfkdfsnfk'ldfsjg\n",
      "k;ldgjk;ldfsgjkldfsjg\n",
      "dfsk;lgjdfsk;lgj\n"
     ]
    }
   ],
   "source": [
    "print f.read()\n",
    "f.close()"
   ]
  },
  {
   "cell_type": "code",
   "execution_count": 78,
   "metadata": {},
   "outputs": [],
   "source": [
    "import os"
   ]
  },
  {
   "cell_type": "code",
   "execution_count": 79,
   "metadata": {},
   "outputs": [
    {
     "name": "stdout",
     "output_type": "stream",
     "text": [
      "['F_OK', 'O_APPEND', 'O_BINARY', 'O_CREAT', 'O_EXCL', 'O_NOINHERIT', 'O_RANDOM', 'O_RDONLY', 'O_RDWR', 'O_SEQUENTIAL', 'O_SHORT_LIVED', 'O_TEMPORARY', 'O_TEXT', 'O_TRUNC', 'O_WRONLY', 'P_DETACH', 'P_NOWAIT', 'P_NOWAITO', 'P_OVERLAY', 'P_WAIT', 'R_OK', 'SEEK_CUR', 'SEEK_END', 'SEEK_SET', 'TMP_MAX', 'UserDict', 'W_OK', 'X_OK', '_Environ', '__all__', '__builtins__', '__doc__', '__file__', '__name__', '__package__', '_copy_reg', '_execvpe', '_exists', '_exit', '_get_exports_list', '_make_stat_result', '_make_statvfs_result', '_pickle_stat_result', '_pickle_statvfs_result', 'abort', 'access', 'altsep', 'chdir', 'chmod', 'close', 'closerange', 'curdir', 'defpath', 'devnull', 'dup', 'dup2', 'environ', 'errno', 'error', 'execl', 'execle', 'execlp', 'execlpe', 'execv', 'execve', 'execvp', 'execvpe', 'extsep', 'fdopen', 'fstat', 'fsync', 'getcwd', 'getcwdu', 'getenv', 'getpid', 'isatty', 'kill', 'linesep', 'listdir', 'lseek', 'lstat', 'makedirs', 'mkdir', 'name', 'open', 'pardir', 'path', 'pathsep', 'pipe', 'popen', 'popen2', 'popen3', 'popen4', 'putenv', 'read', 'remove', 'removedirs', 'rename', 'renames', 'rmdir', 'sep', 'spawnl', 'spawnle', 'spawnv', 'spawnve', 'startfile', 'stat', 'stat_float_times', 'stat_result', 'statvfs_result', 'strerror', 'sys', 'system', 'tempnam', 'times', 'tmpfile', 'tmpnam', 'umask', 'unlink', 'unsetenv', 'urandom', 'utime', 'waitpid', 'walk', 'write']\n"
     ]
    }
   ],
   "source": [
    "print dir(os)"
   ]
  },
  {
   "cell_type": "code",
   "execution_count": 80,
   "metadata": {},
   "outputs": [
    {
     "name": "stdout",
     "output_type": "stream",
     "text": [
      "D:\\education\\class\\python_9_Feb\n"
     ]
    }
   ],
   "source": [
    "print os.getcwd()"
   ]
  },
  {
   "cell_type": "code",
   "execution_count": 81,
   "metadata": {},
   "outputs": [],
   "source": [
    "os.chdir('sam')"
   ]
  },
  {
   "cell_type": "code",
   "execution_count": 82,
   "metadata": {},
   "outputs": [
    {
     "name": "stdout",
     "output_type": "stream",
     "text": [
      "D:\\education\\class\\python_9_Feb\\sam\n"
     ]
    }
   ],
   "source": [
    "print os.getcwd()"
   ]
  },
  {
   "cell_type": "code",
   "execution_count": 83,
   "metadata": {},
   "outputs": [],
   "source": [
    "os.chdir('C:')"
   ]
  },
  {
   "cell_type": "code",
   "execution_count": 84,
   "metadata": {},
   "outputs": [
    {
     "data": {
      "text/plain": [
       "'C:\\\\'"
      ]
     },
     "execution_count": 84,
     "metadata": {},
     "output_type": "execute_result"
    }
   ],
   "source": [
    "os.getcwd()"
   ]
  },
  {
   "cell_type": "code",
   "execution_count": 85,
   "metadata": {},
   "outputs": [],
   "source": [
    "os.chdir(r'D:\\education\\class\\python_9_Feb')"
   ]
  },
  {
   "cell_type": "code",
   "execution_count": 86,
   "metadata": {},
   "outputs": [
    {
     "data": {
      "text/plain": [
       "'D:\\\\education\\\\class\\\\python_9_Feb'"
      ]
     },
     "execution_count": 86,
     "metadata": {},
     "output_type": "execute_result"
    }
   ],
   "source": [
    "os.getcwd()"
   ]
  },
  {
   "cell_type": "code",
   "execution_count": 87,
   "metadata": {},
   "outputs": [],
   "source": [
    "os.mkdir('nag')"
   ]
  },
  {
   "cell_type": "code",
   "execution_count": 88,
   "metadata": {},
   "outputs": [
    {
     "ename": "WindowsError",
     "evalue": "[Error 3] The system cannot find the path specified: 'nag/nag1/python/python1'",
     "output_type": "error",
     "traceback": [
      "\u001b[1;31m---------------------------------------------------------------------------\u001b[0m",
      "\u001b[1;31mWindowsError\u001b[0m                              Traceback (most recent call last)",
      "\u001b[1;32m<ipython-input-88-c8129dc2cb4b>\u001b[0m in \u001b[0;36m<module>\u001b[1;34m()\u001b[0m\n\u001b[1;32m----> 1\u001b[1;33m \u001b[0mos\u001b[0m\u001b[1;33m.\u001b[0m\u001b[0mmkdir\u001b[0m\u001b[1;33m(\u001b[0m\u001b[1;34m'nag/nag1/python/python1'\u001b[0m\u001b[1;33m)\u001b[0m\u001b[1;33m\u001b[0m\u001b[0m\n\u001b[0m",
      "\u001b[1;31mWindowsError\u001b[0m: [Error 3] The system cannot find the path specified: 'nag/nag1/python/python1'"
     ]
    }
   ],
   "source": [
    "os.mkdir('nag/nag1/python/python1')"
   ]
  },
  {
   "cell_type": "code",
   "execution_count": 89,
   "metadata": {},
   "outputs": [],
   "source": [
    "os.makedirs('nag/nag1/python/python1')"
   ]
  },
  {
   "cell_type": "code",
   "execution_count": 91,
   "metadata": {},
   "outputs": [
    {
     "name": "stdout",
     "output_type": "stream",
     "text": [
      "['.git', '.ipynb_checkpoints', '1.png', '2.png', 'abc.txt', 'add.txt', 'arth.py', 'arth.pyc', 'arth_int.py', 'assign_int.py', 'bitbise_int.py', 'conditional statement.ipynb', 'copy methods.ipynb', 'file operations.ipynb', 'first.py', 'functions.ipynb', 'idlefirst.py', 'inheritance.ipynb', 'LICENSE', 'list comprehension.ipynb', 'list methods.ipynb', 'list operators.ipynb', 'log_int.py', 'loops.ipynb', 'nag', 'oops.ipynb', 'practice_if.ipynb', 'print.py', 'python_9_Feb', 'read.py', 'rel_int.py', 'res.txt', 'sam', 'sample.txt', 'sequences.ipynb', 'sets and dictionary.ipynb', 'strings.ipynb', 'tuples.ipynb', 'Untitled.ipynb', 'Untitled1.ipynb', 'Untitled2.ipynb', 'Untitled3.ipynb', 'Untitled4.ipynb']\n"
     ]
    }
   ],
   "source": [
    "print os.listdir('.')"
   ]
  },
  {
   "cell_type": "code",
   "execution_count": 93,
   "metadata": {},
   "outputs": [
    {
     "name": "stdout",
     "output_type": "stream",
     "text": [
      "['a.txt', 'amit', 'mallareddy', 'Nag', 'python7', 'python8', 'python9', 'python_7', 'python_9_Feb']\n"
     ]
    }
   ],
   "source": [
    "print os.listdir('..')"
   ]
  },
  {
   "cell_type": "code",
   "execution_count": 94,
   "metadata": {},
   "outputs": [],
   "source": [
    "x = os.walk('.')"
   ]
  },
  {
   "cell_type": "code",
   "execution_count": 95,
   "metadata": {},
   "outputs": [
    {
     "name": "stdout",
     "output_type": "stream",
     "text": [
      "<generator object walk at 0x0000000005568BD0>\n"
     ]
    }
   ],
   "source": [
    "print x"
   ]
  },
  {
   "cell_type": "code",
   "execution_count": 96,
   "metadata": {},
   "outputs": [
    {
     "name": "stdout",
     "output_type": "stream",
     "text": [
      "('.', ['.git', '.ipynb_checkpoints', 'nag', 'python_9_Feb', 'sam'], ['1.png', '2.png', 'abc.txt', 'add.txt', 'arth.py', 'arth.pyc', 'arth_int.py', 'assign_int.py', 'bitbise_int.py', 'conditional statement.ipynb', 'copy methods.ipynb', 'file operations.ipynb', 'first.py', 'functions.ipynb', 'idlefirst.py', 'inheritance.ipynb', 'LICENSE', 'list comprehension.ipynb', 'list methods.ipynb', 'list operators.ipynb', 'log_int.py', 'loops.ipynb', 'oops.ipynb', 'practice_if.ipynb', 'print.py', 'read.py', 'rel_int.py', 'res.txt', 'sample.txt', 'sequences.ipynb', 'sets and dictionary.ipynb', 'strings.ipynb', 'tuples.ipynb', 'Untitled.ipynb', 'Untitled1.ipynb', 'Untitled2.ipynb', 'Untitled3.ipynb', 'Untitled4.ipynb'])\n"
     ]
    }
   ],
   "source": [
    "print x.next()"
   ]
  },
  {
   "cell_type": "code",
   "execution_count": 97,
   "metadata": {},
   "outputs": [
    {
     "name": "stdout",
     "output_type": "stream",
     "text": [
      "('.\\\\.git', ['hooks', 'info', 'logs', 'objects', 'refs'], ['COMMIT_EDITMSG', 'config', 'description', 'HEAD', 'index', 'packed-refs'])\n"
     ]
    }
   ],
   "source": [
    "print x.next()"
   ]
  },
  {
   "cell_type": "code",
   "execution_count": 98,
   "metadata": {},
   "outputs": [
    {
     "name": "stdout",
     "output_type": "stream",
     "text": [
      "('.\\\\.git\\\\hooks', [], ['applypatch-msg.sample', 'commit-msg.sample', 'fsmonitor-watchman.sample', 'post-update.sample', 'pre-applypatch.sample', 'pre-commit.sample', 'pre-push.sample', 'pre-rebase.sample', 'pre-receive.sample', 'prepare-commit-msg.sample', 'update.sample'])\n"
     ]
    }
   ],
   "source": [
    "print x.next()"
   ]
  },
  {
   "cell_type": "code",
   "execution_count": 99,
   "metadata": {},
   "outputs": [
    {
     "name": "stdout",
     "output_type": "stream",
     "text": [
      "('.\\\\.git\\\\info', [], ['exclude'])\n",
      "('.\\\\.git\\\\logs', ['refs'], ['HEAD'])\n",
      "('.\\\\.git\\\\logs\\\\refs', ['heads', 'remotes'], [])\n",
      "('.\\\\.git\\\\logs\\\\refs\\\\heads', [], ['master'])\n",
      "('.\\\\.git\\\\logs\\\\refs\\\\remotes', ['origin'], [])\n",
      "('.\\\\.git\\\\logs\\\\refs\\\\remotes\\\\origin', [], ['HEAD', 'master'])\n",
      "('.\\\\.git\\\\objects', ['06', '0f', '12', '14', '1b', '1c', '1f', '22', '24', '28', '2f', '3a', '41', '4e', '5d', '6f', '72', '80', '84', '85', '88', '8d', '8f', '97', '9b', 'a2', 'a5', 'ad', 'b5', 'b6', 'b8', 'bc', 'bf', 'c1', 'c5', 'cb', 'd1', 'd3', 'd8', 'e1', 'e2', 'e4', 'e6', 'ea', 'f2', 'f5', 'f6', 'fc', 'fd', 'info', 'pack'], [])\n",
      "('.\\\\.git\\\\objects\\\\06', [], ['522f8c2920ca60d2bd72bda60d4e0686e220b7', '68e2ca0b7df2e2d7cff83d49a3645775f75574'])\n",
      "('.\\\\.git\\\\objects\\\\0f', [], ['78da3352f88d1f99f799a3caf167743fbeead1', 'e65d034627e6aafe8982df1ca6bc836b6b28c4'])\n",
      "('.\\\\.git\\\\objects\\\\12', [], ['075146fe0ae658ca36f6150c26ffbe51294f6f'])\n",
      "('.\\\\.git\\\\objects\\\\14', [], ['af77b101e3e0e6a46ab6ec6e99b28c0bfd4cff'])\n",
      "('.\\\\.git\\\\objects\\\\1b', [], ['95514894082391911a3237efc32c50cbbdbad8'])\n",
      "('.\\\\.git\\\\objects\\\\1c', [], ['3e325d22472bc3fb3606064d06b7a5b0fa329b', '6b43f56e6661bd30638189e45558add93e5243', '8714bc45f10eff8bda1d74b8568f80b3dfa06d'])\n",
      "('.\\\\.git\\\\objects\\\\1f', [], ['6ab28db1e4a3a702b260ce2f7c544621505a3e'])\n",
      "('.\\\\.git\\\\objects\\\\22', [], ['d601a2e3bb323285f3007a3f034e802e40e12a'])\n",
      "('.\\\\.git\\\\objects\\\\24', [], ['9c262b69483c45d673fbc0c9b4b2cbd4c21be9'])\n",
      "('.\\\\.git\\\\objects\\\\28', [], ['19d06b6832b85fd8a26440329a7eec22826a40'])\n",
      "('.\\\\.git\\\\objects\\\\2f', [], ['d64429bf421126b7000c94ce0f6fd186fbd01f'])\n",
      "('.\\\\.git\\\\objects\\\\3a', [], ['2d372cdaa699394a7e94cf824d23d6d7f99869'])\n",
      "('.\\\\.git\\\\objects\\\\41', [], ['985c9b96ac3e866c2cc7540e68ffb1ec2f2fcd'])\n",
      "('.\\\\.git\\\\objects\\\\4e', [], ['c22f61e91320b2600e88f4f5374fa5c2bc0c13'])\n",
      "('.\\\\.git\\\\objects\\\\5d', [], ['b5b5ecd9b6f4def0ebc5acc95d0176bd64dc3e'])\n",
      "('.\\\\.git\\\\objects\\\\6f', [], ['f0e3afa487cbe17f3a4c19da8211223b2aa09a'])\n",
      "('.\\\\.git\\\\objects\\\\72', [], ['b86437f8a3ea0b5a711a7a63a77189cdcbe1ec'])\n",
      "('.\\\\.git\\\\objects\\\\80', [], ['542ef6f7d46dc3d85e69499d03aa87d371e900'])\n",
      "('.\\\\.git\\\\objects\\\\84', [], ['352be3ebed4b85a1969b5a6d338f8294d8426f'])\n",
      "('.\\\\.git\\\\objects\\\\85', [], ['95004c621c25851e7efe077e9e456406dddda3'])\n",
      "('.\\\\.git\\\\objects\\\\88', [], ['7bc8f8d71e538dbdff53373b30e641ba26ae0b'])\n",
      "('.\\\\.git\\\\objects\\\\8d', [], ['3b365e86902c1649ae2c55ea8b00e36db9e01d'])\n",
      "('.\\\\.git\\\\objects\\\\8f', [], ['620308e88f06f20e65bce171f9a1cc218ea39e'])\n",
      "('.\\\\.git\\\\objects\\\\97', [], ['aaf51a7192c95d4502d29f50ad8b977b260535'])\n",
      "('.\\\\.git\\\\objects\\\\9b', [], ['519a693c923b59209585e0d5681dae2082c490'])\n",
      "('.\\\\.git\\\\objects\\\\a2', [], ['17c3f25839774e6abecf890734ccb4f67a91a2'])\n",
      "('.\\\\.git\\\\objects\\\\a5', [], ['df1e0d11539f4c06523ea164d8774a07a0bf07'])\n",
      "('.\\\\.git\\\\objects\\\\ad', [], ['490b95ced051ccd86f51b961a0129f6da46544'])\n",
      "('.\\\\.git\\\\objects\\\\b5', [], ['9b137055b9682a5122f37ec4e6d63b005351f1'])\n",
      "('.\\\\.git\\\\objects\\\\b6', [], ['7c90e5efefef02b29827a7d34b44d0b5f62dda'])\n",
      "('.\\\\.git\\\\objects\\\\b8', [], ['37da0b7dbb646e4fdade884b53d981d81cbb87'])\n",
      "('.\\\\.git\\\\objects\\\\bc', [], ['334defb0ccefda935b7bccefeeddcc4c0d5cbb'])\n",
      "('.\\\\.git\\\\objects\\\\bf', [], ['3f59f47f185149a7133ba08b9b38b9a67c5426'])\n",
      "('.\\\\.git\\\\objects\\\\c1', [], ['0fd614aa2d6a4bbd53077779871192cb75ab43'])\n",
      "('.\\\\.git\\\\objects\\\\c5', [], ['595e8db8f5cb344c081cd27f417159d3b4ccdb'])\n",
      "('.\\\\.git\\\\objects\\\\cb', [], ['4cb917157967e1e7d9ada6c748ff0417659a48'])\n",
      "('.\\\\.git\\\\objects\\\\d1', [], ['a0728bc9d7e49cdc840a8ac78708e2edd5e7b0'])\n",
      "('.\\\\.git\\\\objects\\\\d3', [], ['2764b6fa3f5d35e2d23212eba685bb65ac6010'])\n",
      "('.\\\\.git\\\\objects\\\\d8', [], ['e6fa09ad2ed44bbce9bbb3f4c33632054a53bf'])\n",
      "('.\\\\.git\\\\objects\\\\e1', [], ['b00eef1ae0f166ac066bb725a7d9c1b0b4c1fe'])\n",
      "('.\\\\.git\\\\objects\\\\e2', [], ['8e112c2aabb8b8f8a34a99ff9c36de35a54379'])\n",
      "('.\\\\.git\\\\objects\\\\e4', [], ['0a58e24be50534d1ef9b47166fa4ee4d5ccfe8'])\n",
      "('.\\\\.git\\\\objects\\\\e6', [], ['a1d80a6c273bd564d35711ba6923b036a77ae8', 'b1662f659c058b04069242967002c6ee717a2e'])\n",
      "('.\\\\.git\\\\objects\\\\ea', [], ['50a9e4500197b8df0970f208133673d5eff96a'])\n",
      "('.\\\\.git\\\\objects\\\\f2', [], ['5a2b678cd63535c4be08d16027a4843a8a9453', '88702d2fa16d3cdf0035b15a9fcbc552cd88e7'])\n",
      "('.\\\\.git\\\\objects\\\\f5', [], ['179db8b863a5e023043f704d6b9d2d4606fb7f'])\n",
      "('.\\\\.git\\\\objects\\\\f6', [], ['ad9b2ae1d85443919c7b83b019ac1f82606e21'])\n",
      "('.\\\\.git\\\\objects\\\\fc', [], ['db283ae1800d170e46405977c493f40093e2b8'])\n",
      "('.\\\\.git\\\\objects\\\\fd', [], ['d1b9e9b3c0a376576a2c767dc5b1063642d1cc'])\n",
      "('.\\\\.git\\\\objects\\\\info', [], [])\n",
      "('.\\\\.git\\\\objects\\\\pack', [], [])\n",
      "('.\\\\.git\\\\refs', ['heads', 'remotes', 'tags'], [])\n",
      "('.\\\\.git\\\\refs\\\\heads', [], ['master'])\n",
      "('.\\\\.git\\\\refs\\\\remotes', ['origin'], [])\n",
      "('.\\\\.git\\\\refs\\\\remotes\\\\origin', [], ['HEAD', 'master'])\n",
      "('.\\\\.git\\\\refs\\\\tags', [], [])\n",
      "('.\\\\.ipynb_checkpoints', [], ['conditional statement-checkpoint.ipynb', 'copy methods-checkpoint.ipynb', 'file operations-checkpoint.ipynb', 'functions-checkpoint.ipynb', 'inheritance-checkpoint.ipynb', 'list comprehension-checkpoint.ipynb', 'list methods-checkpoint.ipynb', 'list operators-checkpoint.ipynb', 'loops-checkpoint.ipynb', 'oops-checkpoint.ipynb', 'practice_if-checkpoint.ipynb', 'sequences-checkpoint.ipynb', 'sets and dictionary-checkpoint.ipynb', 'strings-checkpoint.ipynb', 'tuples-checkpoint.ipynb', 'Untitled-checkpoint.ipynb', 'Untitled1-checkpoint.ipynb', 'Untitled2-checkpoint.ipynb', 'Untitled3-checkpoint.ipynb', 'Untitled4-checkpoint.ipynb'])\n",
      "('.\\\\nag', ['nag1'], ['a.txt'])\n",
      "('.\\\\nag\\\\nag1', ['python'], ['b.txt'])\n",
      "('.\\\\nag\\\\nag1\\\\python', ['python1'], ['p.txt'])\n",
      "('.\\\\nag\\\\nag1\\\\python\\\\python1', [], [])\n",
      "('.\\\\python_9_Feb', [], [])\n",
      "('.\\\\sam', [], ['samp.txt'])\n"
     ]
    }
   ],
   "source": [
    "for y in x:\n",
    "    print y"
   ]
  },
  {
   "cell_type": "code",
   "execution_count": 100,
   "metadata": {},
   "outputs": [
    {
     "name": "stdout",
     "output_type": "stream",
     "text": [
      "['__all__', '__builtins__', '__doc__', '__file__', '__name__', '__package__', '_abspath_split', '_getfullpathname', '_unicode', 'abspath', 'altsep', 'basename', 'commonprefix', 'curdir', 'defpath', 'devnull', 'dirname', 'exists', 'expanduser', 'expandvars', 'extsep', 'genericpath', 'getatime', 'getctime', 'getmtime', 'getsize', 'isabs', 'isdir', 'isfile', 'islink', 'ismount', 'join', 'lexists', 'normcase', 'normpath', 'os', 'pardir', 'pathsep', 'realpath', 'relpath', 'sep', 'split', 'splitdrive', 'splitext', 'splitunc', 'stat', 'supports_unicode_filenames', 'sys', 'walk', 'warnings']\n"
     ]
    }
   ],
   "source": [
    "print dir(os.path)"
   ]
  },
  {
   "cell_type": "code",
   "execution_count": 101,
   "metadata": {},
   "outputs": [
    {
     "name": "stdout",
     "output_type": "stream",
     "text": [
      "D:\\education\\class\\python_9_Feb\n"
     ]
    }
   ],
   "source": [
    "print os.getcwd()"
   ]
  },
  {
   "cell_type": "code",
   "execution_count": 102,
   "metadata": {},
   "outputs": [
    {
     "name": "stdout",
     "output_type": "stream",
     "text": [
      "True\n"
     ]
    }
   ],
   "source": [
    "print os.path.isdir(r'D:\\education\\class\\python_9_Feb')"
   ]
  },
  {
   "cell_type": "code",
   "execution_count": 103,
   "metadata": {},
   "outputs": [
    {
     "name": "stdout",
     "output_type": "stream",
     "text": [
      "False\n"
     ]
    }
   ],
   "source": [
    "print os.path.isfile(r'D:\\education\\class\\python_9_Feb')"
   ]
  },
  {
   "cell_type": "code",
   "execution_count": 104,
   "metadata": {},
   "outputs": [
    {
     "name": "stdout",
     "output_type": "stream",
     "text": [
      "True\n"
     ]
    }
   ],
   "source": [
    "print os.path.exists(r'D:\\education\\class\\python_9_Feb')"
   ]
  },
  {
   "cell_type": "code",
   "execution_count": 105,
   "metadata": {},
   "outputs": [
    {
     "name": "stdout",
     "output_type": "stream",
     "text": [
      "False\n"
     ]
    }
   ],
   "source": [
    "print os.path.exists(r'D:\\education\\class\\python_9_Febasd')"
   ]
  },
  {
   "cell_type": "code",
   "execution_count": null,
   "metadata": {},
   "outputs": [],
   "source": []
  }
 ],
 "metadata": {
  "kernelspec": {
   "display_name": "Python 2",
   "language": "python",
   "name": "python2"
  },
  "language_info": {
   "codemirror_mode": {
    "name": "ipython",
    "version": 2
   },
   "file_extension": ".py",
   "mimetype": "text/x-python",
   "name": "python",
   "nbconvert_exporter": "python",
   "pygments_lexer": "ipython2",
   "version": "2.7.15"
  }
 },
 "nbformat": 4,
 "nbformat_minor": 2
}
