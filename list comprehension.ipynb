{
 "cells": [
  {
   "cell_type": "code",
   "execution_count": 12,
   "metadata": {},
   "outputs": [
    {
     "ename": "IndexError",
     "evalue": "list index out of range",
     "output_type": "error",
     "traceback": [
      "\u001b[1;31m---------------------------------------------------------------------------\u001b[0m",
      "\u001b[1;31mIndexError\u001b[0m                                Traceback (most recent call last)",
      "\u001b[1;32m<ipython-input-12-039bccc1266a>\u001b[0m in \u001b[0;36m<module>\u001b[1;34m()\u001b[0m\n\u001b[0;32m      1\u001b[0m \u001b[0ma\u001b[0m \u001b[1;33m=\u001b[0m \u001b[1;33m[\u001b[0m\u001b[1;36m4\u001b[0m\u001b[1;33m,\u001b[0m \u001b[1;36m5\u001b[0m\u001b[1;33m,\u001b[0m \u001b[1;36m6\u001b[0m\u001b[1;33m,\u001b[0m \u001b[1;36m10\u001b[0m\u001b[1;33m,\u001b[0m \u001b[1;36m13\u001b[0m\u001b[1;33m,\u001b[0m \u001b[1;36m15\u001b[0m\u001b[1;33m,\u001b[0m \u001b[1;36m17\u001b[0m\u001b[1;33m,\u001b[0m \u001b[1;36m22\u001b[0m\u001b[1;33m,\u001b[0m \u001b[1;36m24\u001b[0m\u001b[1;33m,\u001b[0m \u001b[1;36m26\u001b[0m\u001b[1;33m,\u001b[0m \u001b[1;36m29\u001b[0m\u001b[1;33m,\u001b[0m \u001b[1;36m27\u001b[0m\u001b[1;33m]\u001b[0m\u001b[1;33m\u001b[0m\u001b[0m\n\u001b[1;32m----> 2\u001b[1;33m \u001b[0ma\u001b[0m\u001b[1;33m[\u001b[0m\u001b[1;36m100\u001b[0m\u001b[1;33m]\u001b[0m\u001b[1;33m\u001b[0m\u001b[0m\n\u001b[0m",
      "\u001b[1;31mIndexError\u001b[0m: list index out of range"
     ]
    }
   ],
   "source": [
    "a = [4, 5, 6, 10, 13, 15, 17, 22, 24, 26, 29, 27]\n",
    "a[100]"
   ]
  },
  {
   "cell_type": "code",
   "execution_count": 2,
   "metadata": {},
   "outputs": [
    {
     "name": "stdout",
     "output_type": "stream",
     "text": [
      "[4, 6, 10, 22, 24, 26]\n"
     ]
    }
   ],
   "source": [
    "b = []\n",
    "for x in a:\n",
    "    if x%2 == 0:\n",
    "        b.append(x)\n",
    "print b"
   ]
  },
  {
   "cell_type": "code",
   "execution_count": 3,
   "metadata": {},
   "outputs": [
    {
     "name": "stdout",
     "output_type": "stream",
     "text": [
      "[16, 25, 36, 100, 169, 225, 289, 484, 576, 676, 841, 729]\n"
     ]
    }
   ],
   "source": [
    "# [stmt loop/loops <conditions>]\n",
    "c = []\n",
    "for x in a:\n",
    "    c.append(x**2)\n",
    "print c"
   ]
  },
  {
   "cell_type": "code",
   "execution_count": 4,
   "metadata": {},
   "outputs": [
    {
     "name": "stdout",
     "output_type": "stream",
     "text": [
      "[16, 25, 36, 100, 169, 225, 289, 484, 576, 676, 841, 729]\n"
     ]
    }
   ],
   "source": [
    "#list comprehension outcome is always a new list\n",
    "d = [x**2 for x in a]\n",
    "print d"
   ]
  },
  {
   "cell_type": "code",
   "execution_count": 10,
   "metadata": {},
   "outputs": [
    {
     "name": "stdout",
     "output_type": "stream",
     "text": [
      "0.0349998474121\n"
     ]
    }
   ],
   "source": [
    "from time import time\n",
    "t1 = time()\n",
    "b = []\n",
    "for x in range(100000):\n",
    "    b.append(x)\n",
    "print time()-t1"
   ]
  },
  {
   "cell_type": "code",
   "execution_count": 11,
   "metadata": {},
   "outputs": [
    {
     "name": "stdout",
     "output_type": "stream",
     "text": [
      "0.0230000019073\n"
     ]
    }
   ],
   "source": [
    "t1 = time()\n",
    "b = [x for x in range(100000)]\n",
    "print time()-t1"
   ]
  },
  {
   "cell_type": "code",
   "execution_count": 13,
   "metadata": {},
   "outputs": [
    {
     "name": "stdout",
     "output_type": "stream",
     "text": [
      "[4, 5, 6, 10, 13, 15, 17, 22, 24, 26, 29, 27]\n"
     ]
    }
   ],
   "source": [
    "print a"
   ]
  },
  {
   "cell_type": "code",
   "execution_count": 14,
   "metadata": {},
   "outputs": [
    {
     "name": "stdout",
     "output_type": "stream",
     "text": [
      "[4, 6, 10, 22, 24, 26]\n"
     ]
    }
   ],
   "source": [
    "print [x for x in a if x%2 ==0 ]"
   ]
  },
  {
   "cell_type": "code",
   "execution_count": 15,
   "metadata": {},
   "outputs": [
    {
     "name": "stdout",
     "output_type": "stream",
     "text": [
      "[4, 6, 10, 22, 24, 26]\n"
     ]
    }
   ],
   "source": [
    "print [x for x in a if not x%2 ]"
   ]
  },
  {
   "cell_type": "code",
   "execution_count": 16,
   "metadata": {},
   "outputs": [],
   "source": [
    "# a>b? a+b: a-b\n",
    "# ternary operator\n",
    "# <true statement> if condition else <false statement>"
   ]
  },
  {
   "cell_type": "code",
   "execution_count": 17,
   "metadata": {},
   "outputs": [
    {
     "name": "stdout",
     "output_type": "stream",
     "text": [
      "8\n"
     ]
    }
   ],
   "source": [
    "print 3+5 if 3<5 else 3-5"
   ]
  },
  {
   "cell_type": "code",
   "execution_count": 18,
   "metadata": {},
   "outputs": [
    {
     "name": "stdout",
     "output_type": "stream",
     "text": [
      "-2\n"
     ]
    }
   ],
   "source": [
    "y = 3+5 if 3>5 else 3-5\n",
    "print y"
   ]
  },
  {
   "cell_type": "code",
   "execution_count": 19,
   "metadata": {},
   "outputs": [
    {
     "name": "stdout",
     "output_type": "stream",
     "text": [
      "20\n"
     ]
    }
   ],
   "source": [
    "y = 3+5 if 3>5 else 3-5 if 4>5 else 4*5\n",
    "print y"
   ]
  },
  {
   "cell_type": "code",
   "execution_count": 20,
   "metadata": {},
   "outputs": [
    {
     "name": "stdout",
     "output_type": "stream",
     "text": [
      "[4, 5, 6, 10, 13, 15, 17, 22, 24, 26, 29, 27]\n"
     ]
    }
   ],
   "source": [
    "print a"
   ]
  },
  {
   "cell_type": "code",
   "execution_count": 21,
   "metadata": {},
   "outputs": [
    {
     "name": "stdout",
     "output_type": "stream",
     "text": [
      "[16, 125, 36, 100, 2197, 3375, 4913, 484, 576, 676, 24389, 19683]\n"
     ]
    }
   ],
   "source": [
    "print [x**3 if x%2 else x**2 for x in a]"
   ]
  },
  {
   "cell_type": "code",
   "execution_count": 22,
   "metadata": {},
   "outputs": [],
   "source": [
    "# a= [2, 5, 3, 7, 9, 11, 12, 14, 18, 15, 19, 22, 21]\n",
    "# form the output based on below points\n",
    "#1. ingore the multiples of 3\n",
    "#2. square the even numbers\n",
    "#3. cube the odd numbers"
   ]
  },
  {
   "cell_type": "code",
   "execution_count": 25,
   "metadata": {},
   "outputs": [
    {
     "name": "stdout",
     "output_type": "stream",
     "text": [
      "[5, 8, 12]\n"
     ]
    }
   ],
   "source": [
    "a = [4, 5, 6]\n",
    "b = [1, 3, 6]\n",
    "l = len(a)\n",
    "print [a[x]+b[x] for x in range(l)] # after completing tuple zip topic"
   ]
  },
  {
   "cell_type": "code",
   "execution_count": 26,
   "metadata": {},
   "outputs": [
    {
     "name": "stdout",
     "output_type": "stream",
     "text": [
      "[5, 7, 10, 6, 8, 11, 7, 9, 12]\n"
     ]
    }
   ],
   "source": [
    "print [x+y for x in a for y in b]"
   ]
  },
  {
   "cell_type": "code",
   "execution_count": 27,
   "metadata": {},
   "outputs": [
    {
     "name": "stdout",
     "output_type": "stream",
     "text": [
      "[5, 7, 10, 6, 8, 11, 7, 9, 12]\n"
     ]
    }
   ],
   "source": [
    "z = []\n",
    "for x in a:\n",
    "    for y in b:\n",
    "        z.append(x+y)\n",
    "print z"
   ]
  },
  {
   "cell_type": "code",
   "execution_count": 29,
   "metadata": {},
   "outputs": [
    {
     "name": "stdout",
     "output_type": "stream",
     "text": [
      "outer\n",
      "inner\n",
      "inner\n",
      "inner\n",
      "end\n",
      "outer\n",
      "inner\n",
      "inner\n",
      "inner\n",
      "end\n",
      "outer\n",
      "inner\n",
      "inner\n",
      "inner\n",
      "end\n",
      "[5, 7, 10, 6, 8, 11, 7, 9, 12]\n"
     ]
    }
   ],
   "source": [
    "z = []\n",
    "for x in a:\n",
    "    print \"outer\"\n",
    "    for y in b:\n",
    "        print \"inner\"\n",
    "        z.append(x+y)\n",
    "    print \"end\"\n",
    "print z"
   ]
  },
  {
   "cell_type": "code",
   "execution_count": 30,
   "metadata": {},
   "outputs": [
    {
     "name": "stdout",
     "output_type": "stream",
     "text": [
      "[5, 7, 10, 6, 8, 11, 7, 9, 12]\n"
     ]
    }
   ],
   "source": [
    "z = []\n",
    "for x in a:\n",
    "    for y in b:\n",
    "        z.append(x+y)\n",
    "print z"
   ]
  },
  {
   "cell_type": "code",
   "execution_count": 31,
   "metadata": {},
   "outputs": [
    {
     "name": "stdout",
     "output_type": "stream",
     "text": [
      "[5, 7, 10, 6, 8, 11, 7, 9, 12]\n"
     ]
    }
   ],
   "source": [
    "print [x+y for x in a for y in b]"
   ]
  },
  {
   "cell_type": "code",
   "execution_count": 34,
   "metadata": {},
   "outputs": [
    {
     "name": "stdout",
     "output_type": "stream",
     "text": [
      "[5, 7, 10, 6, 8, 11, 7, 9]\n"
     ]
    }
   ],
   "source": [
    "print [x+y for x in a for y in b if x!=y]"
   ]
  },
  {
   "cell_type": "code",
   "execution_count": 32,
   "metadata": {},
   "outputs": [
    {
     "name": "stdout",
     "output_type": "stream",
     "text": [
      "[5, 7, 10, 6, 8, 11, 7, 9]\n"
     ]
    }
   ],
   "source": [
    "z = []\n",
    "for x in a:#4, 5\n",
    "    for y in b:#x=4, y=1,3,6 and #x=4, y=1,3,6\n",
    "        if x!=y:\n",
    "            z.append(x+y)\n",
    "print z"
   ]
  },
  {
   "cell_type": "code",
   "execution_count": 33,
   "metadata": {},
   "outputs": [
    {
     "name": "stdout",
     "output_type": "stream",
     "text": [
      "[4, 5, 6]\n",
      "[1, 3, 6]\n"
     ]
    }
   ],
   "source": [
    "print a\n",
    "print b"
   ]
  },
  {
   "cell_type": "code",
   "execution_count": 36,
   "metadata": {},
   "outputs": [],
   "source": [
    "z =  [[x+y for x in a] for y in b]\n",
    "# x= [stmt for y in b]\n",
    "# stmt [x+y for x in y] ---> [5, 6, 7], [7, 8, 9], [10, 11, 12]\n",
    "#[[5, 6, 7], [7, 8, 9], [10, 11, 12]]\n",
    "#[1, 9, 36]"
   ]
  },
  {
   "cell_type": "code",
   "execution_count": 37,
   "metadata": {},
   "outputs": [
    {
     "name": "stdout",
     "output_type": "stream",
     "text": [
      "[[5, 6, 7], [7, 8, 9], [10, 11, 12]]\n"
     ]
    }
   ],
   "source": [
    "print z"
   ]
  },
  {
   "cell_type": "code",
   "execution_count": 38,
   "metadata": {},
   "outputs": [
    {
     "name": "stdout",
     "output_type": "stream",
     "text": [
      "[5, 6, 7, 7, 8, 9, 10, 11, 12]\n",
      "[5, 6, 7, 7, 8, 9, 10, 11, 12]\n"
     ]
    }
   ],
   "source": [
    "print [y for x in z for y in x]\n",
    "i = []\n",
    "for x in z:\n",
    "    for y in x:\n",
    "        i.append(y)\n",
    "print i"
   ]
  },
  {
   "cell_type": "code",
   "execution_count": null,
   "metadata": {},
   "outputs": [],
   "source": []
  }
 ],
 "metadata": {
  "kernelspec": {
   "display_name": "Python 2",
   "language": "python",
   "name": "python2"
  },
  "language_info": {
   "codemirror_mode": {
    "name": "ipython",
    "version": 2
   },
   "file_extension": ".py",
   "mimetype": "text/x-python",
   "name": "python",
   "nbconvert_exporter": "python",
   "pygments_lexer": "ipython2",
   "version": "2.7.15"
  }
 },
 "nbformat": 4,
 "nbformat_minor": 2
}
