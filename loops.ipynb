{
 "cells": [
  {
   "cell_type": "code",
   "execution_count": 1,
   "metadata": {},
   "outputs": [],
   "source": [
    "#while \n",
    "\n",
    "#while <condition>:\n",
    "#    st1\n",
    "#    st2\n",
    "#    |\n",
    "#    |\n",
    "#    stn\n"
   ]
  },
  {
   "cell_type": "code",
   "execution_count": 2,
   "metadata": {},
   "outputs": [
    {
     "name": "stdout",
     "output_type": "stream",
     "text": [
      "Hello World\n",
      "Hello World\n",
      "Hello World\n",
      "Hello World\n",
      "Hello World\n",
      "outside loop\n"
     ]
    }
   ],
   "source": [
    "i = 2\n",
    "while i<=6:\n",
    "    print \"Hello World\"\n",
    "    i += 1\n",
    "print \"outside loop\""
   ]
  },
  {
   "cell_type": "code",
   "execution_count": 3,
   "metadata": {},
   "outputs": [
    {
     "name": "stdout",
     "output_type": "stream",
     "text": [
      "2\n",
      "Hello World\n",
      "3\n",
      "Hello World\n",
      "4\n",
      "Hello World\n",
      "5\n",
      "Hello World\n",
      "6\n",
      "Hello World\n",
      "outside loop\n"
     ]
    }
   ],
   "source": [
    "i = 2\n",
    "while i<=6:\n",
    "    print i\n",
    "    print \"Hello World\"\n",
    "    i += 1\n",
    "print \"outside loop\""
   ]
  },
  {
   "cell_type": "code",
   "execution_count": 4,
   "metadata": {},
   "outputs": [
    {
     "name": "stdout",
     "output_type": "stream",
     "text": [
      "6\n",
      "9\n",
      "12\n",
      "15\n",
      "18\n",
      "21\n",
      "24\n",
      "27\n",
      "30\n",
      "33\n",
      "36\n",
      "39\n",
      "42\n",
      "45\n",
      "48\n"
     ]
    }
   ],
   "source": [
    "x = 5\n",
    "while x<=50:\n",
    "    if x%3 == 0:\n",
    "        print x\n",
    "    x += 1"
   ]
  },
  {
   "cell_type": "code",
   "execution_count": null,
   "metadata": {},
   "outputs": [],
   "source": [
    "x = 5\n",
    "while x<=50:\n",
    "    if x%3 == 0:\n",
    "        print x"
   ]
  },
  {
   "cell_type": "code",
   "execution_count": 1,
   "metadata": {},
   "outputs": [
    {
     "name": "stdout",
     "output_type": "stream",
     "text": [
      "enter a value to check whether is it prime or not? 7\n",
      "You have entered prime number\n"
     ]
    }
   ],
   "source": [
    "#Let's write for prime number\n",
    "v = int(raw_input(\"enter a value to check whether is it prime or not? \"))\n",
    "i = 1\n",
    "count = 0\n",
    "while i<=v:\n",
    "    if v%i == 0:\n",
    "        count += 1\n",
    "    i+=1\n",
    "if count == 2:\n",
    "    print \"You have entered prime number\"\n",
    "else:\n",
    "    print \"You have entered non prime number\""
   ]
  },
  {
   "cell_type": "code",
   "execution_count": 2,
   "metadata": {},
   "outputs": [
    {
     "name": "stdout",
     "output_type": "stream",
     "text": [
      "enter a value to check whether is it prime or not? 9\n",
      "You have entered non prime number\n"
     ]
    }
   ],
   "source": [
    "#Let's write for prime number\n",
    "v = int(raw_input(\"enter a value to check whether is it prime or not? \"))\n",
    "i = 1\n",
    "count = 0\n",
    "while i<=v:\n",
    "    if v%i == 0:\n",
    "        count += 1\n",
    "    i+=1\n",
    "if count == 2:\n",
    "    print \"You have entered prime number\"\n",
    "else:\n",
    "    print \"You have entered non prime number\""
   ]
  },
  {
   "cell_type": "code",
   "execution_count": 3,
   "metadata": {},
   "outputs": [
    {
     "name": "stdout",
     "output_type": "stream",
     "text": [
      "enter a value to check whether is it prime or not? 15\n",
      "You have entered non prime number\n"
     ]
    }
   ],
   "source": [
    "#Let's write for prime number\n",
    "v = int(raw_input(\"enter a value to check whether is it prime or not? \"))\n",
    "i = 2\n",
    "count = 0\n",
    "while i<v:\n",
    "    if v%i == 0:\n",
    "        count += 1\n",
    "    i+=1\n",
    "if count == 0:\n",
    "    print \"You have entered prime number\"\n",
    "else:\n",
    "    print \"You have entered non prime number\""
   ]
  },
  {
   "cell_type": "code",
   "execution_count": 4,
   "metadata": {},
   "outputs": [
    {
     "name": "stdout",
     "output_type": "stream",
     "text": [
      "enter a value to check whether is it prime or not? 17\n",
      "You have entered prime number\n"
     ]
    }
   ],
   "source": [
    "#Let's write for prime number\n",
    "v = int(raw_input(\"enter a value to check whether is it prime or not? \"))\n",
    "i = 2\n",
    "count = 0\n",
    "while i<v:\n",
    "    if v%i == 0:\n",
    "        count += 1\n",
    "    i+=1\n",
    "if count == 0:\n",
    "    print \"You have entered prime number\"\n",
    "else:\n",
    "    print \"You have entered non prime number\""
   ]
  },
  {
   "cell_type": "code",
   "execution_count": 5,
   "metadata": {},
   "outputs": [],
   "source": [
    "#break and continue"
   ]
  },
  {
   "cell_type": "code",
   "execution_count": 6,
   "metadata": {},
   "outputs": [
    {
     "name": "stdout",
     "output_type": "stream",
     "text": [
      "enter a value to check whether is it prime or not? 25\n",
      "2\n",
      "3\n",
      "4\n",
      "5\n",
      "You have entered non prime number\n"
     ]
    }
   ],
   "source": [
    "v = int(raw_input(\"enter a value to check whether is it prime or not? \"))\n",
    "i = 2\n",
    "is_prime = True\n",
    "while i<v:\n",
    "    print i\n",
    "    if v%i == 0:\n",
    "        is_prime = False\n",
    "        break\n",
    "    i+=1\n",
    "if is_prime:\n",
    "    print \"You have entered prime number\"\n",
    "else:\n",
    "    print \"You have entered non prime number\""
   ]
  },
  {
   "cell_type": "code",
   "execution_count": 7,
   "metadata": {},
   "outputs": [
    {
     "name": "stdout",
     "output_type": "stream",
     "text": [
      "enter a value to check whether is it prime or not? 21\n",
      "2\n",
      "3\n",
      "You have entered non prime number\n"
     ]
    }
   ],
   "source": [
    "v = int(raw_input(\"enter a value to check whether is it prime or not? \"))\n",
    "i = 2\n",
    "is_prime = True\n",
    "while i<v:\n",
    "    print i\n",
    "    if v%i == 0:\n",
    "        is_prime = False\n",
    "        break\n",
    "    i+=1\n",
    "if is_prime:\n",
    "    print \"You have entered prime number\"\n",
    "else:\n",
    "    print \"You have entered non prime number\""
   ]
  },
  {
   "cell_type": "code",
   "execution_count": 8,
   "metadata": {},
   "outputs": [
    {
     "name": "stdout",
     "output_type": "stream",
     "text": [
      "enter a value to check whether is it prime or not? 11\n",
      "2\n",
      "3\n",
      "4\n",
      "5\n",
      "6\n",
      "7\n",
      "8\n",
      "9\n",
      "10\n",
      "You have entered prime number\n"
     ]
    }
   ],
   "source": [
    "v = int(raw_input(\"enter a value to check whether is it prime or not? \"))\n",
    "i = 2\n",
    "is_prime = True\n",
    "while i<v:\n",
    "    print i\n",
    "    if v%i == 0:\n",
    "        is_prime = False\n",
    "        break\n",
    "    i+=1\n",
    "if is_prime:\n",
    "    print \"You have entered prime number\"\n",
    "else:\n",
    "    print \"You have entered non prime number\""
   ]
  },
  {
   "cell_type": "code",
   "execution_count": 9,
   "metadata": {},
   "outputs": [
    {
     "name": "stdout",
     "output_type": "stream",
     "text": [
      "1\n"
     ]
    }
   ],
   "source": [
    "i = 1\n",
    "while i < 5:\n",
    "    print i\n",
    "    break"
   ]
  },
  {
   "cell_type": "code",
   "execution_count": 10,
   "metadata": {},
   "outputs": [
    {
     "name": "stdout",
     "output_type": "stream",
     "text": [
      "2\n",
      "4\n",
      "5\n",
      "7\n",
      "8\n",
      "10\n"
     ]
    }
   ],
   "source": [
    "#between 2 and 10 I want to print all numbers except multiples of 3\n",
    "i = 2\n",
    "while i <= 10:\n",
    "    if i%3 == 0:\n",
    "        i+=1\n",
    "        continue\n",
    "    print i\n",
    "    i+=1"
   ]
  },
  {
   "cell_type": "code",
   "execution_count": 1,
   "metadata": {},
   "outputs": [
    {
     "name": "stdout",
     "output_type": "stream",
     "text": [
      "enter a value 15\n",
      "prime\n"
     ]
    }
   ],
   "source": [
    "a =int(raw_input(\"enter a value \"))\n",
    "if a%3 == 0 and a%5 == 0:\n",
    "    print \"prime\"\n",
    "else:\n",
    "    print \"non prime\""
   ]
  },
  {
   "cell_type": "code",
   "execution_count": 1,
   "metadata": {},
   "outputs": [
    {
     "name": "stdout",
     "output_type": "stream",
     "text": [
      "enter a value 84\n",
      "84\n",
      "90\n",
      "96\n"
     ]
    }
   ],
   "source": [
    "a = 100\n",
    "b = int(raw_input(\"enter a value \"))\n",
    "if b<7 or b>100:\n",
    "    print \"error\"\n",
    "else:\n",
    "    while b<=a:\n",
    "        if b%6 == 0:\n",
    "            print b\n",
    "        b += 1"
   ]
  },
  {
   "cell_type": "code",
   "execution_count": 2,
   "metadata": {},
   "outputs": [
    {
     "name": "stdout",
     "output_type": "stream",
     "text": [
      "enter a value 84\n",
      "84\n",
      "90\n",
      "96\n"
     ]
    }
   ],
   "source": [
    "a = 100\n",
    "b = int(raw_input(\"enter a value \"))\n",
    "if b<7 or b>100:\n",
    "    print \"error\"\n",
    "else:\n",
    "    for x in range(b, 101):\n",
    "        if x%6 == 0:\n",
    "            print x"
   ]
  },
  {
   "cell_type": "code",
   "execution_count": null,
   "metadata": {},
   "outputs": [],
   "source": []
  }
 ],
 "metadata": {
  "kernelspec": {
   "display_name": "Python 2",
   "language": "python",
   "name": "python2"
  },
  "language_info": {
   "codemirror_mode": {
    "name": "ipython",
    "version": 2
   },
   "file_extension": ".py",
   "mimetype": "text/x-python",
   "name": "python",
   "nbconvert_exporter": "python",
   "pygments_lexer": "ipython2",
   "version": "2.7.15"
  }
 },
 "nbformat": 4,
 "nbformat_minor": 2
}
