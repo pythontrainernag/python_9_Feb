{
 "cells": [
  {
   "cell_type": "code",
   "execution_count": 1,
   "metadata": {},
   "outputs": [],
   "source": [
    "class Myclass(object):\n",
    "    pass"
   ]
  },
  {
   "cell_type": "code",
   "execution_count": 2,
   "metadata": {},
   "outputs": [
    {
     "name": "stdout",
     "output_type": "stream",
     "text": [
      "<__main__.Myclass object at 0x00000000054FA518>\n"
     ]
    }
   ],
   "source": [
    "i1 = Myclass()\n",
    "print i1"
   ]
  },
  {
   "cell_type": "code",
   "execution_count": 3,
   "metadata": {},
   "outputs": [
    {
     "name": "stdout",
     "output_type": "stream",
     "text": [
      "<__main__.Myclass object at 0x00000000054D9DA0>\n"
     ]
    }
   ],
   "source": [
    "i2 = Myclass()\n",
    "print i2"
   ]
  },
  {
   "cell_type": "code",
   "execution_count": 9,
   "metadata": {},
   "outputs": [],
   "source": [
    "class Pen(object):\n",
    "    def __init__(self, color):\n",
    "        self.ink_level = 100\n",
    "        self.color = color\n",
    "    def hours(self, hrs):\n",
    "        self.ink_level = self.ink_level-(hrs*10)\n",
    "        if self.ink_level <= 10:\n",
    "            return \"Please take backup for ink\"\n",
    "        return \"All is well\"\n",
    "    def getColor(self):\n",
    "        return self.color\n",
    "        "
   ]
  },
  {
   "cell_type": "code",
   "execution_count": 10,
   "metadata": {},
   "outputs": [],
   "source": [
    "p1 = Pen(\"red\")\n",
    "p2 = Pen(\"blue\")"
   ]
  },
  {
   "cell_type": "code",
   "execution_count": 11,
   "metadata": {},
   "outputs": [
    {
     "data": {
      "text/plain": [
       "100"
      ]
     },
     "execution_count": 11,
     "metadata": {},
     "output_type": "execute_result"
    }
   ],
   "source": [
    "p1.ink_level"
   ]
  },
  {
   "cell_type": "code",
   "execution_count": 12,
   "metadata": {},
   "outputs": [
    {
     "data": {
      "text/plain": [
       "100"
      ]
     },
     "execution_count": 12,
     "metadata": {},
     "output_type": "execute_result"
    }
   ],
   "source": [
    "p2.ink_level"
   ]
  },
  {
   "cell_type": "code",
   "execution_count": 13,
   "metadata": {},
   "outputs": [
    {
     "name": "stdout",
     "output_type": "stream",
     "text": [
      "All is well\n",
      "80\n",
      "100\n"
     ]
    }
   ],
   "source": [
    "print p1.hours(2)\n",
    "print p1.ink_level\n",
    "print p2.ink_level\n"
   ]
  },
  {
   "cell_type": "code",
   "execution_count": 15,
   "metadata": {},
   "outputs": [
    {
     "name": "stdout",
     "output_type": "stream",
     "text": [
      "Please take backup for ink\n",
      "5.0\n",
      "100\n"
     ]
    }
   ],
   "source": [
    "print p1.hours(7.5)\n",
    "print p1.ink_level\n",
    "print p2.ink_level"
   ]
  },
  {
   "cell_type": "code",
   "execution_count": 16,
   "metadata": {},
   "outputs": [],
   "source": [
    "class Pen(object):\n",
    "    def __init__(self, color):\n",
    "        self.ink_level = 100\n",
    "        self.color = color\n",
    "    def hours(self, hrs):\n",
    "        print \"self inside class\", self\n",
    "        self.ink_level = self.ink_level-(hrs*10)\n",
    "        if self.ink_level <= 10:\n",
    "            return \"Please take backup for ink\"\n",
    "        return \"All is well\"\n",
    "    def getColor(self):\n",
    "        return self.color"
   ]
  },
  {
   "cell_type": "code",
   "execution_count": 17,
   "metadata": {},
   "outputs": [
    {
     "name": "stdout",
     "output_type": "stream",
     "text": [
      "<__main__.Pen object at 0x00000000054D9EF0>\n",
      "<__main__.Pen object at 0x00000000054FA0B8>\n",
      "self inside class <__main__.Pen object at 0x00000000054D9EF0>\n",
      "All is well\n",
      "self inside class <__main__.Pen object at 0x00000000054FA0B8>\n",
      "All is well\n"
     ]
    }
   ],
   "source": [
    "p1 = Pen(\"red\")\n",
    "p2 = Pen(\"blue\")\n",
    "print p1\n",
    "print p2\n",
    "print p1.hours(2)\n",
    "print p2.hours(3)"
   ]
  },
  {
   "cell_type": "code",
   "execution_count": 18,
   "metadata": {},
   "outputs": [
    {
     "name": "stdout",
     "output_type": "stream",
     "text": [
      "<__main__.Account object at 0x00000000056189B0>\n",
      "<__main__.Account object at 0x0000000005618A20>\n"
     ]
    }
   ],
   "source": [
    "class Account(object):\n",
    "    def __init__(self, name, number):\n",
    "        self.min_bal = 500\n",
    "        self.ac_name = name\n",
    "        self.number = number\n",
    "a1 = Account(\"Nag\", '111')\n",
    "a2 = Account(\"Luc\", '222')\n",
    "print a1\n",
    "print a2"
   ]
  },
  {
   "cell_type": "code",
   "execution_count": 19,
   "metadata": {},
   "outputs": [
    {
     "name": "stdout",
     "output_type": "stream",
     "text": [
      "500\n",
      "Nag\n",
      "111\n"
     ]
    }
   ],
   "source": [
    "print a1.min_bal\n",
    "print a1.ac_name\n",
    "print a1.number"
   ]
  },
  {
   "cell_type": "code",
   "execution_count": 22,
   "metadata": {},
   "outputs": [
    {
     "name": "stdout",
     "output_type": "stream",
     "text": [
      "<__main__.Account object at 0x00000000054D9F98>\n",
      "<__main__.Account object at 0x00000000053579E8>\n"
     ]
    }
   ],
   "source": [
    "class Account(object):\n",
    "    def __init__(self, name, number):\n",
    "        self.min_bal = 500\n",
    "        self.bal = 500\n",
    "        self.ac_name = name\n",
    "        self.number = number\n",
    "    def deposit(self, amount):\n",
    "        self.bal += amount\n",
    "        return self.bal \n",
    "a1 = Account(\"Nag\", '111')\n",
    "a2 = Account(\"Luc\", '222')\n",
    "print a1\n",
    "print a2"
   ]
  },
  {
   "cell_type": "code",
   "execution_count": 23,
   "metadata": {},
   "outputs": [
    {
     "name": "stdout",
     "output_type": "stream",
     "text": [
      "5500\n",
      "5500\n"
     ]
    }
   ],
   "source": [
    "print a1.deposit(5000)\n",
    "print a1.bal\n"
   ]
  },
  {
   "cell_type": "code",
   "execution_count": 1,
   "metadata": {},
   "outputs": [
    {
     "name": "stdout",
     "output_type": "stream",
     "text": [
      "1\n"
     ]
    }
   ],
   "source": [
    "#to display and add the fractional numbers\n",
    "#8/5\n",
    "print 8/5"
   ]
  },
  {
   "cell_type": "code",
   "execution_count": 2,
   "metadata": {},
   "outputs": [
    {
     "name": "stdout",
     "output_type": "stream",
     "text": [
      "8/5\n"
     ]
    }
   ],
   "source": [
    "print str(8)+'/'+str(5)"
   ]
  },
  {
   "cell_type": "code",
   "execution_count": 3,
   "metadata": {},
   "outputs": [],
   "source": [
    "class Fraction(object):\n",
    "    def __init__(self,num, denom):\n",
    "        self.num = num\n",
    "        self.denom = denom"
   ]
  },
  {
   "cell_type": "code",
   "execution_count": 4,
   "metadata": {},
   "outputs": [],
   "source": [
    "class Myclass(object):\n",
    "    a = 15\n",
    "    b = 25\n",
    "    def __init__(self):\n",
    "        self.c = 10\n",
    "        self.d = 20"
   ]
  },
  {
   "cell_type": "code",
   "execution_count": 5,
   "metadata": {},
   "outputs": [
    {
     "name": "stdout",
     "output_type": "stream",
     "text": [
      "15 25 10 20\n",
      "15 25 10 20\n"
     ]
    }
   ],
   "source": [
    "i1 = Myclass()\n",
    "i2 = Myclass()\n",
    "print i1.a, i1.b, i1.c, i1.d\n",
    "print i2.a, i2.b, i2.c, i2.d"
   ]
  },
  {
   "cell_type": "code",
   "execution_count": 6,
   "metadata": {},
   "outputs": [
    {
     "name": "stdout",
     "output_type": "stream",
     "text": [
      "15 25 100 20\n",
      "15 25 10 20\n"
     ]
    }
   ],
   "source": [
    "i1.c = 100\n",
    "print i1.a, i1.b, i1.c, i1.d\n",
    "print i2.a, i2.b, i2.c, i2.d"
   ]
  },
  {
   "cell_type": "code",
   "execution_count": 7,
   "metadata": {},
   "outputs": [
    {
     "name": "stdout",
     "output_type": "stream",
     "text": [
      "200 25 100 20\n",
      "200 25 10 20\n"
     ]
    }
   ],
   "source": [
    "Myclass.a = 200\n",
    "print i1.a, i1.b, i1.c, i1.d\n",
    "print i2.a, i2.b, i2.c, i2.d"
   ]
  },
  {
   "cell_type": "code",
   "execution_count": 8,
   "metadata": {},
   "outputs": [
    {
     "name": "stdout",
     "output_type": "stream",
     "text": [
      "200\n"
     ]
    }
   ],
   "source": [
    "i3 = Myclass()\n",
    "print i3.a"
   ]
  },
  {
   "cell_type": "code",
   "execution_count": 9,
   "metadata": {},
   "outputs": [
    {
     "name": "stdout",
     "output_type": "stream",
     "text": [
      "500\n",
      "200\n"
     ]
    }
   ],
   "source": [
    "i1.a = 500\n",
    "print i1.a\n",
    "print i2.a"
   ]
  },
  {
   "cell_type": "code",
   "execution_count": 11,
   "metadata": {},
   "outputs": [
    {
     "ename": "TypeError",
     "evalue": "__init__() takes exactly 3 arguments (1 given)",
     "output_type": "error",
     "traceback": [
      "\u001b[1;31m---------------------------------------------------------------------------\u001b[0m",
      "\u001b[1;31mTypeError\u001b[0m                                 Traceback (most recent call last)",
      "\u001b[1;32m<ipython-input-11-8e87d4026507>\u001b[0m in \u001b[0;36m<module>\u001b[1;34m()\u001b[0m\n\u001b[0;32m      8\u001b[0m     \u001b[1;32mdef\u001b[0m \u001b[0mreadValues\u001b[0m\u001b[1;33m(\u001b[0m\u001b[0mself\u001b[0m\u001b[1;33m)\u001b[0m\u001b[1;33m:\u001b[0m\u001b[1;33m\u001b[0m\u001b[0m\n\u001b[0;32m      9\u001b[0m         \u001b[1;32mreturn\u001b[0m \u001b[0mself\u001b[0m\u001b[1;33m.\u001b[0m\u001b[0ma\u001b[0m\u001b[1;33m,\u001b[0m \u001b[0mself\u001b[0m\u001b[1;33m.\u001b[0m\u001b[0mb\u001b[0m\u001b[1;33m,\u001b[0m \u001b[0mself\u001b[0m\u001b[1;33m.\u001b[0m\u001b[0mc\u001b[0m\u001b[1;33m,\u001b[0m \u001b[0mself\u001b[0m\u001b[1;33m.\u001b[0m\u001b[0md\u001b[0m\u001b[1;33m,\u001b[0m \u001b[0mself\u001b[0m\u001b[1;33m.\u001b[0m\u001b[0me\u001b[0m\u001b[1;33m\u001b[0m\u001b[0m\n\u001b[1;32m---> 10\u001b[1;33m \u001b[0mi1\u001b[0m \u001b[1;33m=\u001b[0m \u001b[0mMyclass\u001b[0m\u001b[1;33m(\u001b[0m\u001b[1;33m)\u001b[0m\u001b[1;33m\u001b[0m\u001b[0m\n\u001b[0m",
      "\u001b[1;31mTypeError\u001b[0m: __init__() takes exactly 3 arguments (1 given)"
     ]
    }
   ],
   "source": [
    "class Myclass(object):\n",
    "    a = 15\n",
    "    b = 25\n",
    "    def __init__(self, x, y):\n",
    "        self.c = x\n",
    "        self.d = y\n",
    "        self.e = 100\n",
    "    def readValues(self):\n",
    "        return self.a, self.b, self.c, self.d, self.e\n",
    "i1 = Myclass()\n"
   ]
  },
  {
   "cell_type": "code",
   "execution_count": 12,
   "metadata": {},
   "outputs": [],
   "source": [
    "i1 = Myclass(10, 20)\n",
    "i2 = Myclass(30, 40)"
   ]
  },
  {
   "cell_type": "code",
   "execution_count": 13,
   "metadata": {},
   "outputs": [
    {
     "name": "stdout",
     "output_type": "stream",
     "text": [
      "(15, 25, 10, 20, 100)\n"
     ]
    }
   ],
   "source": [
    "print i1.readValues()"
   ]
  },
  {
   "cell_type": "code",
   "execution_count": 15,
   "metadata": {},
   "outputs": [
    {
     "name": "stdout",
     "output_type": "stream",
     "text": [
      "(15, 25, 30, 40, 100)\n"
     ]
    }
   ],
   "source": [
    "print i2.readValues()"
   ]
  },
  {
   "cell_type": "code",
   "execution_count": 18,
   "metadata": {},
   "outputs": [],
   "source": [
    "class Myclass(object):\n",
    "    a = 15\n",
    "    b = 25\n",
    "    def __init__(self, x, y):\n",
    "        self.c = x\n",
    "        self.d = y\n",
    "        self.e = 100\n",
    "    def readValues(self):\n",
    "        return self.a, self.b, self.c, self.d, self.e\n",
    "    def readclsValues(self):\n",
    "        values = self.readValues()\n",
    "        return values[:2]"
   ]
  },
  {
   "cell_type": "code",
   "execution_count": 19,
   "metadata": {},
   "outputs": [
    {
     "name": "stdout",
     "output_type": "stream",
     "text": [
      "(15, 25)\n"
     ]
    }
   ],
   "source": [
    "i1 = Myclass(10, 20)\n",
    "print i1.readclsValues()"
   ]
  },
  {
   "cell_type": "code",
   "execution_count": 20,
   "metadata": {},
   "outputs": [
    {
     "name": "stdout",
     "output_type": "stream",
     "text": [
      "(15, 25, 10, 20, 100)\n"
     ]
    }
   ],
   "source": [
    "print i1.readValues()"
   ]
  },
  {
   "cell_type": "code",
   "execution_count": 21,
   "metadata": {},
   "outputs": [],
   "source": [
    "class Myclass(object):\n",
    "    a = 15\n",
    "    b = 25\n",
    "    def __init__(self, x, y):\n",
    "        self.c = x\n",
    "        self.d = y\n",
    "        self.e = 100\n",
    "    def readValues(self):\n",
    "        return self.a, self.b, self.c, self.d, self.e\n",
    "    def readclsValues(xyz):\n",
    "        values = xyz.readValues()\n",
    "        return values[:2]"
   ]
  },
  {
   "cell_type": "code",
   "execution_count": 22,
   "metadata": {},
   "outputs": [
    {
     "name": "stdout",
     "output_type": "stream",
     "text": [
      "(15, 25)\n"
     ]
    }
   ],
   "source": [
    "i1 = Myclass(10, 20)\n",
    "print i1.readclsValues()"
   ]
  },
  {
   "cell_type": "code",
   "execution_count": 23,
   "metadata": {},
   "outputs": [
    {
     "name": "stdout",
     "output_type": "stream",
     "text": [
      "1\n"
     ]
    }
   ],
   "source": [
    "print 8/5"
   ]
  },
  {
   "cell_type": "code",
   "execution_count": 24,
   "metadata": {},
   "outputs": [
    {
     "name": "stdout",
     "output_type": "stream",
     "text": [
      "8/5\n"
     ]
    }
   ],
   "source": [
    "print str(8)+'/'+str(5)"
   ]
  },
  {
   "cell_type": "code",
   "execution_count": 25,
   "metadata": {},
   "outputs": [],
   "source": [
    "class Fraction(object):\n",
    "    def __init__(self, num, y):\n",
    "        self.num = num\n",
    "        self.denom = y"
   ]
  },
  {
   "cell_type": "code",
   "execution_count": 26,
   "metadata": {},
   "outputs": [
    {
     "name": "stdout",
     "output_type": "stream",
     "text": [
      "<class '__main__.Fraction'>\n"
     ]
    }
   ],
   "source": [
    "f1 = Fraction(8, 5)\n",
    "print type(f1)"
   ]
  },
  {
   "cell_type": "code",
   "execution_count": 27,
   "metadata": {},
   "outputs": [
    {
     "name": "stdout",
     "output_type": "stream",
     "text": [
      "<__main__.Fraction object at 0x000000000460BF98>\n"
     ]
    }
   ],
   "source": [
    "print f1"
   ]
  },
  {
   "cell_type": "code",
   "execution_count": 28,
   "metadata": {},
   "outputs": [
    {
     "name": "stdout",
     "output_type": "stream",
     "text": [
      "8/5\n"
     ]
    }
   ],
   "source": [
    "class Fraction(object):\n",
    "    def __init__(self, num, y):\n",
    "        self.num = num\n",
    "        self.denom = y\n",
    "    def display(self):\n",
    "        return str(self.num)+'/'+str(self.denom)\n",
    "f1 = Fraction(8, 5)\n",
    "print f1.display()"
   ]
  },
  {
   "cell_type": "code",
   "execution_count": 29,
   "metadata": {},
   "outputs": [
    {
     "name": "stdout",
     "output_type": "stream",
     "text": [
      "<__main__.Fraction object at 0x0000000004D37E10>\n"
     ]
    }
   ],
   "source": [
    "print f1"
   ]
  },
  {
   "cell_type": "code",
   "execution_count": 30,
   "metadata": {},
   "outputs": [
    {
     "name": "stdout",
     "output_type": "stream",
     "text": [
      "8/5\n"
     ]
    }
   ],
   "source": [
    "class Fraction(object):\n",
    "    def __init__(self, num, y):\n",
    "        self.num = num\n",
    "        self.denom = y\n",
    "    def __str__(self):\n",
    "        return str(self.num)+'/'+str(self.denom)\n",
    "f1 = Fraction(8, 5)\n",
    "print f1"
   ]
  },
  {
   "cell_type": "code",
   "execution_count": 31,
   "metadata": {},
   "outputs": [
    {
     "name": "stdout",
     "output_type": "stream",
     "text": [
      "<class '__main__.Fraction'>\n"
     ]
    }
   ],
   "source": [
    "print type(f1)"
   ]
  },
  {
   "cell_type": "code",
   "execution_count": 32,
   "metadata": {},
   "outputs": [],
   "source": [
    "#some magical methods will called as soon as object/instance is created\n",
    "\n",
    "#__new__ it used to create the instance\n",
    "#__call__ defines the procedure how read/call the methods/variables\n",
    "#__init__ \n",
    "#__str__/__int__/__float__"
   ]
  },
  {
   "cell_type": "code",
   "execution_count": 33,
   "metadata": {},
   "outputs": [
    {
     "name": "stdout",
     "output_type": "stream",
     "text": [
      "8/5\n",
      "10/7\n"
     ]
    }
   ],
   "source": [
    "class Fraction(object):\n",
    "    def __init__(self, num, y):\n",
    "        self.num = num\n",
    "        self.denom = y\n",
    "    def __str__(self):\n",
    "        return str(self.num)+'/'+str(self.denom)\n",
    "    \n",
    "f1 = Fraction(8, 5)\n",
    "print f1\n",
    "f2 = Fraction(10, 7)\n",
    "print f2"
   ]
  },
  {
   "cell_type": "code",
   "execution_count": 34,
   "metadata": {},
   "outputs": [],
   "source": [
    "#num = x1*y2 + x2*y1\n",
    "#denom = y1*y2"
   ]
  },
  {
   "cell_type": "code",
   "execution_count": 36,
   "metadata": {
    "scrolled": true
   },
   "outputs": [
    {
     "name": "stdout",
     "output_type": "stream",
     "text": [
      "96/28\n"
     ]
    }
   ],
   "source": [
    "class Fraction(object):\n",
    "    def __init__(self, num, y):\n",
    "        self.num = num\n",
    "        self.denom = y\n",
    "    def __str__(self):\n",
    "        return str(self.num)+'/'+str(self.denom)\n",
    "    \n",
    "    def addi(self, other):\n",
    "        num = self.num*other.denom + self.denom*other.num\n",
    "        denom = self.denom * other.denom\n",
    "        return str(num)+'/'+str(denom)\n",
    "    \n",
    "f1 = Fraction(8, 4)\n",
    "f2 = Fraction(10, 7)\n",
    "print f1.addi(f2)\n",
    "\n"
   ]
  },
  {
   "cell_type": "code",
   "execution_count": 37,
   "metadata": {},
   "outputs": [
    {
     "name": "stdout",
     "output_type": "stream",
     "text": [
      "96/28\n"
     ]
    }
   ],
   "source": [
    "class Fraction(object):\n",
    "    def __init__(self, num, y):\n",
    "        self.num = num\n",
    "        self.denom = y\n",
    "    def __str__(self):\n",
    "        return str(self.num)+'/'+str(self.denom)\n",
    "    \n",
    "    def __add__(self, other):\n",
    "        num = self.num*other.denom + self.denom*other.num\n",
    "        denom = self.denom * other.denom\n",
    "        return str(num)+'/'+str(denom)\n",
    "    \n",
    "f1 = Fraction(8, 4)\n",
    "f2 = Fraction(10, 7)\n",
    "print f1+f2\n",
    "\n"
   ]
  },
  {
   "cell_type": "code",
   "execution_count": 38,
   "metadata": {},
   "outputs": [
    {
     "name": "stdout",
     "output_type": "stream",
     "text": [
      "96/28\n"
     ]
    }
   ],
   "source": [
    "print f1.__add__(f2)"
   ]
  },
  {
   "cell_type": "code",
   "execution_count": null,
   "metadata": {},
   "outputs": [],
   "source": []
  }
 ],
 "metadata": {
  "kernelspec": {
   "display_name": "Python 2",
   "language": "python",
   "name": "python2"
  },
  "language_info": {
   "codemirror_mode": {
    "name": "ipython",
    "version": 2
   },
   "file_extension": ".py",
   "mimetype": "text/x-python",
   "name": "python",
   "nbconvert_exporter": "python",
   "pygments_lexer": "ipython2",
   "version": "2.7.15"
  }
 },
 "nbformat": 4,
 "nbformat_minor": 2
}
