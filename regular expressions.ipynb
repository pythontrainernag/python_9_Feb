{
 "cells": [
  {
   "cell_type": "code",
   "execution_count": 1,
   "metadata": {},
   "outputs": [],
   "source": [
    "#replica of string functions"
   ]
  },
  {
   "cell_type": "code",
   "execution_count": 2,
   "metadata": {},
   "outputs": [],
   "source": [
    "import re"
   ]
  },
  {
   "cell_type": "code",
   "execution_count": 3,
   "metadata": {},
   "outputs": [],
   "source": [
    "a = \"My mobile is +91-8148586078. My name is Nag. I am a python trainer.\""
   ]
  },
  {
   "cell_type": "code",
   "execution_count": 4,
   "metadata": {},
   "outputs": [],
   "source": [
    "index = a.index('+91-')"
   ]
  },
  {
   "cell_type": "code",
   "execution_count": 5,
   "metadata": {},
   "outputs": [
    {
     "name": "stdout",
     "output_type": "stream",
     "text": [
      "13\n"
     ]
    }
   ],
   "source": [
    "print index"
   ]
  },
  {
   "cell_type": "code",
   "execution_count": 6,
   "metadata": {},
   "outputs": [
    {
     "name": "stdout",
     "output_type": "stream",
     "text": [
      "8148586078\n"
     ]
    }
   ],
   "source": [
    "number=a[index+4:index+14]\n",
    "print number"
   ]
  },
  {
   "cell_type": "code",
   "execution_count": 7,
   "metadata": {},
   "outputs": [
    {
     "name": "stdout",
     "output_type": "stream",
     "text": [
      "True\n"
     ]
    }
   ],
   "source": [
    "print number.isdigit()"
   ]
  },
  {
   "cell_type": "code",
   "execution_count": 8,
   "metadata": {},
   "outputs": [
    {
     "name": "stdout",
     "output_type": "stream",
     "text": [
      "+91-8148586078\n"
     ]
    }
   ],
   "source": [
    "print \"+91-\"+number"
   ]
  },
  {
   "cell_type": "code",
   "execution_count": 25,
   "metadata": {},
   "outputs": [
    {
     "name": "stdout",
     "output_type": "stream",
     "text": [
      "+91-8148586078\n"
     ]
    }
   ],
   "source": [
    "print re.search(r'\\+91\\-\\d\\d\\d\\d\\d\\d\\d\\d\\d\\d', a).group()"
   ]
  },
  {
   "cell_type": "code",
   "execution_count": 17,
   "metadata": {},
   "outputs": [
    {
     "name": "stdout",
     "output_type": "stream",
     "text": [
      "Help on function search in module re:\n",
      "\n",
      "search(pattern, string, flags=0)\n",
      "    Scan through string looking for a match to the pattern, returning\n",
      "    a match object, or None if no match was found.\n",
      "\n",
      "None\n"
     ]
    }
   ],
   "source": [
    "print help(re.search)"
   ]
  },
  {
   "cell_type": "code",
   "execution_count": 26,
   "metadata": {},
   "outputs": [
    {
     "name": "stdout",
     "output_type": "stream",
     "text": [
      "+91-8148586078\n"
     ]
    }
   ],
   "source": [
    "a = \"My mobile is +91-814858607834. My name is Nag. I am a python trainer.\"\n",
    "print re.search(r'\\+91\\-\\d\\d\\d\\d\\d\\d\\d\\d\\d\\d', a).group()"
   ]
  },
  {
   "cell_type": "code",
   "execution_count": 28,
   "metadata": {},
   "outputs": [
    {
     "name": "stdout",
     "output_type": "stream",
     "text": [
      "+91-8148586078\n"
     ]
    }
   ],
   "source": [
    "a = \"My mobile is +91-8148586078. My name is Nag. I am a python trainer.\"\n",
    "print re.search(r'\\+91\\-\\d\\d\\d\\d\\d\\d\\d\\d\\d\\d\\.', a).group()[:-1]"
   ]
  },
  {
   "cell_type": "code",
   "execution_count": 29,
   "metadata": {},
   "outputs": [
    {
     "ename": "AttributeError",
     "evalue": "'NoneType' object has no attribute 'group'",
     "output_type": "error",
     "traceback": [
      "\u001b[1;31m---------------------------------------------------------------------------\u001b[0m",
      "\u001b[1;31mAttributeError\u001b[0m                            Traceback (most recent call last)",
      "\u001b[1;32m<ipython-input-29-aef205cae020>\u001b[0m in \u001b[0;36m<module>\u001b[1;34m()\u001b[0m\n\u001b[0;32m      1\u001b[0m \u001b[0ma\u001b[0m \u001b[1;33m=\u001b[0m \u001b[1;34m\"My mobile is +91-81485860785. My name is Nag. I am a python trainer.\"\u001b[0m\u001b[1;33m\u001b[0m\u001b[0m\n\u001b[1;32m----> 2\u001b[1;33m \u001b[1;32mprint\u001b[0m \u001b[0mre\u001b[0m\u001b[1;33m.\u001b[0m\u001b[0msearch\u001b[0m\u001b[1;33m(\u001b[0m\u001b[1;34mr'\\+91\\-\\d\\d\\d\\d\\d\\d\\d\\d\\d\\d\\.'\u001b[0m\u001b[1;33m,\u001b[0m \u001b[0ma\u001b[0m\u001b[1;33m)\u001b[0m\u001b[1;33m.\u001b[0m\u001b[0mgroup\u001b[0m\u001b[1;33m(\u001b[0m\u001b[1;33m)\u001b[0m\u001b[1;33m[\u001b[0m\u001b[1;33m:\u001b[0m\u001b[1;33m-\u001b[0m\u001b[1;36m1\u001b[0m\u001b[1;33m]\u001b[0m\u001b[1;33m\u001b[0m\u001b[0m\n\u001b[0m",
      "\u001b[1;31mAttributeError\u001b[0m: 'NoneType' object has no attribute 'group'"
     ]
    }
   ],
   "source": [
    "a = \"My mobile is +91-81485860785. My name is Nag. I am a python trainer.\"\n",
    "print re.search(r'\\+91\\-\\d\\d\\d\\d\\d\\d\\d\\d\\d\\d\\.', a).group()[:-1]"
   ]
  },
  {
   "cell_type": "code",
   "execution_count": 30,
   "metadata": {},
   "outputs": [
    {
     "name": "stdout",
     "output_type": "stream",
     "text": [
      "+91-8148586078\n"
     ]
    }
   ],
   "source": [
    "a = \"My mobile is +91-8148586078. My name is Nag. I am a python trainer.\"\n",
    "print re.search(r'\\+91\\-\\d{10}\\.', a).group()[:-1]"
   ]
  },
  {
   "cell_type": "code",
   "execution_count": 2,
   "metadata": {},
   "outputs": [
    {
     "name": "stdout",
     "output_type": "stream",
     "text": [
      "+91-8148586078\n"
     ]
    }
   ],
   "source": [
    "import re\n",
    "a = \"My mobile is +91-8148586078. My name is Nag. I am a python trainer.\"\n",
    "print re.search(r'\\+91\\-\\d{10}\\.', a).group()[:-1]"
   ]
  },
  {
   "cell_type": "code",
   "execution_count": 5,
   "metadata": {},
   "outputs": [
    {
     "name": "stdout",
     "output_type": "stream",
     "text": [
      "+91-8148586078\n"
     ]
    }
   ],
   "source": [
    "import re\n",
    "a = \"My mobile is +91-8148586078. My name is Nag. I am a python trainer.\"\n",
    "print re.search(r'\\+91\\-\\d{10}\\.', a).group()[:-1]"
   ]
  },
  {
   "cell_type": "code",
   "execution_count": 7,
   "metadata": {},
   "outputs": [
    {
     "name": "stdout",
     "output_type": "stream",
     "text": [
      "+91-814858607823\n"
     ]
    }
   ],
   "source": [
    "import re\n",
    "a = \"My mobile is +91-814858607823. My name is Nag. I am a python trainer.\"\n",
    "print re.search(r'\\+91\\-\\d{10,12}\\.', a).group()[:-1]"
   ]
  },
  {
   "cell_type": "code",
   "execution_count": 8,
   "metadata": {},
   "outputs": [
    {
     "name": "stdout",
     "output_type": "stream",
     "text": [
      "+91-814858607823.\n"
     ]
    }
   ],
   "source": [
    "import re\n",
    "a = \"My mobile is +91-814858607823. My name is Nag. I am a python trainer.\"\n",
    "print re.search(r'\\+91\\-\\d{,12}\\.', a).group()"
   ]
  },
  {
   "cell_type": "code",
   "execution_count": 9,
   "metadata": {},
   "outputs": [
    {
     "name": "stdout",
     "output_type": "stream",
     "text": [
      "+91-814858607823.\n"
     ]
    }
   ],
   "source": [
    "import re\n",
    "a = \"My mobile is +91-814858607823. My name is Nag. I am a python trainer.\"\n",
    "print re.search(r'\\+91\\-\\d{10,}\\.', a).group()"
   ]
  },
  {
   "cell_type": "code",
   "execution_count": 10,
   "metadata": {},
   "outputs": [],
   "source": [
    "#grouping"
   ]
  },
  {
   "cell_type": "code",
   "execution_count": 11,
   "metadata": {},
   "outputs": [],
   "source": [
    "import re\n",
    "a = \"My mobile is +91-8148586078. My name is Nag. I am a python trainer.\"\n",
    "res = re.search(r'(\\+91)\\-(\\d{10})\\.', a)"
   ]
  },
  {
   "cell_type": "code",
   "execution_count": 12,
   "metadata": {},
   "outputs": [
    {
     "name": "stdout",
     "output_type": "stream",
     "text": [
      "<_sre.SRE_Match object at 0x0000000004DEF470>\n"
     ]
    }
   ],
   "source": [
    "print res"
   ]
  },
  {
   "cell_type": "code",
   "execution_count": 13,
   "metadata": {},
   "outputs": [
    {
     "name": "stdout",
     "output_type": "stream",
     "text": [
      "+91-8148586078.\n"
     ]
    }
   ],
   "source": [
    "print res.group()"
   ]
  },
  {
   "cell_type": "code",
   "execution_count": 14,
   "metadata": {},
   "outputs": [
    {
     "name": "stdout",
     "output_type": "stream",
     "text": [
      "+91\n"
     ]
    }
   ],
   "source": [
    "print res.group(1)"
   ]
  },
  {
   "cell_type": "code",
   "execution_count": 15,
   "metadata": {},
   "outputs": [
    {
     "name": "stdout",
     "output_type": "stream",
     "text": [
      "8148586078\n"
     ]
    }
   ],
   "source": [
    "print res.group(2)"
   ]
  },
  {
   "cell_type": "code",
   "execution_count": 16,
   "metadata": {},
   "outputs": [],
   "source": [
    "import re\n",
    "a = \"+21 My mobile is +91-8148586078. My name is Nag. I am a python trainer.\"\n",
    "res = re.search(r'(\\+91)\\-(\\d{10})\\.', a)"
   ]
  },
  {
   "cell_type": "code",
   "execution_count": 17,
   "metadata": {},
   "outputs": [],
   "source": [
    "res = re.search(r'\\+\\d\\d', a).group()"
   ]
  },
  {
   "cell_type": "code",
   "execution_count": 19,
   "metadata": {},
   "outputs": [],
   "source": [
    "#192.0.0.1, 0.0.0.0, 1.5.10.225\n",
    "#'\\d{1,3}\\.\\d{1,3}\\.\\d{1,3}\\.\\d{1,3}'"
   ]
  },
  {
   "cell_type": "code",
   "execution_count": 20,
   "metadata": {},
   "outputs": [],
   "source": [
    "#+, *, ?"
   ]
  },
  {
   "cell_type": "code",
   "execution_count": 21,
   "metadata": {},
   "outputs": [],
   "source": [
    "#+ indicates one or more match"
   ]
  },
  {
   "cell_type": "code",
   "execution_count": 22,
   "metadata": {},
   "outputs": [],
   "source": [
    "#character classes\n",
    "import re\n",
    "a = \"+21 My mobile is +91-8148586078. My name is Nag. I am a python trainer.\"\n",
    "res = re.search(r'mobile is \\+91\\-([7689]\\d{9})\\.', a)"
   ]
  },
  {
   "cell_type": "code",
   "execution_count": 23,
   "metadata": {},
   "outputs": [
    {
     "name": "stdout",
     "output_type": "stream",
     "text": [
      "mobile is +91-8148586078.\n"
     ]
    }
   ],
   "source": [
    "print res.group()"
   ]
  },
  {
   "cell_type": "code",
   "execution_count": 24,
   "metadata": {},
   "outputs": [],
   "source": [
    "#character classes\n",
    "import re\n",
    "a = \"+21 My mobile is +91-5148586078. My name is Nag. I am a python trainer.\"\n",
    "res = re.search(r'mobile is \\+91\\-([7689]\\d{9})\\.', a)"
   ]
  },
  {
   "cell_type": "code",
   "execution_count": 25,
   "metadata": {},
   "outputs": [
    {
     "name": "stdout",
     "output_type": "stream",
     "text": [
      "None\n"
     ]
    }
   ],
   "source": [
    "print res"
   ]
  },
  {
   "cell_type": "code",
   "execution_count": 26,
   "metadata": {},
   "outputs": [
    {
     "name": "stdout",
     "output_type": "stream",
     "text": [
      "mobile is +91-6148586078.\n"
     ]
    }
   ],
   "source": [
    "import re\n",
    "a = \"+21 My mobile is +91-6148586078. My name is Nag. I am a python trainer. 12 14 25\"\n",
    "res = re.search(r'mobile is \\+91\\-([6-9]\\d{9})\\.', a)\n",
    "print res.group()"
   ]
  },
  {
   "cell_type": "code",
   "execution_count": 33,
   "metadata": {},
   "outputs": [],
   "source": [
    "import re\n",
    "a = \"+21 My mobile is +91-6148586078. a1 a2 My name is Nag. I am a python trainer. 12 a 14 25\"\n",
    "res = re.findall(r'\\s([a-z0-9]{2})\\s', a)"
   ]
  },
  {
   "cell_type": "code",
   "execution_count": 34,
   "metadata": {},
   "outputs": [
    {
     "name": "stdout",
     "output_type": "stream",
     "text": [
      "['is', 'a1', 'is', 'am', '12', '14']\n"
     ]
    }
   ],
   "source": [
    "print res"
   ]
  },
  {
   "cell_type": "code",
   "execution_count": 35,
   "metadata": {},
   "outputs": [],
   "source": [
    "import re\n",
    "a = \"+21 My mobile is +91-6148586078. a1 a2 My name is Nag. I am a python trainer. 12 a 14 25\"\n",
    "res = re.findall(r'[^A-z0-9]', a)"
   ]
  },
  {
   "cell_type": "code",
   "execution_count": 37,
   "metadata": {},
   "outputs": [
    {
     "name": "stdout",
     "output_type": "stream",
     "text": [
      "set([' ', '+', '-', '.'])\n"
     ]
    }
   ],
   "source": [
    "print set(res)"
   ]
  },
  {
   "cell_type": "code",
   "execution_count": 41,
   "metadata": {},
   "outputs": [
    {
     "name": "stdout",
     "output_type": "stream",
     "text": [
      "['DEBUG', 'DOTALL', 'I', 'IGNORECASE', 'L', 'LOCALE', 'M', 'MULTILINE', 'S', 'Scanner', 'T', 'TEMPLATE', 'U', 'UNICODE', 'VERBOSE', 'X', '_MAXCACHE', '__all__', '__builtins__', '__doc__', '__file__', '__name__', '__package__', '__version__', '_alphanum', '_cache', '_cache_repl', '_compile', '_compile_repl', '_expand', '_locale', '_pattern_type', '_pickle', '_subx', 'compile', 'copy_reg', 'error', 'escape', 'findall', 'finditer', 'match', 'purge', 'search', 'split', 'sre_compile', 'sre_parse', 'sub', 'subn', 'sys', 'template']\n"
     ]
    }
   ],
   "source": [
    "b = \"nag@python$2019#09:00AM\"\n",
    "print dir(re)"
   ]
  },
  {
   "cell_type": "code",
   "execution_count": 42,
   "metadata": {},
   "outputs": [
    {
     "name": "stdout",
     "output_type": "stream",
     "text": [
      "['nag', 'python', '2019', '09:00AM']\n"
     ]
    }
   ],
   "source": [
    "x = re.split('[^A-z0-9:]', b)\n",
    "print x"
   ]
  },
  {
   "cell_type": "code",
   "execution_count": 43,
   "metadata": {},
   "outputs": [
    {
     "name": "stdout",
     "output_type": "stream",
     "text": [
      "nag python 2019 09:00AM\n"
     ]
    }
   ],
   "source": [
    "print ' '.join(x)"
   ]
  },
  {
   "cell_type": "code",
   "execution_count": 45,
   "metadata": {},
   "outputs": [],
   "source": [
    "# +,*,? and .\n",
    "# + indicates one or more match\n",
    "# ? 0 or 1 match\n",
    "# * 0 or more matches"
   ]
  },
  {
   "cell_type": "code",
   "execution_count": 47,
   "metadata": {},
   "outputs": [
    {
     "name": "stdout",
     "output_type": "stream",
     "text": [
      "['class']\n"
     ]
    }
   ],
   "source": [
    "a = \"This is a python class.\"\n",
    "print re.findall('(clas+)\\.', a)"
   ]
  },
  {
   "cell_type": "code",
   "execution_count": 48,
   "metadata": {},
   "outputs": [
    {
     "name": "stdout",
     "output_type": "stream",
     "text": [
      "['clas']\n"
     ]
    }
   ],
   "source": [
    "a = \"This is a python clas.\"\n",
    "print re.findall('(clas+)\\.', a)"
   ]
  },
  {
   "cell_type": "code",
   "execution_count": 49,
   "metadata": {},
   "outputs": [
    {
     "name": "stdout",
     "output_type": "stream",
     "text": [
      "[]\n"
     ]
    }
   ],
   "source": [
    "a = \"This is a python cla.\"\n",
    "print re.findall('(clas+)\\.', a)"
   ]
  },
  {
   "cell_type": "code",
   "execution_count": null,
   "metadata": {},
   "outputs": [],
   "source": [
    "a = \"This is a python class.\"\n",
    "print re.findall('[alcs]\\.', a)"
   ]
  }
 ],
 "metadata": {
  "kernelspec": {
   "display_name": "Python 2",
   "language": "python",
   "name": "python2"
  },
  "language_info": {
   "codemirror_mode": {
    "name": "ipython",
    "version": 2
   },
   "file_extension": ".py",
   "mimetype": "text/x-python",
   "name": "python",
   "nbconvert_exporter": "python",
   "pygments_lexer": "ipython2",
   "version": "2.7.15"
  }
 },
 "nbformat": 4,
 "nbformat_minor": 2
}
