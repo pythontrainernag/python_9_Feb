{
 "cells": [
  {
   "cell_type": "code",
   "execution_count": 1,
   "metadata": {},
   "outputs": [],
   "source": [
    "#what is an error and what is an exception"
   ]
  },
  {
   "cell_type": "code",
   "execution_count": 2,
   "metadata": {},
   "outputs": [],
   "source": [
    "#exception is recoverable\n",
    "#error is irrecoverable"
   ]
  },
  {
   "cell_type": "code",
   "execution_count": 3,
   "metadata": {},
   "outputs": [
    {
     "ename": "IOError",
     "evalue": "[Errno 2] No such file or directory: 'xyz.txt'",
     "output_type": "error",
     "traceback": [
      "\u001b[1;31m---------------------------------------------------------------------------\u001b[0m",
      "\u001b[1;31mIOError\u001b[0m                                   Traceback (most recent call last)",
      "\u001b[1;32m<ipython-input-3-fe5ebcdc25b1>\u001b[0m in \u001b[0;36m<module>\u001b[1;34m()\u001b[0m\n\u001b[1;32m----> 1\u001b[1;33m \u001b[0mf\u001b[0m \u001b[1;33m=\u001b[0m \u001b[0mopen\u001b[0m\u001b[1;33m(\u001b[0m\u001b[1;34m'xyz.txt'\u001b[0m\u001b[1;33m,\u001b[0m \u001b[1;34m'r'\u001b[0m\u001b[1;33m)\u001b[0m\u001b[1;33m\u001b[0m\u001b[0m\n\u001b[0m",
      "\u001b[1;31mIOError\u001b[0m: [Errno 2] No such file or directory: 'xyz.txt'"
     ]
    }
   ],
   "source": [
    "f = open('xyz.txt', 'r')"
   ]
  },
  {
   "cell_type": "code",
   "execution_count": 4,
   "metadata": {},
   "outputs": [
    {
     "ename": "NameError",
     "evalue": "name 'x' is not defined",
     "output_type": "error",
     "traceback": [
      "\u001b[1;31m---------------------------------------------------------------------------\u001b[0m",
      "\u001b[1;31mNameError\u001b[0m                                 Traceback (most recent call last)",
      "\u001b[1;32m<ipython-input-4-0b640320f694>\u001b[0m in \u001b[0;36m<module>\u001b[1;34m()\u001b[0m\n\u001b[1;32m----> 1\u001b[1;33m \u001b[1;32mprint\u001b[0m \u001b[0mx\u001b[0m\u001b[1;33m\u001b[0m\u001b[0m\n\u001b[0m",
      "\u001b[1;31mNameError\u001b[0m: name 'x' is not defined"
     ]
    }
   ],
   "source": [
    "print x"
   ]
  },
  {
   "cell_type": "code",
   "execution_count": 5,
   "metadata": {},
   "outputs": [
    {
     "ename": "ZeroDivisionError",
     "evalue": "integer division or modulo by zero",
     "output_type": "error",
     "traceback": [
      "\u001b[1;31m---------------------------------------------------------------------------\u001b[0m",
      "\u001b[1;31mZeroDivisionError\u001b[0m                         Traceback (most recent call last)",
      "\u001b[1;32m<ipython-input-5-aac74bbecd56>\u001b[0m in \u001b[0;36m<module>\u001b[1;34m()\u001b[0m\n\u001b[1;32m----> 1\u001b[1;33m \u001b[1;32mprint\u001b[0m \u001b[1;36m1\u001b[0m\u001b[1;33m/\u001b[0m\u001b[1;36m0\u001b[0m\u001b[1;33m\u001b[0m\u001b[0m\n\u001b[0m",
      "\u001b[1;31mZeroDivisionError\u001b[0m: integer division or modulo by zero"
     ]
    }
   ],
   "source": [
    "print 1/0"
   ]
  },
  {
   "cell_type": "code",
   "execution_count": 6,
   "metadata": {},
   "outputs": [
    {
     "name": "stdout",
     "output_type": "stream",
     "text": [
      "error occured\n",
      "integer division or modulo by zero\n"
     ]
    }
   ],
   "source": [
    "try:\n",
    "    print 1/0\n",
    "except Exception as e:\n",
    "    print \"error occured\"\n",
    "    print e\n",
    "    "
   ]
  },
  {
   "cell_type": "code",
   "execution_count": 7,
   "metadata": {},
   "outputs": [
    {
     "name": "stdout",
     "output_type": "stream",
     "text": [
      "error occured\n",
      "integer division or modulo by zero\n"
     ]
    }
   ],
   "source": [
    "try:\n",
    "    a = 1/0\n",
    "    print \"Hello\"\n",
    "except Exception as e:\n",
    "    print \"error occured\"\n",
    "    print e\n",
    "    "
   ]
  },
  {
   "cell_type": "code",
   "execution_count": 8,
   "metadata": {},
   "outputs": [
    {
     "name": "stdout",
     "output_type": "stream",
     "text": [
      "Hello\n"
     ]
    }
   ],
   "source": [
    "try:\n",
    "    a = 5/2\n",
    "    print \"Hello\"\n",
    "except Exception as e:\n",
    "    print \"error occured\"\n",
    "    print e\n",
    "    "
   ]
  },
  {
   "cell_type": "code",
   "execution_count": 9,
   "metadata": {},
   "outputs": [
    {
     "name": "stdout",
     "output_type": "stream",
     "text": [
      "enter the numerator5\n",
      "enter the denominator2\n"
     ]
    },
    {
     "ename": "TypeError",
     "evalue": "unsupported operand type(s) for /: 'str' and 'str'",
     "output_type": "error",
     "traceback": [
      "\u001b[1;31m---------------------------------------------------------------------------\u001b[0m",
      "\u001b[1;31mTypeError\u001b[0m                                 Traceback (most recent call last)",
      "\u001b[1;32m<ipython-input-9-997e7f1d187c>\u001b[0m in \u001b[0;36m<module>\u001b[1;34m()\u001b[0m\n\u001b[0;32m      1\u001b[0m \u001b[0ma\u001b[0m \u001b[1;33m=\u001b[0m \u001b[0mraw_input\u001b[0m\u001b[1;33m(\u001b[0m\u001b[1;34m\"enter the numerator\"\u001b[0m\u001b[1;33m)\u001b[0m\u001b[1;33m\u001b[0m\u001b[0m\n\u001b[0;32m      2\u001b[0m \u001b[0mb\u001b[0m \u001b[1;33m=\u001b[0m \u001b[0mraw_input\u001b[0m\u001b[1;33m(\u001b[0m\u001b[1;34m\"enter the denominator\"\u001b[0m\u001b[1;33m)\u001b[0m\u001b[1;33m\u001b[0m\u001b[0m\n\u001b[1;32m----> 3\u001b[1;33m \u001b[1;32mprint\u001b[0m \u001b[0ma\u001b[0m\u001b[1;33m/\u001b[0m\u001b[0mb\u001b[0m\u001b[1;33m\u001b[0m\u001b[0m\n\u001b[0m",
      "\u001b[1;31mTypeError\u001b[0m: unsupported operand type(s) for /: 'str' and 'str'"
     ]
    }
   ],
   "source": [
    "a = raw_input(\"enter the numerator\")\n",
    "b = raw_input(\"enter the denominator\")\n",
    "print a/b"
   ]
  },
  {
   "cell_type": "code",
   "execution_count": 11,
   "metadata": {},
   "outputs": [
    {
     "name": "stdout",
     "output_type": "stream",
     "text": [
      "enter the numerator5\n",
      "enter the denominatora\n"
     ]
    },
    {
     "ename": "ValueError",
     "evalue": "invalid literal for int() with base 10: 'a'",
     "output_type": "error",
     "traceback": [
      "\u001b[1;31m---------------------------------------------------------------------------\u001b[0m",
      "\u001b[1;31mValueError\u001b[0m                                Traceback (most recent call last)",
      "\u001b[1;32m<ipython-input-11-35e2ef8e01c8>\u001b[0m in \u001b[0;36m<module>\u001b[1;34m()\u001b[0m\n\u001b[0;32m      1\u001b[0m \u001b[0ma\u001b[0m \u001b[1;33m=\u001b[0m \u001b[0mint\u001b[0m\u001b[1;33m(\u001b[0m\u001b[0mraw_input\u001b[0m\u001b[1;33m(\u001b[0m\u001b[1;34m\"enter the numerator\"\u001b[0m\u001b[1;33m)\u001b[0m\u001b[1;33m)\u001b[0m\u001b[1;33m\u001b[0m\u001b[0m\n\u001b[1;32m----> 2\u001b[1;33m \u001b[0mb\u001b[0m \u001b[1;33m=\u001b[0m \u001b[0mint\u001b[0m\u001b[1;33m(\u001b[0m\u001b[0mraw_input\u001b[0m\u001b[1;33m(\u001b[0m\u001b[1;34m\"enter the denominator\"\u001b[0m\u001b[1;33m)\u001b[0m\u001b[1;33m)\u001b[0m\u001b[1;33m\u001b[0m\u001b[0m\n\u001b[0m\u001b[0;32m      3\u001b[0m \u001b[1;32mprint\u001b[0m \u001b[0ma\u001b[0m\u001b[1;33m/\u001b[0m\u001b[0mb\u001b[0m\u001b[1;33m\u001b[0m\u001b[0m\n",
      "\u001b[1;31mValueError\u001b[0m: invalid literal for int() with base 10: 'a'"
     ]
    }
   ],
   "source": [
    "a = int(raw_input(\"enter the numerator\"))\n",
    "b = int(raw_input(\"enter the denominator\"))\n",
    "print a/b"
   ]
  },
  {
   "cell_type": "code",
   "execution_count": 12,
   "metadata": {},
   "outputs": [
    {
     "name": "stdout",
     "output_type": "stream",
     "text": [
      "enter the numerator5\n",
      "enter the denominator2.5\n"
     ]
    },
    {
     "ename": "ValueError",
     "evalue": "invalid literal for int() with base 10: '2.5'",
     "output_type": "error",
     "traceback": [
      "\u001b[1;31m---------------------------------------------------------------------------\u001b[0m",
      "\u001b[1;31mValueError\u001b[0m                                Traceback (most recent call last)",
      "\u001b[1;32m<ipython-input-12-35e2ef8e01c8>\u001b[0m in \u001b[0;36m<module>\u001b[1;34m()\u001b[0m\n\u001b[0;32m      1\u001b[0m \u001b[0ma\u001b[0m \u001b[1;33m=\u001b[0m \u001b[0mint\u001b[0m\u001b[1;33m(\u001b[0m\u001b[0mraw_input\u001b[0m\u001b[1;33m(\u001b[0m\u001b[1;34m\"enter the numerator\"\u001b[0m\u001b[1;33m)\u001b[0m\u001b[1;33m)\u001b[0m\u001b[1;33m\u001b[0m\u001b[0m\n\u001b[1;32m----> 2\u001b[1;33m \u001b[0mb\u001b[0m \u001b[1;33m=\u001b[0m \u001b[0mint\u001b[0m\u001b[1;33m(\u001b[0m\u001b[0mraw_input\u001b[0m\u001b[1;33m(\u001b[0m\u001b[1;34m\"enter the denominator\"\u001b[0m\u001b[1;33m)\u001b[0m\u001b[1;33m)\u001b[0m\u001b[1;33m\u001b[0m\u001b[0m\n\u001b[0m\u001b[0;32m      3\u001b[0m \u001b[1;32mprint\u001b[0m \u001b[0ma\u001b[0m\u001b[1;33m/\u001b[0m\u001b[0mb\u001b[0m\u001b[1;33m\u001b[0m\u001b[0m\n",
      "\u001b[1;31mValueError\u001b[0m: invalid literal for int() with base 10: '2.5'"
     ]
    }
   ],
   "source": [
    "a = int(raw_input(\"enter the numerator\"))\n",
    "b = int(raw_input(\"enter the denominator\"))\n",
    "print a/b"
   ]
  },
  {
   "cell_type": "code",
   "execution_count": 13,
   "metadata": {},
   "outputs": [
    {
     "name": "stdout",
     "output_type": "stream",
     "text": [
      "enter the numerator5\n",
      "enter the denominator5.5\n",
      "0.909090909091\n"
     ]
    }
   ],
   "source": [
    "a = float(raw_input(\"enter the numerator\"))\n",
    "b = float(raw_input(\"enter the denominator\"))\n",
    "print a/b"
   ]
  },
  {
   "cell_type": "code",
   "execution_count": 14,
   "metadata": {},
   "outputs": [
    {
     "name": "stdout",
     "output_type": "stream",
     "text": [
      "enter the numerator 5\n",
      "enter the denominator a\n"
     ]
    },
    {
     "ename": "ValueError",
     "evalue": "could not convert string to float: a",
     "output_type": "error",
     "traceback": [
      "\u001b[1;31m---------------------------------------------------------------------------\u001b[0m",
      "\u001b[1;31mValueError\u001b[0m                                Traceback (most recent call last)",
      "\u001b[1;32m<ipython-input-14-b196a679f63e>\u001b[0m in \u001b[0;36m<module>\u001b[1;34m()\u001b[0m\n\u001b[0;32m      1\u001b[0m \u001b[0ma\u001b[0m \u001b[1;33m=\u001b[0m \u001b[0mfloat\u001b[0m\u001b[1;33m(\u001b[0m\u001b[0mraw_input\u001b[0m\u001b[1;33m(\u001b[0m\u001b[1;34m\"enter the numerator \"\u001b[0m\u001b[1;33m)\u001b[0m\u001b[1;33m)\u001b[0m\u001b[1;33m\u001b[0m\u001b[0m\n\u001b[1;32m----> 2\u001b[1;33m \u001b[0mb\u001b[0m \u001b[1;33m=\u001b[0m \u001b[0mfloat\u001b[0m\u001b[1;33m(\u001b[0m\u001b[0mraw_input\u001b[0m\u001b[1;33m(\u001b[0m\u001b[1;34m\"enter the denominator \"\u001b[0m\u001b[1;33m)\u001b[0m\u001b[1;33m)\u001b[0m\u001b[1;33m\u001b[0m\u001b[0m\n\u001b[0m\u001b[0;32m      3\u001b[0m \u001b[1;32mprint\u001b[0m \u001b[0ma\u001b[0m\u001b[1;33m/\u001b[0m\u001b[0mb\u001b[0m\u001b[1;33m\u001b[0m\u001b[0m\n",
      "\u001b[1;31mValueError\u001b[0m: could not convert string to float: a"
     ]
    }
   ],
   "source": [
    "a = float(raw_input(\"enter the numerator \"))\n",
    "b = float(raw_input(\"enter the denominator \"))\n",
    "print a/b"
   ]
  },
  {
   "cell_type": "code",
   "execution_count": 15,
   "metadata": {},
   "outputs": [
    {
     "name": "stdout",
     "output_type": "stream",
     "text": [
      "enter the numerator 5\n",
      "enter the denominator 10\n",
      "0.5\n"
     ]
    }
   ],
   "source": [
    "a = raw_input(\"enter the numerator \")\n",
    "b = raw_input(\"enter the denominator \")\n",
    "try:\n",
    "    a = float(a)\n",
    "    b = float(b)\n",
    "    print a/b\n",
    "except exception as e:\n",
    "    print e"
   ]
  },
  {
   "cell_type": "code",
   "execution_count": 17,
   "metadata": {},
   "outputs": [
    {
     "name": "stdout",
     "output_type": "stream",
     "text": [
      "enter the numerator 5\n",
      "enter the denominator nag\n",
      "could not convert string to float: nag\n"
     ]
    }
   ],
   "source": [
    "a = raw_input(\"enter the numerator \")\n",
    "b = raw_input(\"enter the denominator \")\n",
    "try:\n",
    "    a = float(a)\n",
    "    b = float(b)\n",
    "    print a/b\n",
    "except Exception as e:\n",
    "    print e"
   ]
  },
  {
   "cell_type": "code",
   "execution_count": 18,
   "metadata": {},
   "outputs": [
    {
     "name": "stdout",
     "output_type": "stream",
     "text": [
      "enter the numerator 5\n",
      "enter the denominator 0\n",
      "float division by zero\n"
     ]
    }
   ],
   "source": [
    "a = raw_input(\"enter the numerator \")\n",
    "b = raw_input(\"enter the denominator \")\n",
    "try:\n",
    "    a = float(a)\n",
    "    b = float(b)\n",
    "    print a/b\n",
    "except Exception as e:\n",
    "    print e"
   ]
  },
  {
   "cell_type": "code",
   "execution_count": 19,
   "metadata": {},
   "outputs": [
    {
     "name": "stdout",
     "output_type": "stream",
     "text": [
      "enter the numerator 5\n",
      "enter the denominator nag\n",
      "please reenter the values with only numbers and .\n",
      "enter the numerator 10\n",
      "enter the denominator 5\n",
      "2.0\n"
     ]
    }
   ],
   "source": [
    "a = raw_input(\"enter the numerator \")\n",
    "b = raw_input(\"enter the denominator \")\n",
    "try:\n",
    "    a = float(a)\n",
    "    b = float(b)\n",
    "    print a/b\n",
    "except Exception as e:\n",
    "    print \"please reenter the values with only numbers and .\"\n",
    "    a = float(raw_input(\"enter the numerator \"))\n",
    "    b = float(raw_input(\"enter the denominator \"))\n",
    "    print a/b"
   ]
  },
  {
   "cell_type": "code",
   "execution_count": 1,
   "metadata": {},
   "outputs": [
    {
     "name": "stdout",
     "output_type": "stream",
     "text": [
      "enter the numerator nag\n",
      "enter the denominator 5\n",
      "please reenter the values with only numbers and .\n",
      "enter the numerator 10\n",
      "enter the denominator 5\n",
      "2.0\n"
     ]
    }
   ],
   "source": [
    "a = raw_input(\"enter the numerator \")\n",
    "b = raw_input(\"enter the denominator \")\n",
    "try:\n",
    "    a = float(a)\n",
    "    b = float(b)\n",
    "    print a/b\n",
    "except Exception as e:\n",
    "    print \"please reenter the values with only numbers and .\"\n",
    "    a = float(raw_input(\"enter the numerator \"))\n",
    "    b = float(raw_input(\"enter the denominator \"))\n",
    "    print a/b"
   ]
  },
  {
   "cell_type": "code",
   "execution_count": 2,
   "metadata": {},
   "outputs": [
    {
     "name": "stdout",
     "output_type": "stream",
     "text": [
      "enter the numerator 10\n",
      "enter the denominator 0\n",
      "please reenter the values with only numbers and .\n",
      "enter the numerator 10\n",
      "enter the denominator 20\n",
      "0.5\n"
     ]
    }
   ],
   "source": [
    "a = raw_input(\"enter the numerator \")\n",
    "b = raw_input(\"enter the denominator \")\n",
    "try:\n",
    "    a = float(a)\n",
    "    b = float(b)\n",
    "    print a/b\n",
    "except Exception as e:\n",
    "    print \"please reenter the values with only numbers and .\"\n",
    "    a = float(raw_input(\"enter the numerator \"))\n",
    "    b = float(raw_input(\"enter the denominator \"))\n",
    "    print a/b"
   ]
  },
  {
   "cell_type": "code",
   "execution_count": 4,
   "metadata": {},
   "outputs": [
    {
     "name": "stdout",
     "output_type": "stream",
     "text": [
      "enter the numerator 10\n",
      "enter the denominator 0\n"
     ]
    },
    {
     "ename": "ZeroDivisionError",
     "evalue": "float division by zero",
     "output_type": "error",
     "traceback": [
      "\u001b[1;31m---------------------------------------------------------------------------\u001b[0m",
      "\u001b[1;31mZeroDivisionError\u001b[0m                         Traceback (most recent call last)",
      "\u001b[1;32m<ipython-input-4-ae17c9bff955>\u001b[0m in \u001b[0;36m<module>\u001b[1;34m()\u001b[0m\n\u001b[0;32m      4\u001b[0m     \u001b[0ma\u001b[0m \u001b[1;33m=\u001b[0m \u001b[0mfloat\u001b[0m\u001b[1;33m(\u001b[0m\u001b[0ma\u001b[0m\u001b[1;33m)\u001b[0m\u001b[1;33m\u001b[0m\u001b[0m\n\u001b[0;32m      5\u001b[0m     \u001b[0mb\u001b[0m \u001b[1;33m=\u001b[0m \u001b[0mfloat\u001b[0m\u001b[1;33m(\u001b[0m\u001b[0mb\u001b[0m\u001b[1;33m)\u001b[0m\u001b[1;33m\u001b[0m\u001b[0m\n\u001b[1;32m----> 6\u001b[1;33m     \u001b[1;32mprint\u001b[0m \u001b[0ma\u001b[0m\u001b[1;33m/\u001b[0m\u001b[0mb\u001b[0m\u001b[1;33m\u001b[0m\u001b[0m\n\u001b[0m\u001b[0;32m      7\u001b[0m \u001b[1;32mexcept\u001b[0m \u001b[0mValueError\u001b[0m \u001b[1;32mas\u001b[0m \u001b[0me\u001b[0m\u001b[1;33m:\u001b[0m\u001b[1;33m\u001b[0m\u001b[0m\n\u001b[0;32m      8\u001b[0m     \u001b[1;32mprint\u001b[0m \u001b[1;34m\"please reenter the values with only numbers and .\"\u001b[0m\u001b[1;33m\u001b[0m\u001b[0m\n",
      "\u001b[1;31mZeroDivisionError\u001b[0m: float division by zero"
     ]
    }
   ],
   "source": [
    "a = raw_input(\"enter the numerator \")\n",
    "b = raw_input(\"enter the denominator \")\n",
    "try:\n",
    "    a = float(a)\n",
    "    b = float(b)\n",
    "    print a/b\n",
    "except ValueError as e:\n",
    "    print \"please reenter the values with only numbers and .\"\n",
    "    a = float(raw_input(\"enter the numerator \"))\n",
    "    b = float(raw_input(\"enter the denominator \"))\n",
    "    print a/b"
   ]
  },
  {
   "cell_type": "code",
   "execution_count": 5,
   "metadata": {},
   "outputs": [
    {
     "name": "stdout",
     "output_type": "stream",
     "text": [
      "enter the numerator 10\n",
      "enter the denominator nag\n",
      "please reenter the values with only numbers and .\n",
      "enter the numerator 10\n",
      "enter the denominator 2\n",
      "5.0\n"
     ]
    }
   ],
   "source": [
    "a = raw_input(\"enter the numerator \")\n",
    "b = raw_input(\"enter the denominator \")\n",
    "try:\n",
    "    a = float(a)\n",
    "    b = float(b)\n",
    "    print a/b\n",
    "except ValueError as e:\n",
    "    print \"please reenter the values with only numbers and .\"\n",
    "    a = float(raw_input(\"enter the numerator \"))\n",
    "    b = float(raw_input(\"enter the denominator \"))\n",
    "    print a/b"
   ]
  },
  {
   "cell_type": "code",
   "execution_count": 7,
   "metadata": {},
   "outputs": [
    {
     "name": "stdout",
     "output_type": "stream",
     "text": [
      "enter the numerator 10\n",
      "enter the denominator 0\n",
      "Denominator should not be zero\n",
      "Enter denominator other than zero3\n",
      "3.33333333333\n"
     ]
    }
   ],
   "source": [
    "a = raw_input(\"enter the numerator \")\n",
    "b = raw_input(\"enter the denominator \")\n",
    "try:\n",
    "    a = float(a)\n",
    "    b = float(b)\n",
    "    print a/b\n",
    "except ValueError as e:\n",
    "    print \"please reenter the values with only numbers and .\"\n",
    "    a = float(raw_input(\"enter the numerator \"))\n",
    "    b = float(raw_input(\"enter the denominator \"))\n",
    "    print a/b\n",
    "except ZeroDivisionError as er:\n",
    "    print \"Denominator should not be zero\"\n",
    "    b = float(raw_input(\"Enter denominator other than zero\"))\n",
    "    print a/b"
   ]
  },
  {
   "cell_type": "code",
   "execution_count": 8,
   "metadata": {},
   "outputs": [
    {
     "name": "stdout",
     "output_type": "stream",
     "text": [
      "enter the numerator 10\n",
      "enter the denominator nag\n",
      "please reenter the values with only numbers and .\n",
      "enter the numerator 10\n",
      "enter the denominator 3\n",
      "3.33333333333\n"
     ]
    }
   ],
   "source": [
    "a = raw_input(\"enter the numerator \")\n",
    "b = raw_input(\"enter the denominator \")\n",
    "try:\n",
    "    a = float(a)\n",
    "    b = float(b)\n",
    "    print a/b\n",
    "except ValueError as e:\n",
    "    print \"please reenter the values with only numbers and .\"\n",
    "    a = float(raw_input(\"enter the numerator \"))\n",
    "    b = float(raw_input(\"enter the denominator \"))\n",
    "    print a/b\n",
    "except ZeroDivisionError as er:\n",
    "    print \"Denominator should not be zero\"\n",
    "    b = float(raw_input(\"Enter denominator other than zero\"))\n",
    "    print a/b"
   ]
  },
  {
   "cell_type": "code",
   "execution_count": 9,
   "metadata": {},
   "outputs": [
    {
     "name": "stdout",
     "output_type": "stream",
     "text": [
      "enter the numerator 10\n",
      "enter the denominator 3\n",
      "3.33333333333\n"
     ]
    }
   ],
   "source": [
    "a = raw_input(\"enter the numerator \")\n",
    "b = raw_input(\"enter the denominator \")\n",
    "try:\n",
    "    a = float(a)\n",
    "    b = float(b)\n",
    "    print a/b\n",
    "except ValueError as e:\n",
    "    print \"please reenter the values with only numbers and .\"\n",
    "    a = float(raw_input(\"enter the numerator \"))\n",
    "    b = float(raw_input(\"enter the denominator \"))\n",
    "    print a/b\n",
    "except ZeroDivisionError as er:\n",
    "    print \"Denominator should not be zero\"\n",
    "    b = float(raw_input(\"Enter denominator other than zero\"))\n",
    "    print a/b"
   ]
  },
  {
   "cell_type": "code",
   "execution_count": 10,
   "metadata": {},
   "outputs": [
    {
     "name": "stdout",
     "output_type": "stream",
     "text": [
      "enter the numerator 10\n",
      "enter the denominator nag\n",
      "please reenter the values with only numbers and .\n",
      "enter the numerator 10\n",
      "enter the denominator 2\n",
      "5.0\n"
     ]
    }
   ],
   "source": [
    "a = raw_input(\"enter the numerator \")\n",
    "b = raw_input(\"enter the denominator \")\n",
    "try:\n",
    "    a = float(a)\n",
    "    b = float(b)\n",
    "    print a/b\n",
    "    print \"Hello\"\n",
    "except ValueError as e:\n",
    "    print \"please reenter the values with only numbers and .\"\n",
    "    a = float(raw_input(\"enter the numerator \"))\n",
    "    b = float(raw_input(\"enter the denominator \"))\n",
    "    print a/b\n",
    "except ZeroDivisionError as er:\n",
    "    print \"Denominator should not be zero\"\n",
    "    b = float(raw_input(\"Enter denominator other than zero\"))\n",
    "    print a/b"
   ]
  },
  {
   "cell_type": "code",
   "execution_count": 11,
   "metadata": {},
   "outputs": [
    {
     "name": "stdout",
     "output_type": "stream",
     "text": [
      "enter the numerator 10\n",
      "enter the denominator 3\n",
      "3.33333333333\n",
      "Hello\n"
     ]
    }
   ],
   "source": [
    "a = raw_input(\"enter the numerator \")\n",
    "b = raw_input(\"enter the denominator \")\n",
    "try:\n",
    "    a = float(a)\n",
    "    b = float(b)\n",
    "    print a/b\n",
    "    print \"Hello\"\n",
    "except ValueError as e:\n",
    "    print \"please reenter the values with only numbers and .\"\n",
    "    a = float(raw_input(\"enter the numerator \"))\n",
    "    b = float(raw_input(\"enter the denominator \"))\n",
    "    print a/b\n",
    "except ZeroDivisionError as er:\n",
    "    print \"Denominator should not be zero\"\n",
    "    b = float(raw_input(\"Enter denominator other than zero\"))\n",
    "    print a/b"
   ]
  },
  {
   "cell_type": "code",
   "execution_count": 12,
   "metadata": {},
   "outputs": [
    {
     "name": "stdout",
     "output_type": "stream",
     "text": [
      "enter the numerator 10\n",
      "enter the denominator nag\n",
      "dummy\n"
     ]
    }
   ],
   "source": [
    "a = raw_input(\"enter the numerator \")\n",
    "b = raw_input(\"enter the denominator \")\n",
    "try:\n",
    "    a = float(a)\n",
    "    b = float(b)\n",
    "    print a/b\n",
    "    print \"Hello\"\n",
    "except Exception as e:\n",
    "    print \"dummy\"\n",
    "except ValueError as e:\n",
    "    print \"please reenter the values with only numbers and .\"\n",
    "    a = float(raw_input(\"enter the numerator \"))\n",
    "    b = float(raw_input(\"enter the denominator \"))\n",
    "    print a/b\n",
    "except ZeroDivisionError as er:\n",
    "    print \"Denominator should not be zero\"\n",
    "    b = float(raw_input(\"Enter denominator other than zero\"))\n",
    "    print a/b"
   ]
  },
  {
   "cell_type": "code",
   "execution_count": 13,
   "metadata": {},
   "outputs": [
    {
     "name": "stdout",
     "output_type": "stream",
     "text": [
      "enter the numerator 10\n",
      "enter the denominator nag\n",
      "please reenter the values with only numbers and .\n",
      "enter the numerator 10\n",
      "enter the denominator 3\n",
      "3.33333333333\n"
     ]
    }
   ],
   "source": [
    "a = raw_input(\"enter the numerator \")\n",
    "b = raw_input(\"enter the denominator \")\n",
    "try:\n",
    "    a = float(a)\n",
    "    b = float(b)\n",
    "    print a/b\n",
    "    print \"Hello\"\n",
    "except ValueError as e:\n",
    "    print \"please reenter the values with only numbers and .\"\n",
    "    a = float(raw_input(\"enter the numerator \"))\n",
    "    b = float(raw_input(\"enter the denominator \"))\n",
    "    print a/b\n",
    "except ZeroDivisionError as er:\n",
    "    print \"Denominator should not be zero\"\n",
    "    b = float(raw_input(\"Enter denominator other than zero\"))\n",
    "    print a/b\n",
    "except Exception as e:\n",
    "    print \"dummy\""
   ]
  },
  {
   "cell_type": "code",
   "execution_count": 14,
   "metadata": {},
   "outputs": [
    {
     "name": "stdout",
     "output_type": "stream",
     "text": [
      "enter the numerator 10\n",
      "enter the denominator 0\n",
      "Denominator should not be zero\n",
      "Enter denominator other than zero4\n",
      "2.5\n"
     ]
    }
   ],
   "source": [
    "a = raw_input(\"enter the numerator \")\n",
    "b = raw_input(\"enter the denominator \")\n",
    "try:\n",
    "    a = float(a)\n",
    "    b = float(b)\n",
    "    print a/b\n",
    "    print \"Hello\"\n",
    "except ValueError as e:\n",
    "    print \"please reenter the values with only numbers and .\"\n",
    "    a = float(raw_input(\"enter the numerator \"))\n",
    "    b = float(raw_input(\"enter the denominator \"))\n",
    "    print a/b\n",
    "except ArithmeticError as er:\n",
    "    print \"Denominator should not be zero\"\n",
    "    b = float(raw_input(\"Enter denominator other than zero\"))\n",
    "    print a/b\n",
    "except Exception as e:\n",
    "    print \"dummy\""
   ]
  },
  {
   "cell_type": "code",
   "execution_count": 16,
   "metadata": {},
   "outputs": [
    {
     "name": "stdout",
     "output_type": "stream",
     "text": [
      "enter the numerator 10\n",
      "enter the denominator 20\n",
      "Hello\n",
      "0.5\n"
     ]
    }
   ],
   "source": [
    "a = raw_input(\"enter the numerator \")\n",
    "b = raw_input(\"enter the denominator \")\n",
    "try:\n",
    "    a = float(a)\n",
    "    b = float(b)\n",
    "    print \"Hello\"\n",
    "except ValueError as e:\n",
    "    print \"please reenter the values with only numbers and .\"\n",
    "    a = float(raw_input(\"enter the numerator \"))\n",
    "    b = float(raw_input(\"enter the denominator \"))\n",
    "except ArithmeticError as er:\n",
    "    print \"Denominator should not be zero\"\n",
    "    b = float(raw_input(\"Enter denominator other than zero\"))\n",
    "except Exception as e:\n",
    "    print \"dummy\"\n",
    "finally:\n",
    "    print a/b"
   ]
  },
  {
   "cell_type": "code",
   "execution_count": 22,
   "metadata": {},
   "outputs": [
    {
     "name": "stdout",
     "output_type": "stream",
     "text": [
      "enter the numerator 10\n",
      "enter the denominator 0\n",
      "0.0\n",
      "denom cannot be zero\n",
      "Enter denominator other than zero2\n",
      "5.0\n"
     ]
    }
   ],
   "source": [
    "a = raw_input(\"enter the numerator \")\n",
    "b = raw_input(\"enter the denominator \")\n",
    "try:\n",
    "    a = float(a)\n",
    "    b = float(b)\n",
    "    print b\n",
    "    if b == 0.0:\n",
    "        raise ZeroDivisionError(\"denom cannot be zero\")\n",
    "    print \"Hello\"\n",
    "except ValueError as e:\n",
    "    print \"please reenter the values with only numbers and .\"\n",
    "    a = float(raw_input(\"enter the numerator \"))\n",
    "    b = float(raw_input(\"enter the denominator \"))\n",
    "except ZeroDivisionError as er:\n",
    "    print er\n",
    "    b = float(raw_input(\"Enter denominator other than zero\"))\n",
    "except Exception as e:\n",
    "    print \"dummy\"\n",
    "finally:\n",
    "    print a/b"
   ]
  },
  {
   "cell_type": "code",
   "execution_count": 23,
   "metadata": {},
   "outputs": [
    {
     "name": "stdout",
     "output_type": "stream",
     "text": [
      "enter the numerator 10\n",
      "enter the denominator 3\n",
      "3.0\n",
      "Hello\n",
      "3.33333333333\n"
     ]
    }
   ],
   "source": [
    "a = raw_input(\"enter the numerator \")\n",
    "b = raw_input(\"enter the denominator \")\n",
    "try:\n",
    "    a = float(a)\n",
    "    b = float(b)\n",
    "    print b\n",
    "    if b == 0.0:\n",
    "        raise ZeroDivisionError(\"denom cannot be zero\")\n",
    "    print \"Hello\"\n",
    "except ValueError as e:\n",
    "    print \"please reenter the values with only numbers and .\"\n",
    "    a = float(raw_input(\"enter the numerator \"))\n",
    "    b = float(raw_input(\"enter the denominator \"))\n",
    "except ZeroDivisionError as er:\n",
    "    print er\n",
    "    b = float(raw_input(\"Enter denominator other than zero\"))\n",
    "except Exception as e:\n",
    "    print \"dummy\"\n",
    "print a/b"
   ]
  },
  {
   "cell_type": "code",
   "execution_count": 24,
   "metadata": {},
   "outputs": [
    {
     "name": "stdout",
     "output_type": "stream",
     "text": [
      "enter the numerator 10\n",
      "enter the denominator 0\n",
      "0.0\n",
      "denom cannot be zero\n",
      "Enter denominator other than zero3\n",
      "3.33333333333\n"
     ]
    }
   ],
   "source": [
    "a = raw_input(\"enter the numerator \")\n",
    "b = raw_input(\"enter the denominator \")\n",
    "try:\n",
    "    a = float(a)\n",
    "    b = float(b)\n",
    "    print b\n",
    "    if b == 0.0:\n",
    "        raise ZeroDivisionError(\"denom cannot be zero\")\n",
    "    print \"Hello\"\n",
    "except ValueError as e:\n",
    "    print \"please reenter the values with only numbers and .\"\n",
    "    a = float(raw_input(\"enter the numerator \"))\n",
    "    b = float(raw_input(\"enter the denominator \"))\n",
    "except ZeroDivisionError as er:\n",
    "    print er\n",
    "    b = float(raw_input(\"Enter denominator other than zero\"))\n",
    "except Exception as e:\n",
    "    print \"dummy\"\n",
    "print a/b"
   ]
  },
  {
   "cell_type": "code",
   "execution_count": 25,
   "metadata": {},
   "outputs": [
    {
     "name": "stdout",
     "output_type": "stream",
     "text": [
      "20\n"
     ]
    }
   ],
   "source": [
    "def myfun():\n",
    "    try:\n",
    "        5/0\n",
    "        return 10\n",
    "    except:\n",
    "        return 20\n",
    "print myfun()"
   ]
  },
  {
   "cell_type": "code",
   "execution_count": 26,
   "metadata": {},
   "outputs": [
    {
     "name": "stdout",
     "output_type": "stream",
     "text": [
      "10\n"
     ]
    }
   ],
   "source": [
    "def myfun():\n",
    "    try:\n",
    "        return 10\n",
    "    except:\n",
    "        return 20\n",
    "print myfun()"
   ]
  },
  {
   "cell_type": "code",
   "execution_count": 27,
   "metadata": {},
   "outputs": [
    {
     "name": "stdout",
     "output_type": "stream",
     "text": [
      "10\n"
     ]
    }
   ],
   "source": [
    "def myfun():\n",
    "    try:\n",
    "        return 10\n",
    "    except:\n",
    "        return 20\n",
    "    return 30\n",
    "print myfun()"
   ]
  },
  {
   "cell_type": "code",
   "execution_count": 28,
   "metadata": {},
   "outputs": [
    {
     "name": "stdout",
     "output_type": "stream",
     "text": [
      "30\n"
     ]
    }
   ],
   "source": [
    "def myfun():\n",
    "    try:\n",
    "        return 10\n",
    "    except:\n",
    "        return 20\n",
    "    finally:\n",
    "        return 30\n",
    "print myfun()"
   ]
  },
  {
   "cell_type": "code",
   "execution_count": 29,
   "metadata": {},
   "outputs": [
    {
     "name": "stdout",
     "output_type": "stream",
     "text": [
      "30\n"
     ]
    }
   ],
   "source": [
    "def myfun():\n",
    "    try:\n",
    "        5/0\n",
    "        return 10\n",
    "    except:\n",
    "        return 20\n",
    "    finally:\n",
    "        return 30\n",
    "print myfun()"
   ]
  },
  {
   "cell_type": "code",
   "execution_count": 30,
   "metadata": {},
   "outputs": [
    {
     "name": "stdout",
     "output_type": "stream",
     "text": [
      "enter usernamepython\n",
      "enter passwordpython\n"
     ]
    }
   ],
   "source": [
    "user = raw_input(\"enter username\")\n",
    "password = raw_input(\"enter password\")"
   ]
  },
  {
   "cell_type": "code",
   "execution_count": 40,
   "metadata": {},
   "outputs": [],
   "source": [
    "class Myexception(Exception):\n",
    "    pass\n",
    "class InvalidUser(Myexception):\n",
    "    def __init__(self, msg=\"invalid user\", *args):\n",
    "        self.msg = msg\n",
    "        super(InvalidUser, self).__init__(msg)\n",
    "        "
   ]
  },
  {
   "cell_type": "code",
   "execution_count": 33,
   "metadata": {},
   "outputs": [
    {
     "name": "stdout",
     "output_type": "stream",
     "text": [
      "enter the username python\n"
     ]
    }
   ],
   "source": [
    "user = raw_input(\"enter the username \")\n",
    "if user != 'python':\n",
    "    print \"hello\"\n",
    "    raise InvalidUser(\"username can't be a python\")"
   ]
  },
  {
   "cell_type": "code",
   "execution_count": 34,
   "metadata": {},
   "outputs": [
    {
     "data": {
      "text/plain": [
       "'python'"
      ]
     },
     "execution_count": 34,
     "metadata": {},
     "output_type": "execute_result"
    }
   ],
   "source": [
    "user"
   ]
  },
  {
   "cell_type": "code",
   "execution_count": 35,
   "metadata": {},
   "outputs": [
    {
     "data": {
      "text/plain": [
       "False"
      ]
     },
     "execution_count": 35,
     "metadata": {},
     "output_type": "execute_result"
    }
   ],
   "source": [
    "user is 'python'"
   ]
  },
  {
   "cell_type": "code",
   "execution_count": 36,
   "metadata": {},
   "outputs": [
    {
     "data": {
      "text/plain": [
       "True"
      ]
     },
     "execution_count": 36,
     "metadata": {},
     "output_type": "execute_result"
    }
   ],
   "source": [
    "user == 'python'"
   ]
  },
  {
   "cell_type": "code",
   "execution_count": 41,
   "metadata": {},
   "outputs": [
    {
     "name": "stdout",
     "output_type": "stream",
     "text": [
      "enter the username py\n",
      "hello\n"
     ]
    },
    {
     "ename": "InvalidUser",
     "evalue": "username can't be a python",
     "output_type": "error",
     "traceback": [
      "\u001b[1;31m---------------------------------------------------------------------------\u001b[0m",
      "\u001b[1;31mInvalidUser\u001b[0m                               Traceback (most recent call last)",
      "\u001b[1;32m<ipython-input-41-add20972ee76>\u001b[0m in \u001b[0;36m<module>\u001b[1;34m()\u001b[0m\n\u001b[0;32m      2\u001b[0m \u001b[1;32mif\u001b[0m \u001b[0muser\u001b[0m \u001b[1;33m!=\u001b[0m \u001b[1;34m'python'\u001b[0m\u001b[1;33m:\u001b[0m\u001b[1;33m\u001b[0m\u001b[0m\n\u001b[0;32m      3\u001b[0m     \u001b[1;32mprint\u001b[0m \u001b[1;34m\"hello\"\u001b[0m\u001b[1;33m\u001b[0m\u001b[0m\n\u001b[1;32m----> 4\u001b[1;33m     \u001b[1;32mraise\u001b[0m \u001b[0mInvalidUser\u001b[0m\u001b[1;33m(\u001b[0m\u001b[1;34m\"username can't be a python\"\u001b[0m\u001b[1;33m)\u001b[0m\u001b[1;33m\u001b[0m\u001b[0m\n\u001b[0m",
      "\u001b[1;31mInvalidUser\u001b[0m: username can't be a python"
     ]
    }
   ],
   "source": [
    "user = raw_input(\"enter the username \")\n",
    "if user != 'python':\n",
    "    print \"hello\"\n",
    "    raise InvalidUser(\"username can't be a python\")"
   ]
  },
  {
   "cell_type": "code",
   "execution_count": 42,
   "metadata": {},
   "outputs": [
    {
     "name": "stdout",
     "output_type": "stream",
     "text": [
      "enter the username py\n",
      "hello\n",
      "username can't be a python\n",
      "user validated\n"
     ]
    }
   ],
   "source": [
    "user = raw_input(\"enter the username \")\n",
    "try:\n",
    "    if user != 'python':\n",
    "        print \"hello\"\n",
    "        raise InvalidUser(\"username can't be a python\")\n",
    "except InvalidUser as e:\n",
    "    print e\n",
    "print \"user validated\""
   ]
  },
  {
   "cell_type": "code",
   "execution_count": 43,
   "metadata": {},
   "outputs": [
    {
     "name": "stdout",
     "output_type": "stream",
     "text": [
      "enter the username python\n",
      "user validated\n"
     ]
    }
   ],
   "source": [
    "user = raw_input(\"enter the username \")\n",
    "try:\n",
    "    if user != 'python':\n",
    "        print \"hello\"\n",
    "        raise InvalidUser(\"username can't be a python\")\n",
    "except InvalidUser as e:\n",
    "    print e\n",
    "print \"user validated\""
   ]
  },
  {
   "cell_type": "code",
   "execution_count": 46,
   "metadata": {},
   "outputs": [
    {
     "ename": "NameError",
     "evalue": "name 'x' is not defined",
     "output_type": "error",
     "traceback": [
      "\u001b[1;31m---------------------------------------------------------------------------\u001b[0m",
      "\u001b[1;31mNameError\u001b[0m                                 Traceback (most recent call last)",
      "\u001b[1;32m<ipython-input-46-b0d18af471df>\u001b[0m in \u001b[0;36m<module>\u001b[1;34m()\u001b[0m\n\u001b[1;32m----> 1\u001b[1;33m \u001b[1;32mprint\u001b[0m \u001b[0mx\u001b[0m\u001b[1;33m\u001b[0m\u001b[0m\n\u001b[0m\u001b[0;32m      2\u001b[0m \u001b[1;32mprint\u001b[0m \u001b[1;36m5\u001b[0m\u001b[1;33m/\u001b[0m\u001b[1;36m10\u001b[0m\u001b[1;33m\u001b[0m\u001b[0m\n",
      "\u001b[1;31mNameError\u001b[0m: name 'x' is not defined"
     ]
    }
   ],
   "source": [
    "print x\n",
    "print 5/10"
   ]
  },
  {
   "cell_type": "code",
   "execution_count": 47,
   "metadata": {},
   "outputs": [
    {
     "name": "stdout",
     "output_type": "stream",
     "text": [
      "x doesn't exists\n",
      "continue\n"
     ]
    }
   ],
   "source": [
    "try:\n",
    "    print x\n",
    "    print 10/5\n",
    "except:\n",
    "    print \"x doesn't exists\"\n",
    "print \"continue\""
   ]
  },
  {
   "cell_type": "code",
   "execution_count": null,
   "metadata": {},
   "outputs": [],
   "source": []
  }
 ],
 "metadata": {
  "kernelspec": {
   "display_name": "Python 2",
   "language": "python",
   "name": "python2"
  },
  "language_info": {
   "codemirror_mode": {
    "name": "ipython",
    "version": 2
   },
   "file_extension": ".py",
   "mimetype": "text/x-python",
   "name": "python",
   "nbconvert_exporter": "python",
   "pygments_lexer": "ipython2",
   "version": "2.7.15"
  }
 },
 "nbformat": 4,
 "nbformat_minor": 2
}
