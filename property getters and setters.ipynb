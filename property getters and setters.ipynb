{
 "cells": [
  {
   "cell_type": "markdown",
   "metadata": {},
   "source": [
    "# Getter and Setters"
   ]
  },
  {
   "cell_type": "markdown",
   "metadata": {},
   "source": [
    "Encapsulation is the one of the fundamentals of OOPs.  It refers to the bundling of data with the methods that operate on that data.[5] Encapsulation is used to hide the values or state of a structured data object inside a class, preventing unauthorized parties' direct access to them. Publicly accessible methods are generally provided in the class (so-called getters and setters) to access the values, and other client classes call these methods to retrieve and modify the values within the object.\n",
    "\n",
    "Generally we use private and punblic concepts to achive the encapsulation concept. \n",
    "\n",
    "But we use name mangling concept in python. In comparision with languages, If I use __ before the variable or method then is is private variable or method"
   ]
  },
  {
   "cell_type": "markdown",
   "metadata": {},
   "source": [
    "## understanding of private variable or method concept"
   ]
  },
  {
   "cell_type": "code",
   "execution_count": 2,
   "metadata": {},
   "outputs": [],
   "source": [
    "class Myclass():\n",
    "    __a  = 20\n",
    "    b = 30\n",
    "    def __init__(self):\n",
    "        self.__c = 40\n",
    "        self.d = 50"
   ]
  },
  {
   "cell_type": "markdown",
   "metadata": {},
   "source": [
    "In the above program I created a class with two class variables and two instance variables. Out of two class variables, \\_\\_a is a private class variable. and self.\\_\\_c is a private instance variable.\n",
    "\n",
    "Lets go head and create a instance for class and observe the directory or properties of instance"
   ]
  },
  {
   "cell_type": "code",
   "execution_count": 3,
   "metadata": {},
   "outputs": [
    {
     "name": "stdout",
     "output_type": "stream",
     "text": [
      "['_Myclass__a', '_Myclass__c', '__doc__', '__init__', '__module__', 'b', 'd']\n"
     ]
    }
   ],
   "source": [
    "obj = Myclass()\n",
    "print(dir(obj))"
   ]
  },
  {
   "cell_type": "markdown",
   "metadata": {},
   "source": [
    "By observing the directly of instance called obj, It contains only two variable b and d.\n",
    "As a and c are private variables, they have hidden to outside variables.\n",
    "\n",
    "\n",
    "# Why do we need to hide variables or methods?\n",
    "Here we will try to understand this concept in short.\n",
    "In real time, we need to provide restricted access to some data. Only a particular person or group of persons should be able to perform operationson data like as below:\n",
    "1. when we login to interbanking, we would be able to see only balance but not our friends balance.\n",
    "2. By changing the setting in facebook, we can also restrict our friends or public for view our profile.\n",
    "\n",
    "In above two points we are hiding the data"
   ]
  },
  {
   "cell_type": "markdown",
   "metadata": {},
   "source": [
    "# how can we read/modify the private data?\n",
    "\n",
    "By using the getters and setters.\n",
    "\n",
    "# Let\\'s look at getters and setters"
   ]
  },
  {
   "cell_type": "code",
   "execution_count": 6,
   "metadata": {},
   "outputs": [],
   "source": [
    "class Myclass():\n",
    "    __a  = 20\n",
    "    b = 30\n",
    "    def __init__(self):\n",
    "        self.__c = 40\n",
    "        self.d = 50\n",
    "    def getC(self, user):\n",
    "        if user == \"nag\":\n",
    "            return self.__c\n",
    "        else:\n",
    "            return \"Unauthorized\"\n",
    "    def setC(self, c, user):\n",
    "        if user == \"nag\":\n",
    "            self.__c = c\n",
    "            return self.__c\n",
    "        else:\n",
    "            return \"Unauthorized\""
   ]
  },
  {
   "cell_type": "markdown",
   "metadata": {},
   "source": [
    "In the above program getC is getter for private varible c and setC is setter for private variable c.\n",
    "As per the above, only the user __nag__ should be able to read/modify the variable c"
   ]
  },
  {
   "cell_type": "code",
   "execution_count": 7,
   "metadata": {},
   "outputs": [
    {
     "name": "stdout",
     "output_type": "stream",
     "text": [
      "enter the username someuser\n",
      "Unauthorized\n",
      "Unauthorized\n"
     ]
    }
   ],
   "source": [
    "#taking the user value from console\n",
    "user = raw_input(\"enter the username \")\n",
    "# creating instance for class\n",
    "obj = Myclass()\n",
    "print(obj.getC(user))\n",
    "print(obj.setC(100, user))\n"
   ]
  },
  {
   "cell_type": "markdown",
   "metadata": {},
   "source": [
    "# result\n",
    "we can observe that when the user is __someuser__, he won\\'t  be able to either get or set variable c.\n",
    "Now check the result if the user is nag"
   ]
  },
  {
   "cell_type": "code",
   "execution_count": 9,
   "metadata": {},
   "outputs": [
    {
     "name": "stdout",
     "output_type": "stream",
     "text": [
      "enter the username nag\n",
      "40\n",
      "100\n"
     ]
    }
   ],
   "source": [
    "#taking the user value from console\n",
    "user = raw_input(\"enter the username \")\n",
    "# creating instance for class\n",
    "obj = Myclass()\n",
    "print(obj.getC(user))\n",
    "print(obj.setC(100, user))\n"
   ]
  },
  {
   "cell_type": "markdown",
   "metadata": {},
   "source": [
    "# Implementing the getters and setters using python 3.x"
   ]
  },
  {
   "cell_type": "code",
   "execution_count": 26,
   "metadata": {},
   "outputs": [
    {
     "name": "stdout",
     "output_type": "stream",
     "text": [
      "['_Myclass__value', '__doc__', '__init__', '__module__', 'value']\n"
     ]
    }
   ],
   "source": [
    "class Myclass():\n",
    "    def __init__(self, a):\n",
    "        self.__value = a\n",
    "    @property\n",
    "    def value(self):\n",
    "        print(\"Hello World\")\n",
    "        return self.__value\n",
    "    \n",
    "    @value.setter\n",
    "    def value(self, x):\n",
    "        self.__value = 20\n",
    "        \n",
    "obj = Myclass(10)\n",
    "print dir(obj)"
   ]
  },
  {
   "cell_type": "markdown",
   "metadata": {},
   "source": [
    "# Implementing the getters and setters using python 2.x"
   ]
  },
  {
   "cell_type": "code",
   "execution_count": 27,
   "metadata": {},
   "outputs": [
    {
     "name": "stdout",
     "output_type": "stream",
     "text": [
      "['_Myclass__get_value', '_Myclass__set_value', '_Myclass__value', '__doc__', '__init__', '__module__', 'value']\n"
     ]
    }
   ],
   "source": [
    "class Myclass():\n",
    "    def __init__(self, a):\n",
    "        self.__set_value(a)\n",
    "    def __get_value(self):\n",
    "        print(\"Hello World\")\n",
    "        return self.__value\n",
    "    def __set_value(self, x):\n",
    "        self.__value = 20\n",
    "    value = property(__get_value, __set_value)\n",
    "        \n",
    "obj = Myclass(10)\n",
    "print dir(obj)"
   ]
  },
  {
   "cell_type": "code",
   "execution_count": 28,
   "metadata": {},
   "outputs": [
    {
     "name": "stdout",
     "output_type": "stream",
     "text": [
      "Hello World\n"
     ]
    },
    {
     "data": {
      "text/plain": [
       "20"
      ]
     },
     "execution_count": 28,
     "metadata": {},
     "output_type": "execute_result"
    }
   ],
   "source": [
    "obj.value"
   ]
  },
  {
   "cell_type": "code",
   "execution_count": 29,
   "metadata": {},
   "outputs": [],
   "source": [
    "obj.value = 500"
   ]
  },
  {
   "cell_type": "code",
   "execution_count": 30,
   "metadata": {},
   "outputs": [
    {
     "data": {
      "text/plain": [
       "500"
      ]
     },
     "execution_count": 30,
     "metadata": {},
     "output_type": "execute_result"
    }
   ],
   "source": [
    "obj.value"
   ]
  },
  {
   "cell_type": "code",
   "execution_count": null,
   "metadata": {},
   "outputs": [],
   "source": []
  }
 ],
 "metadata": {
  "kernelspec": {
   "display_name": "Python 2",
   "language": "python",
   "name": "python2"
  },
  "language_info": {
   "codemirror_mode": {
    "name": "ipython",
    "version": 2
   },
   "file_extension": ".py",
   "mimetype": "text/x-python",
   "name": "python",
   "nbconvert_exporter": "python",
   "pygments_lexer": "ipython2",
   "version": "2.7.15"
  }
 },
 "nbformat": 4,
 "nbformat_minor": 2
}
