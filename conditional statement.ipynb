{
 "cells": [
  {
   "cell_type": "code",
   "execution_count": 2,
   "metadata": {},
   "outputs": [
    {
     "name": "stdout",
     "output_type": "stream",
     "text": [
      "8\n"
     ]
    }
   ],
   "source": [
    "a = 5\n",
    "b = 3\n",
    "print a+b"
   ]
  },
  {
   "cell_type": "code",
   "execution_count": 3,
   "metadata": {},
   "outputs": [
    {
     "name": "stdout",
     "output_type": "stream",
     "text": [
      "5\n"
     ]
    }
   ],
   "source": [
    "print a"
   ]
  },
  {
   "cell_type": "code",
   "execution_count": 4,
   "metadata": {},
   "outputs": [
    {
     "name": "stdout",
     "output_type": "stream",
     "text": [
      "5\n"
     ]
    }
   ],
   "source": [
    "print a"
   ]
  },
  {
   "cell_type": "code",
   "execution_count": 5,
   "metadata": {},
   "outputs": [
    {
     "name": "stdout",
     "output_type": "stream",
     "text": [
      " Volume in drive D is New Volume\n",
      " Volume Serial Number is 7EF3-2968\n",
      "\n",
      " Directory of D:\\education\\class\\python_9_Feb\n",
      "\n",
      "16-02-2019  15:15    <DIR>          .\n",
      "16-02-2019  15:15    <DIR>          ..\n",
      "16-02-2019  15:11    <DIR>          .ipynb_checkpoints\n",
      "12-02-2019  09:41               360 arth_int.py\n",
      "14-02-2019  09:41               179 assign_int.py\n",
      "14-02-2019  09:48                76 bitbise_int.py\n",
      "16-02-2019  15:15             1,284 conditional statement.ipynb\n",
      "11-02-2019  09:40                21 first.py\n",
      "11-02-2019  09:48                23 idlefirst.py\n",
      "14-02-2019  09:28               516 log_int.py\n",
      "11-02-2019  09:54               150 print.py\n",
      "14-02-2019  09:13               158 rel_int.py\n",
      "               9 File(s)          2,767 bytes\n",
      "               3 Dir(s)  481,719,427,072 bytes free\n"
     ]
    }
   ],
   "source": [
    "! dir"
   ]
  },
  {
   "cell_type": "code",
   "execution_count": 6,
   "metadata": {},
   "outputs": [
    {
     "name": "stdout",
     "output_type": "stream",
     "text": [
      "Requirement already satisfied: requests in c:\\python27\\lib\\site-packages\n",
      "Requirement already satisfied: urllib3<1.25,>=1.21.1 in c:\\python27\\lib\\site-packages (from requests)\n",
      "Requirement already satisfied: certifi>=2017.4.17 in c:\\python27\\lib\\site-packages (from requests)\n",
      "Requirement already satisfied: idna<2.9,>=2.5 in c:\\python27\\lib\\site-packages (from requests)\n",
      "Requirement already satisfied: chardet<3.1.0,>=3.0.2 in c:\\python27\\lib\\site-packages (from requests)\n"
     ]
    },
    {
     "name": "stderr",
     "output_type": "stream",
     "text": [
      "You are using pip version 9.0.3, however version 19.0.2 is available.\n",
      "You should consider upgrading via the 'python -m pip install --upgrade pip' command.\n"
     ]
    }
   ],
   "source": [
    "! pip install requests"
   ]
  },
  {
   "cell_type": "code",
   "execution_count": 7,
   "metadata": {},
   "outputs": [],
   "source": [
    "#executing the statements only when condition satisfies"
   ]
  },
  {
   "cell_type": "code",
   "execution_count": 8,
   "metadata": {},
   "outputs": [],
   "source": [
    "#if <condition>:\n",
    "#    st1\n",
    "#    stn\n",
    "#    |\n",
    "#    |\n",
    "#    stn"
   ]
  },
  {
   "cell_type": "code",
   "execution_count": 9,
   "metadata": {},
   "outputs": [
    {
     "name": "stdout",
     "output_type": "stream",
     "text": [
      "5 is greater\n"
     ]
    }
   ],
   "source": [
    "if 5>3:\n",
    "    print \"5 is greater\""
   ]
  },
  {
   "cell_type": "code",
   "execution_count": 10,
   "metadata": {},
   "outputs": [],
   "source": [
    "if 5<3:\n",
    "    print \"5 is greater\""
   ]
  },
  {
   "cell_type": "code",
   "execution_count": 11,
   "metadata": {},
   "outputs": [
    {
     "name": "stdout",
     "output_type": "stream",
     "text": [
      "starting first if block\n",
      "a is lesser\n",
      "a line before exiting if block\n",
      "exited first if block\n",
      "starting second if bloxk\n",
      "exited second block\n"
     ]
    }
   ],
   "source": [
    "a = 5\n",
    "b = 10\n",
    "c = 15\n",
    "print \"starting first if block\"\n",
    "if a<b:\n",
    "    print \"a is lesser\"\n",
    "    print \"a line before exiting if block\"\n",
    "print \"exited first if block\"\n",
    "print \"starting second if bloxk\"\n",
    "if c<a:\n",
    "    print \"c is lesser\"\n",
    "    print \"a line before exiting if block\"\n",
    "print \"exited second block\""
   ]
  },
  {
   "cell_type": "code",
   "execution_count": 12,
   "metadata": {},
   "outputs": [
    {
     "ename": "IndentationError",
     "evalue": "unexpected indent (<ipython-input-12-cbd7b67fe6d0>, line 3)",
     "output_type": "error",
     "traceback": [
      "\u001b[1;36m  File \u001b[1;32m\"<ipython-input-12-cbd7b67fe6d0>\"\u001b[1;36m, line \u001b[1;32m3\u001b[0m\n\u001b[1;33m    print \"a line before exiting\"\u001b[0m\n\u001b[1;37m    ^\u001b[0m\n\u001b[1;31mIndentationError\u001b[0m\u001b[1;31m:\u001b[0m unexpected indent\n"
     ]
    }
   ],
   "source": [
    "if a<b:\n",
    "    print \"a is lesser\"\n",
    "      print \"a line before exiting\""
   ]
  },
  {
   "cell_type": "code",
   "execution_count": 13,
   "metadata": {},
   "outputs": [
    {
     "ename": "IndentationError",
     "evalue": "unexpected indent (<ipython-input-13-8f4885f21689>, line 4)",
     "output_type": "error",
     "traceback": [
      "\u001b[1;36m  File \u001b[1;32m\"<ipython-input-13-8f4885f21689>\"\u001b[1;36m, line \u001b[1;32m4\u001b[0m\n\u001b[1;33m    print \"b is not greater\"\u001b[0m\n\u001b[1;37m    ^\u001b[0m\n\u001b[1;31mIndentationError\u001b[0m\u001b[1;31m:\u001b[0m unexpected indent\n"
     ]
    }
   ],
   "source": [
    "if a<b:\n",
    "    print \"a is lesser\"\n",
    "print \"hello\"\n",
    "    print \"b is not greater\""
   ]
  },
  {
   "cell_type": "code",
   "execution_count": 14,
   "metadata": {},
   "outputs": [
    {
     "name": "stdout",
     "output_type": "stream",
     "text": [
      "starting first if block\n",
      "a is lesser\n",
      "a line before exiting if block\n"
     ]
    }
   ],
   "source": [
    "a = 5\n",
    "b = 10\n",
    "c = 15\n",
    "print \"starting first if block\"\n",
    "if a<b:\n",
    "  print \"a is lesser\"\n",
    "  print \"a line before exiting if block\""
   ]
  },
  {
   "cell_type": "code",
   "execution_count": 15,
   "metadata": {},
   "outputs": [
    {
     "name": "stdout",
     "output_type": "stream",
     "text": [
      "1st statement inside if\n",
      "b is greater\n",
      "a statement before exiting\n",
      "if completed\n"
     ]
    }
   ],
   "source": [
    "#1. execute block of only if condition satisfies\n",
    "a = 10\n",
    "b = 20\n",
    "if b>a:\n",
    "    print \"1st statement inside if\"\n",
    "    print \"b is greater\"\n",
    "    print \"a statement before exiting\"\n",
    "print \"if completed\""
   ]
  },
  {
   "cell_type": "code",
   "execution_count": 16,
   "metadata": {},
   "outputs": [
    {
     "name": "stdout",
     "output_type": "stream",
     "text": [
      "if completed\n"
     ]
    }
   ],
   "source": [
    "if a>b:\n",
    "    print \"1st statement inside if\"\n",
    "    print \"a is greater\"\n",
    "    print \"a statement before exiting\"\n",
    "print \"if completed\""
   ]
  },
  {
   "cell_type": "code",
   "execution_count": 17,
   "metadata": {},
   "outputs": [
    {
     "name": "stdout",
     "output_type": "stream",
     "text": [
      "10 20 15\n"
     ]
    }
   ],
   "source": [
    "#execute block of statements based on compound condition\n",
    "c = 15\n",
    "print a,b,c"
   ]
  },
  {
   "cell_type": "code",
   "execution_count": 18,
   "metadata": {},
   "outputs": [],
   "source": [
    "if a>b and a>c:\n",
    "    print \"a is greater\""
   ]
  },
  {
   "cell_type": "code",
   "execution_count": 19,
   "metadata": {},
   "outputs": [
    {
     "name": "stdout",
     "output_type": "stream",
     "text": [
      "b is greater\n"
     ]
    }
   ],
   "source": [
    "if a>b and a>c:\n",
    "    print \"a is greater\"\n",
    "if b>a and b>c:\n",
    "    print \"b is greater\"\n",
    "if c>a and c>b:\n",
    "    print \"c is greater\""
   ]
  },
  {
   "cell_type": "code",
   "execution_count": 20,
   "metadata": {},
   "outputs": [
    {
     "name": "stdout",
     "output_type": "stream",
     "text": [
      "b is greater\n"
     ]
    }
   ],
   "source": [
    "#execute block of statement if condition satisfies other execute alternative block of statements\n",
    "if a>b:\n",
    "    print \"a is greater\"\n",
    "else:\n",
    "    print \"b is greater\""
   ]
  },
  {
   "cell_type": "code",
   "execution_count": 21,
   "metadata": {},
   "outputs": [
    {
     "name": "stdout",
     "output_type": "stream",
     "text": [
      "a is greater\n"
     ]
    }
   ],
   "source": [
    "if a<b:\n",
    "    print \"a is greater\"\n",
    "else:\n",
    "    print \"b is greater\""
   ]
  },
  {
   "cell_type": "code",
   "execution_count": 23,
   "metadata": {},
   "outputs": [
    {
     "name": "stdout",
     "output_type": "stream",
     "text": [
      "withdrawn Rs 1000\n"
     ]
    }
   ],
   "source": [
    "#having multiple alternative\n",
    "#elif \n",
    "amount = 1000\n",
    "if amount>=1000:\n",
    "    print \"withdrawn Rs 1000\"\n",
    "elif amount>500:\n",
    "    print \"withdrawn Rs 500\"\n",
    "elif amount>200:\n",
    "    print \"withdrawn Rs 200\"\n",
    "else:\n",
    "    print \"no balance\""
   ]
  },
  {
   "cell_type": "code",
   "execution_count": 24,
   "metadata": {},
   "outputs": [
    {
     "name": "stdout",
     "output_type": "stream",
     "text": [
      "b is greater\n"
     ]
    }
   ],
   "source": [
    "if a>b and a>c:\n",
    "    print \"a is greater\"\n",
    "elif b>c:\n",
    "    print \"b is greater\"\n",
    "else:\n",
    "    print \"c is greater\""
   ]
  },
  {
   "cell_type": "code",
   "execution_count": 25,
   "metadata": {},
   "outputs": [
    {
     "name": "stdout",
     "output_type": "stream",
     "text": [
      "a is greater\n"
     ]
    }
   ],
   "source": [
    "a = 50\n",
    "b = 30\n",
    "c = 15\n",
    "if a>b and a>c:\n",
    "    print \"a is greater\"\n",
    "elif b>c:\n",
    "    print \"b is greater\"\n",
    "else:\n",
    "    print \"c is greater\""
   ]
  },
  {
   "cell_type": "code",
   "execution_count": 26,
   "metadata": {},
   "outputs": [
    {
     "name": "stdout",
     "output_type": "stream",
     "text": [
      "c is greater\n"
     ]
    }
   ],
   "source": [
    "a = 50\n",
    "b = 30\n",
    "c = 55\n",
    "if a>b and a>c:\n",
    "    print \"a is greater\"\n",
    "elif b>c:\n",
    "    print \"b is greater\"\n",
    "else:\n",
    "    print \"c is greater\""
   ]
  },
  {
   "cell_type": "code",
   "execution_count": 28,
   "metadata": {},
   "outputs": [
    {
     "name": "stdout",
     "output_type": "stream",
     "text": [
      "a is even number 50\n"
     ]
    }
   ],
   "source": [
    "if a%2==0:\n",
    "    print \"a is even number\", a"
   ]
  },
  {
   "cell_type": "code",
   "execution_count": 29,
   "metadata": {},
   "outputs": [
    {
     "name": "stdout",
     "output_type": "stream",
     "text": [
      "a is even number 50\n"
     ]
    }
   ],
   "source": [
    "if not a%2:\n",
    "    print \"a is even number\", a"
   ]
  },
  {
   "cell_type": "code",
   "execution_count": 30,
   "metadata": {},
   "outputs": [
    {
     "data": {
      "text/plain": [
       "False"
      ]
     },
     "execution_count": 30,
     "metadata": {},
     "output_type": "execute_result"
    }
   ],
   "source": [
    "bool(0)"
   ]
  },
  {
   "cell_type": "code",
   "execution_count": 31,
   "metadata": {},
   "outputs": [
    {
     "data": {
      "text/plain": [
       "True"
      ]
     },
     "execution_count": 31,
     "metadata": {},
     "output_type": "execute_result"
    }
   ],
   "source": [
    "bool(5)"
   ]
  },
  {
   "cell_type": "code",
   "execution_count": 32,
   "metadata": {},
   "outputs": [
    {
     "ename": "SyntaxError",
     "evalue": "invalid syntax (<ipython-input-32-45d427d361c8>, line 1)",
     "output_type": "error",
     "traceback": [
      "\u001b[1;36m  File \u001b[1;32m\"<ipython-input-32-45d427d361c8>\"\u001b[1;36m, line \u001b[1;32m1\u001b[0m\n\u001b[1;33m    if not a%2=0:\u001b[0m\n\u001b[1;37m              ^\u001b[0m\n\u001b[1;31mSyntaxError\u001b[0m\u001b[1;31m:\u001b[0m invalid syntax\n"
     ]
    }
   ],
   "source": [
    "if not a%2=0:\n",
    "    print \"a is even number\", a"
   ]
  },
  {
   "cell_type": "code",
   "execution_count": null,
   "metadata": {},
   "outputs": [],
   "source": []
  }
 ],
 "metadata": {
  "kernelspec": {
   "display_name": "Python 2",
   "language": "python",
   "name": "python2"
  },
  "language_info": {
   "codemirror_mode": {
    "name": "ipython",
    "version": 2
   },
   "file_extension": ".py",
   "mimetype": "text/x-python",
   "name": "python",
   "nbconvert_exporter": "python",
   "pygments_lexer": "ipython2",
   "version": "2.7.15"
  }
 },
 "nbformat": 4,
 "nbformat_minor": 2
}
